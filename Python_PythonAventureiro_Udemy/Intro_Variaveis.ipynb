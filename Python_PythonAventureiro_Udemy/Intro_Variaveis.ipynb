{
 "cells": [
  {
   "cell_type": "markdown",
   "id": "35883cc3-981c-408f-9559-1ca4b737d377",
   "metadata": {},
   "source": [
    "Variável é um espaço na memória que usamos para guardar algum tipo de dado"
   ]
  },
  {
   "cell_type": "code",
   "execution_count": 7,
   "id": "8e35e326-c70c-4284-9616-5d785e12f58b",
   "metadata": {},
   "outputs": [],
   "source": [
    "# variável é ....."
   ]
  },
  {
   "cell_type": "code",
   "execution_count": null,
   "id": "c923ac7c-23bd-4ed3-a49f-11d9c97aeca2",
   "metadata": {},
   "outputs": [],
   "source": [
    "Nomenclatura de variáveis\n",
    "-- começar com uma letra o underscore\n",
    "-- pode ter conter números e underscore, mas não pode começar com números\n",
    "-- Não pode conter caracteres especiais\n",
    "-- Para separar palavras no nome da variável usar underscore"
   ]
  },
  {
   "cell_type": "code",
   "execution_count": null,
   "id": "8e6ec0b3-0cf9-4471-a453-8fc0b2613944",
   "metadata": {},
   "outputs": [],
   "source": []
  }
 ],
 "metadata": {
  "kernelspec": {
   "display_name": "Python 3 (ipykernel)",
   "language": "python",
   "name": "python3"
  },
  "language_info": {
   "codemirror_mode": {
    "name": "ipython",
    "version": 3
   },
   "file_extension": ".py",
   "mimetype": "text/x-python",
   "name": "python",
   "nbconvert_exporter": "python",
   "pygments_lexer": "ipython3",
   "version": "3.12.7"
  }
 },
 "nbformat": 4,
 "nbformat_minor": 5
}
