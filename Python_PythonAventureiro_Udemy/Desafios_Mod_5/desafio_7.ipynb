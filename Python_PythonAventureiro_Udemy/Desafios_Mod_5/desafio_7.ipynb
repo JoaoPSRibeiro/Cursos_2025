{
 "cells": [
  {
   "cell_type": "markdown",
   "id": "73cc8fa0-0f86-42b3-b4b7-35eb90b2a425",
   "metadata": {},
   "source": [
    "Escreva um programa para aprovar o empréstimo bancário para a compra de uma casa. \n",
    "Pergunte o valor da casa, \n",
    "o salário do comprador e em \n",
    "quantos anos ele vai pagar. \n",
    "\n",
    "A prestação mensal não pode exceder 30% do salário ou então o empréstimo será negado."
   ]
  },
  {
   "cell_type": "code",
   "execution_count": 40,
   "id": "8929eca7-6240-4d6f-b8b8-cf2e72592459",
   "metadata": {},
   "outputs": [
    {
     "name": "stdin",
     "output_type": "stream",
     "text": [
      "Digite o valor da casa:  500000\n"
     ]
    }
   ],
   "source": [
    "casa = int(input('Digite o valor da casa: '))"
   ]
  },
  {
   "cell_type": "code",
   "execution_count": 44,
   "id": "a5a045ac-a1d4-453c-9e6e-cd8c11b99d4b",
   "metadata": {},
   "outputs": [
    {
     "name": "stdin",
     "output_type": "stream",
     "text": [
      "Qual sua renda mensal?  5000\n"
     ]
    }
   ],
   "source": [
    "salario = float(input('Qual sua renda mensal? '))"
   ]
  },
  {
   "cell_type": "code",
   "execution_count": 48,
   "id": "265f70d8-bcdf-460f-b7ba-01f17e25fd7b",
   "metadata": {},
   "outputs": [
    {
     "name": "stdin",
     "output_type": "stream",
     "text": [
      "Em quantos anos quer pagar a casa?  10\n"
     ]
    }
   ],
   "source": [
    "anos= int(input('Em quantos anos quer pagar a casa? '))"
   ]
  },
  {
   "cell_type": "code",
   "execution_count": 50,
   "id": "75458723-da7b-4259-90d2-0f567fa59922",
   "metadata": {},
   "outputs": [],
   "source": [
    "prestacoes = anos * 12"
   ]
  },
  {
   "cell_type": "code",
   "execution_count": 52,
   "id": "d854bf1c-5b63-4171-8bfe-4283ec12c14d",
   "metadata": {},
   "outputs": [],
   "source": [
    "parcelas = casa / prestacoes"
   ]
  },
  {
   "cell_type": "code",
   "execution_count": 54,
   "id": "b1502255-fd70-4308-838f-608b2a4251ef",
   "metadata": {},
   "outputs": [
    {
     "data": {
      "text/plain": [
       "4166.666666666667"
      ]
     },
     "execution_count": 54,
     "metadata": {},
     "output_type": "execute_result"
    }
   ],
   "source": [
    "parcelas"
   ]
  },
  {
   "cell_type": "code",
   "execution_count": 56,
   "id": "daf08ecb-9e29-4616-93ed-79ba064cd17c",
   "metadata": {},
   "outputs": [],
   "source": [
    "sal_30 = salario * 30/100"
   ]
  },
  {
   "cell_type": "code",
   "execution_count": 60,
   "id": "6722989c-58c3-4ec7-9abe-a4947c637966",
   "metadata": {},
   "outputs": [
    {
     "name": "stdout",
     "output_type": "stream",
     "text": [
      "O Valor de R$ 4166.67 ultrapassa 30% do seu salário e não poderemos aprovar seu financiamento.\n"
     ]
    }
   ],
   "source": [
    "if parcelas > sal_30:\n",
    "    print(f'O Valor de R$ {parcelas:.2f} ultrapassa 30% do seu salário e não poderemos aprovar seu financiamento.')\n",
    "else:\n",
    "    print('Financiamento Aprovado, parabéns!')"
   ]
  },
  {
   "cell_type": "code",
   "execution_count": null,
   "id": "8455bc99-c007-45a5-9ee3-7a1faf3875bc",
   "metadata": {},
   "outputs": [],
   "source": []
  }
 ],
 "metadata": {
  "kernelspec": {
   "display_name": "Python 3 (ipykernel)",
   "language": "python",
   "name": "python3"
  },
  "language_info": {
   "codemirror_mode": {
    "name": "ipython",
    "version": 3
   },
   "file_extension": ".py",
   "mimetype": "text/x-python",
   "name": "python",
   "nbconvert_exporter": "python",
   "pygments_lexer": "ipython3",
   "version": "3.12.7"
  }
 },
 "nbformat": 4,
 "nbformat_minor": 5
}
