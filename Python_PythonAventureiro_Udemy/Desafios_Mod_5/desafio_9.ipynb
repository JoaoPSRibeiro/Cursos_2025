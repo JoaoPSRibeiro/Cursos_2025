{
 "cells": [
  {
   "cell_type": "markdown",
   "id": "90c7e770-833a-4a63-9315-ca4aa35cdcb7",
   "metadata": {},
   "source": [
    "Faça um programa que leia o ano de nascimento de um jovem e informe, de acordo com a sua idade, se ele ainda vai se alistar ao serviço militar, se é a hora exata de se alistar ou se já passou do tempo do alistamento. Seu programa também deverá mostrar o tempo que falta ou que passou do prazo."
   ]
  },
  {
   "cell_type": "code",
   "execution_count": 41,
   "id": "eb960caf-9d38-4339-a7df-407044ea694d",
   "metadata": {},
   "outputs": [
    {
     "name": "stdin",
     "output_type": "stream",
     "text": [
      "Digite o ano do seu nascimento:  2018\n"
     ]
    }
   ],
   "source": [
    "nasc = int(input('Digite o ano do seu nascimento: '))"
   ]
  },
  {
   "cell_type": "code",
   "execution_count": 43,
   "id": "4cef5e62-dc40-4f40-9f43-863c81fe9100",
   "metadata": {},
   "outputs": [],
   "source": [
    "atual = 2025"
   ]
  },
  {
   "cell_type": "code",
   "execution_count": 45,
   "id": "6a35fd34-9987-4f64-a6fd-23eba389d0cf",
   "metadata": {},
   "outputs": [],
   "source": [
    "idade = atual - nasc"
   ]
  },
  {
   "cell_type": "code",
   "execution_count": 47,
   "id": "544b3723-05c9-4298-906a-0243e26edb60",
   "metadata": {},
   "outputs": [
    {
     "name": "stdout",
     "output_type": "stream",
     "text": [
      "Você ainda tem 7 e faltam 11 para que você se aliste!\n"
     ]
    }
   ],
   "source": [
    "if idade == 18:\n",
    "    print('É hora de se alistar!!!')\n",
    "elif idade > 18:\n",
    "    print(f'Você tem {idade} e deveria ter se alistado fazem {idade-18} anos.')\n",
    "elif idade < 18:\n",
    "    print(f'Você ainda tem {idade} anos e faltam {18-idade} anos para que você se aliste!')"
   ]
  },
  {
   "cell_type": "code",
   "execution_count": null,
   "id": "61c1b7b4-955d-41a3-9ad5-49e7c1a0c36a",
   "metadata": {},
   "outputs": [],
   "source": []
  }
 ],
 "metadata": {
  "kernelspec": {
   "display_name": "Python 3 (ipykernel)",
   "language": "python",
   "name": "python3"
  },
  "language_info": {
   "codemirror_mode": {
    "name": "ipython",
    "version": 3
   },
   "file_extension": ".py",
   "mimetype": "text/x-python",
   "name": "python",
   "nbconvert_exporter": "python",
   "pygments_lexer": "ipython3",
   "version": "3.12.7"
  }
 },
 "nbformat": 4,
 "nbformat_minor": 5
}
