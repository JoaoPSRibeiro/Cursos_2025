{
 "cells": [
  {
   "cell_type": "raw",
   "id": "dd7d841d-72a6-4b1b-9204-ced2cc4ba760",
   "metadata": {},
   "source": [
    "Escreva um programa que pergunte a \n",
    "quantidade de Km percorridos por um carro alugado, \n",
    "a quantidade de dias pelos quais ele foi alugado \n",
    "e se o cliente faz parte do programa de fidelidade da loja.\n",
    "\n",
    "Calcule o preço a pagar, sabendo que o carro custa R\\$ 60 por dia e R\\$ 0,15 por Km rodado para clientes não participantes do programa de fidelidade e \n",
    "R\\$ 58 a diária mais R\\$ 0,05 por Km rodado para clientes participantes do programa de fidelidade."
   ]
  },
  {
   "cell_type": "code",
   "execution_count": 6,
   "id": "07726c70-8472-4953-89f5-a0729503e78f",
   "metadata": {},
   "outputs": [
    {
     "name": "stdin",
     "output_type": "stream",
     "text": [
      "Digite o número de KM rodados:  50\n"
     ]
    }
   ],
   "source": [
    "km = float(input('Digite o número de KM rodados: '))"
   ]
  },
  {
   "cell_type": "code",
   "execution_count": 26,
   "id": "3976c0bb-0c34-4096-afb4-580d6944bb63",
   "metadata": {},
   "outputs": [
    {
     "name": "stdin",
     "output_type": "stream",
     "text": [
      "Você ficou quantos dias com  carro?  60\n"
     ]
    }
   ],
   "source": [
    "dias = int(input('Você ficou quantos dias com  carro? '))"
   ]
  },
  {
   "cell_type": "code",
   "execution_count": 60,
   "id": "e6fbf094-be1e-4949-a644-9881f39916fe",
   "metadata": {},
   "outputs": [
    {
     "name": "stdin",
     "output_type": "stream",
     "text": [
      "Você é cliente do Nosso Clube de Fidelidade? S/N :  n\n"
     ]
    }
   ],
   "source": [
    "fidel = str(input('Você é cliente do Nosso Clube de Fidelidade? S/N : '))"
   ]
  },
  {
   "cell_type": "code",
   "execution_count": 30,
   "id": "92457124-2248-480b-9f6c-0f5052d9ddd2",
   "metadata": {},
   "outputs": [],
   "source": [
    "cl_fidel = (dias * 58) + (km * 0.05)"
   ]
  },
  {
   "cell_type": "code",
   "execution_count": 32,
   "id": "65c74da8-d771-43c6-a616-d1e35a61bc7a",
   "metadata": {},
   "outputs": [],
   "source": [
    "cl_n_fidel = (dias * 60) + (km * 0.15)"
   ]
  },
  {
   "cell_type": "code",
   "execution_count": 62,
   "id": "39f28791-4282-4abe-a6ad-13e85820fcc7",
   "metadata": {},
   "outputs": [
    {
     "name": "stdout",
     "output_type": "stream",
     "text": [
      "Cliente novo\n"
     ]
    }
   ],
   "source": [
    "if fidel.upper() == \"S\":\n",
    "    print('Cliente fiel')\n",
    "else:\n",
    "    print('Cliente novo')"
   ]
  },
  {
   "cell_type": "code",
   "execution_count": null,
   "id": "0d461469-47f0-434b-8350-d284bb79ea80",
   "metadata": {},
   "outputs": [],
   "source": []
  }
 ],
 "metadata": {
  "kernelspec": {
   "display_name": "Python 3 (ipykernel)",
   "language": "python",
   "name": "python3"
  },
  "language_info": {
   "codemirror_mode": {
    "name": "ipython",
    "version": 3
   },
   "file_extension": ".py",
   "mimetype": "text/x-python",
   "name": "python",
   "nbconvert_exporter": "python",
   "pygments_lexer": "ipython3",
   "version": "3.12.7"
  }
 },
 "nbformat": 4,
 "nbformat_minor": 5
}
