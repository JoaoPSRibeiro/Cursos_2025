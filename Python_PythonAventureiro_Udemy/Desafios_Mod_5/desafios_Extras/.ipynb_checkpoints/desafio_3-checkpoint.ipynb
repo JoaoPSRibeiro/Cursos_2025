{
 "cells": [
  {
   "cell_type": "markdown",
   "id": "5387857f-8ab9-464b-b2d6-7eb2dca1a54a",
   "metadata": {},
   "source": [
    "Faça um Programa que verifique se uma letra digitada é \"F\" ou \"M\". \n",
    "Conforme a letra escrever: F - Feminino, M - Masculino, Sexo Inválido."
   ]
  },
  {
   "cell_type": "code",
   "execution_count": 16,
   "id": "0cad9f8a-e67f-478a-83c8-465538ecc3c4",
   "metadata": {},
   "outputs": [
    {
     "name": "stdin",
     "output_type": "stream",
     "text": [
      "Digite o sexo da pessoa: M/F m\n"
     ]
    }
   ],
   "source": [
    "sexo = input('Digite o sexo da pessoa: M/F')"
   ]
  },
  {
   "cell_type": "code",
   "execution_count": 18,
   "id": "3c6db3bb-d99b-479d-ac88-9f377899caf3",
   "metadata": {},
   "outputs": [
    {
     "name": "stdout",
     "output_type": "stream",
     "text": [
      "Sexo Masculino.\n"
     ]
    }
   ],
   "source": [
    "if sexo.upper() == 'F':\n",
    "    print('Sexo Feminino.')\n",
    "elif sexo.upper() == 'M':\n",
    "    print('Sexo Masculino.')\n",
    "else:\n",
    "    print('Sexo Inválido.')\n",
    "    "
   ]
  },
  {
   "cell_type": "code",
   "execution_count": null,
   "id": "29252d2b-f0e6-4f95-bde1-cafaae0dfa4d",
   "metadata": {},
   "outputs": [],
   "source": []
  }
 ],
 "metadata": {
  "kernelspec": {
   "display_name": "Python 3 (ipykernel)",
   "language": "python",
   "name": "python3"
  },
  "language_info": {
   "codemirror_mode": {
    "name": "ipython",
    "version": 3
   },
   "file_extension": ".py",
   "mimetype": "text/x-python",
   "name": "python",
   "nbconvert_exporter": "python",
   "pygments_lexer": "ipython3",
   "version": "3.12.7"
  }
 },
 "nbformat": 4,
 "nbformat_minor": 5
}
