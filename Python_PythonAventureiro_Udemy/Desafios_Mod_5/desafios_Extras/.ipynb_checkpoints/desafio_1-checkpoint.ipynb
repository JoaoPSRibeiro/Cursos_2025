{
 "cells": [
  {
   "cell_type": "markdown",
   "id": "246056af-e3ef-442a-b253-0bbe06954c4a",
   "metadata": {},
   "source": [
    "Faça um Programa que peça dois números e imprima o maior deles."
   ]
  },
  {
   "cell_type": "code",
   "execution_count": 3,
   "id": "9470eda3-456a-44f6-a09c-a9d96bf49ae7",
   "metadata": {},
   "outputs": [
    {
     "name": "stdin",
     "output_type": "stream",
     "text": [
      "Digite o primeiro valor:  10\n"
     ]
    }
   ],
   "source": [
    "valor1 = int(input('Digite o primeiro valor: '))"
   ]
  },
  {
   "cell_type": "code",
   "execution_count": 5,
   "id": "ea667b9e-c8d5-45ca-be55-575bcea86442",
   "metadata": {},
   "outputs": [
    {
     "name": "stdin",
     "output_type": "stream",
     "text": [
      "Digite o segundo gvalor:  15\n"
     ]
    }
   ],
   "source": [
    "valor2 = int(input('Digite o segundo gvalor: '))\n"
   ]
  },
  {
   "cell_type": "code",
   "execution_count": 11,
   "id": "d17e5dc3-29ca-4335-9816-72fd2a36e1e0",
   "metadata": {},
   "outputs": [
    {
     "name": "stdout",
     "output_type": "stream",
     "text": [
      "O valor 15 é maior que o valor 10.\n"
     ]
    }
   ],
   "source": [
    "if valor1 > valor2:\n",
    "    print(f'O valor {valor1} é maior que o valor {valor2}.')\n",
    "elif valor2 > valor1:\n",
    "    print(f'O valor {valor2} é maior que o valor {valor1}.')\n",
    "else:\n",
    "    print('Não há maior ou menor, eles são iguais!!')"
   ]
  },
  {
   "cell_type": "code",
   "execution_count": null,
   "id": "7dc0d503-11e6-4011-b933-80d50a25cbbf",
   "metadata": {},
   "outputs": [],
   "source": []
  }
 ],
 "metadata": {
  "kernelspec": {
   "display_name": "Python 3 (ipykernel)",
   "language": "python",
   "name": "python3"
  },
  "language_info": {
   "codemirror_mode": {
    "name": "ipython",
    "version": 3
   },
   "file_extension": ".py",
   "mimetype": "text/x-python",
   "name": "python",
   "nbconvert_exporter": "python",
   "pygments_lexer": "ipython3",
   "version": "3.12.7"
  }
 },
 "nbformat": 4,
 "nbformat_minor": 5
}
