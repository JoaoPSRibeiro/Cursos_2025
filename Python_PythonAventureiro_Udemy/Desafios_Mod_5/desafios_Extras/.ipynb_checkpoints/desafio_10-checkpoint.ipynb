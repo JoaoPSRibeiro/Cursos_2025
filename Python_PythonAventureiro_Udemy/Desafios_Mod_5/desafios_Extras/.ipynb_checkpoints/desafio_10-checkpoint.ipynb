{
 "cells": [
  {
   "cell_type": "markdown",
   "id": "f6e61077-d8ea-419c-be64-94adf17a9357",
   "metadata": {},
   "source": [
    "Faça um Programa que pergunte em que turno você estuda. \n",
    "\n",
    "Peça para digitar \n",
    "M-matutino ou \n",
    "V-Vespertino ou \n",
    "N- Noturno. \n",
    "\n",
    "Imprima a mensagem \"Bom Dia!\", \"Boa Tarde!\" ou \"Boa Noite!\" ou \"Valor Inválido!\", conforme o caso."
   ]
  },
  {
   "cell_type": "code",
   "execution_count": 9,
   "id": "97ed1a96-cf38-4804-a249-ccf309da409f",
   "metadata": {},
   "outputs": [
    {
     "name": "stdin",
     "output_type": "stream",
     "text": [
      "Digite seu horário de aulas: M - Matutino -- V - Vespertino -- N - Noturno:  n\n"
     ]
    }
   ],
   "source": [
    "periodo = input('Digite seu horário de aulas: M - Matutino -- V - Vespertino -- N - Noturno: ')"
   ]
  },
  {
   "cell_type": "code",
   "execution_count": 11,
   "id": "c2a2b2a0-50df-44ac-b060-1690c3e1aa01",
   "metadata": {},
   "outputs": [
    {
     "name": "stdout",
     "output_type": "stream",
     "text": [
      "Boa Noite!!!\n"
     ]
    }
   ],
   "source": [
    "if periodo.upper() == 'M':\n",
    "    print('Bom Dia!!!')\n",
    "elif periodo.upper() == 'V':\n",
    "    print('Boa Tarde!!!')\n",
    "elif periodo.upper() == 'N':\n",
    "    print('Boa Noite!!!')\n",
    "else:\n",
    "    print('Valor Inválido.')"
   ]
  },
  {
   "cell_type": "code",
   "execution_count": null,
   "id": "c9f77bb9-9903-4e01-ac93-06e363eb0709",
   "metadata": {},
   "outputs": [],
   "source": []
  }
 ],
 "metadata": {
  "kernelspec": {
   "display_name": "Python 3 (ipykernel)",
   "language": "python",
   "name": "python3"
  },
  "language_info": {
   "codemirror_mode": {
    "name": "ipython",
    "version": 3
   },
   "file_extension": ".py",
   "mimetype": "text/x-python",
   "name": "python",
   "nbconvert_exporter": "python",
   "pygments_lexer": "ipython3",
   "version": "3.12.7"
  }
 },
 "nbformat": 4,
 "nbformat_minor": 5
}
