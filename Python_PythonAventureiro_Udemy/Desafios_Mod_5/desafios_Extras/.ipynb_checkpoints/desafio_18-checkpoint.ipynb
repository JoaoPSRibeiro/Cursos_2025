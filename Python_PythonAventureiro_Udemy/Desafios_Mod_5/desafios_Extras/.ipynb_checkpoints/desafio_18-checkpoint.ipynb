{
 "cells": [
  {
   "cell_type": "markdown",
   "id": "f62a3c9e-b024-4f94-bdf7-f594b924dd55",
   "metadata": {},
   "source": [
    "Faça um Programa que peça uma data no formato dd/mm/aaaa e determine se a mesma é uma data válida."
   ]
  },
  {
   "cell_type": "code",
   "execution_count": null,
   "id": "52f07f7c-1639-496e-80d1-7326060692b8",
   "metadata": {},
   "outputs": [],
   "source": []
  }
 ],
 "metadata": {
  "kernelspec": {
   "display_name": "Python 3 (ipykernel)",
   "language": "python",
   "name": "python3"
  },
  "language_info": {
   "codemirror_mode": {
    "name": "ipython",
    "version": 3
   },
   "file_extension": ".py",
   "mimetype": "text/x-python",
   "name": "python",
   "nbconvert_exporter": "python",
   "pygments_lexer": "ipython3",
   "version": "3.12.7"
  }
 },
 "nbformat": 4,
 "nbformat_minor": 5
}
