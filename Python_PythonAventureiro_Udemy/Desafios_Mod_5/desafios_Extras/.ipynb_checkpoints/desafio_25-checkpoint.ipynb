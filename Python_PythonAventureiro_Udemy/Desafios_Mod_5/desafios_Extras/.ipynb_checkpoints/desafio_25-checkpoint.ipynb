{
 "cells": [
  {
   "cell_type": "markdown",
   "id": "3be55059-73d7-4cb7-a215-b5d7ce987dbc",
   "metadata": {},
   "source": [
    "Faça um programa que faça 5 perguntas para uma pessoa sobre um crime. As perguntas são:\n",
    "\n",
    "\"Telefonou para a vítima?\"\n",
    "\n",
    "\"Esteve no local do crime?\"\n",
    "\n",
    "\"Mora perto da vítima?\"\n",
    "\n",
    "\"Devia para a vítima?\"\n",
    "\n",
    "\"Já trabalhou com a vítima?\" O programa deve no final emitir uma classificação sobre a participação da pessoa no crime. Se a pessoa responder positivamente a 2 questões ela deve ser classificada como \"Suspeita\", entre 3 e 4 como \"Cúmplice\" e 5 como \"Assassino\". Caso contrário, ele será classificado como \"Inocente\"."
   ]
  },
  {
   "cell_type": "code",
   "execution_count": null,
   "id": "f674d6e4-ab65-4110-83ca-b10072053c35",
   "metadata": {},
   "outputs": [],
   "source": []
  }
 ],
 "metadata": {
  "kernelspec": {
   "display_name": "Python 3 (ipykernel)",
   "language": "python",
   "name": "python3"
  },
  "language_info": {
   "codemirror_mode": {
    "name": "ipython",
    "version": 3
   },
   "file_extension": ".py",
   "mimetype": "text/x-python",
   "name": "python",
   "nbconvert_exporter": "python",
   "pygments_lexer": "ipython3",
   "version": "3.12.7"
  }
 },
 "nbformat": 4,
 "nbformat_minor": 5
}
