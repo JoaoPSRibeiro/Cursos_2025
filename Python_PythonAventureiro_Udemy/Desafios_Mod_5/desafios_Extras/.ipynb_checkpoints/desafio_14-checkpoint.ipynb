{
 "cells": [
  {
   "cell_type": "markdown",
   "id": "9e3f2d9a-9b27-4e80-8ae2-68b547839b1a",
   "metadata": {},
   "source": [
    "Faça um programa que lê as duas notas parciais obtidas por um aluno numa disciplina ao longo de um semestre, e calcule a sua média. A atribuição de conceitos obedece à tabela abaixo:\n",
    "VER TABELA NA PÁGINA DE EXERCÍCIOS\n",
    "\n",
    "O algoritmo deve mostrar na tela as notas, a média, o conceito correspondente e a mensagem “APROVADO” se o conceito for A, B ou C ou “REPROVADO” se o conceito for D ou E."
   ]
  },
  {
   "cell_type": "code",
   "execution_count": null,
   "id": "f139e3db-b77a-4057-ae49-a22acdb824ef",
   "metadata": {},
   "outputs": [],
   "source": []
  }
 ],
 "metadata": {
  "kernelspec": {
   "display_name": "Python 3 (ipykernel)",
   "language": "python",
   "name": "python3"
  },
  "language_info": {
   "codemirror_mode": {
    "name": "ipython",
    "version": 3
   },
   "file_extension": ".py",
   "mimetype": "text/x-python",
   "name": "python",
   "nbconvert_exporter": "python",
   "pygments_lexer": "ipython3",
   "version": "3.12.7"
  }
 },
 "nbformat": 4,
 "nbformat_minor": 5
}
