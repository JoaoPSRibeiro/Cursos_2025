{
 "cells": [
  {
   "cell_type": "markdown",
   "id": "942cf741-e289-4798-9d9f-c395bc0a30b7",
   "metadata": {},
   "source": [
    "Faça um Programa que leia um número e exiba o dia correspondente da semana. \n",
    "(1-Domingo, 2- Segunda, etc.), se digitar outro valor deve aparecer valor inválido."
   ]
  },
  {
   "cell_type": "code",
   "execution_count": 11,
   "id": "a51df5b8-bf9a-4328-9fb8-2ebd0826e824",
   "metadata": {},
   "outputs": [
    {
     "name": "stdin",
     "output_type": "stream",
     "text": [
      "Escolha o dia da semana:\n",
      "1 = Domingo\n",
      "2 = Segunda\n",
      "3 = Terça\n",
      "4 = Quarta\n",
      "5 = Quinta\n",
      "6 = Sexta\n",
      "7 = Sábado 8\n"
     ]
    }
   ],
   "source": [
    "dia = int(input('''Escolha o dia da semana:\n",
    "1 = Domingo\n",
    "2 = Segunda\n",
    "3 = Terça\n",
    "4 = Quarta\n",
    "5 = Quinta\n",
    "6 = Sexta\n",
    "7 = Sábado'''))"
   ]
  },
  {
   "cell_type": "code",
   "execution_count": 13,
   "id": "55aa07db-d5b6-4ee3-867f-4b91096f00e1",
   "metadata": {},
   "outputs": [
    {
     "name": "stdout",
     "output_type": "stream",
     "text": [
      "Valor inválido.\n"
     ]
    }
   ],
   "source": [
    "if dia == 1:\n",
    "    print('Hoje é Domingo')\n",
    "elif dia == 2:\n",
    "    print('Hoje é Segunda')\n",
    "elif dia == 3:\n",
    "    print('Hoje é Terça')\n",
    "elif dia == 4:\n",
    "    print('Hoje é Quarta')\n",
    "elif dia == 5:\n",
    "    print('Hoje é Quinta')\n",
    "elif dia == 6:\n",
    "    print('Hoje é Sexta')\n",
    "elif dia == 7:\n",
    "    print('Hoje é Sábado')\n",
    "else:\n",
    "    print('Valor inválido.')"
   ]
  },
  {
   "cell_type": "code",
   "execution_count": null,
   "id": "43ff4771-edcb-4107-b1df-c35cb5374350",
   "metadata": {},
   "outputs": [],
   "source": []
  }
 ],
 "metadata": {
  "kernelspec": {
   "display_name": "Python 3 (ipykernel)",
   "language": "python",
   "name": "python3"
  },
  "language_info": {
   "codemirror_mode": {
    "name": "ipython",
    "version": 3
   },
   "file_extension": ".py",
   "mimetype": "text/x-python",
   "name": "python",
   "nbconvert_exporter": "python",
   "pygments_lexer": "ipython3",
   "version": "3.12.7"
  }
 },
 "nbformat": 4,
 "nbformat_minor": 5
}
