{
 "cells": [
  {
   "cell_type": "markdown",
   "id": "d2f21768-1b56-4b38-b25f-2a7ead3e91bb",
   "metadata": {},
   "source": [
    "Faça um Programa que verifique se uma letra digitada é vogal ou consoante."
   ]
  },
  {
   "cell_type": "code",
   "execution_count": 10,
   "id": "f47e7036-45d2-4146-941c-7d7da2879ae9",
   "metadata": {},
   "outputs": [
    {
     "name": "stdin",
     "output_type": "stream",
     "text": [
      "Digite uma letra:  a\n"
     ]
    }
   ],
   "source": [
    "letra = input('Digite uma letra: ')"
   ]
  },
  {
   "cell_type": "code",
   "execution_count": 12,
   "id": "06c60552-b2fb-4f2d-a6c6-553472397e66",
   "metadata": {},
   "outputs": [
    {
     "name": "stdout",
     "output_type": "stream",
     "text": [
      "É uma vogal.\n"
     ]
    }
   ],
   "source": [
    "if letra.upper() in \"AEIOU\":\n",
    "    print('É uma vogal.')\n",
    "else:\n",
    "    print('É uma consoante.')"
   ]
  },
  {
   "cell_type": "code",
   "execution_count": null,
   "id": "3b91f713-7cf6-4be5-9acc-140287e654af",
   "metadata": {},
   "outputs": [],
   "source": []
  }
 ],
 "metadata": {
  "kernelspec": {
   "display_name": "Python 3 (ipykernel)",
   "language": "python",
   "name": "python3"
  },
  "language_info": {
   "codemirror_mode": {
    "name": "ipython",
    "version": 3
   },
   "file_extension": ".py",
   "mimetype": "text/x-python",
   "name": "python",
   "nbconvert_exporter": "python",
   "pygments_lexer": "ipython3",
   "version": "3.12.7"
  }
 },
 "nbformat": 4,
 "nbformat_minor": 5
}
