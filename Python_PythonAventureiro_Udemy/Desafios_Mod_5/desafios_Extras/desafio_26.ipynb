{
 "cells": [
  {
   "cell_type": "markdown",
   "id": "5e709a83-d4e9-4d92-b770-a177f5e02793",
   "metadata": {},
   "source": [
    "Um posto está vendendo combustíveis com a seguinte tabela de descontos:\n",
    "\n",
    "Álcool:\n",
    "\n",
    "até 20 litros, desconto de 3% por litro\n",
    "\n",
    "acima de 20 litros, desconto de 5% por litro\n",
    "\n",
    "Gasolina:\n",
    "\n",
    "até 20 litros, desconto de 4% por litro\n",
    "\n",
    "acima de 20 litros, desconto de 6% por litro Escreva um algoritmo que leia o número de litros vendidos, o tipo de combustível (codificado da seguinte forma: A-álcool, G-gasolina), calcule e imprima o valor a ser pago pelo cliente sabendo-se que o preço do litro da gasolina é R$ 2,50 o preço do litro do álcool é R$ 1,90."
   ]
  },
  {
   "cell_type": "code",
   "execution_count": null,
   "id": "16ccdaa0-4a52-49d8-8bab-29f98e38a804",
   "metadata": {},
   "outputs": [],
   "source": []
  }
 ],
 "metadata": {
  "kernelspec": {
   "display_name": "Python 3 (ipykernel)",
   "language": "python",
   "name": "python3"
  },
  "language_info": {
   "codemirror_mode": {
    "name": "ipython",
    "version": 3
   },
   "file_extension": ".py",
   "mimetype": "text/x-python",
   "name": "python",
   "nbconvert_exporter": "python",
   "pygments_lexer": "ipython3",
   "version": "3.12.7"
  }
 },
 "nbformat": 4,
 "nbformat_minor": 5
}
