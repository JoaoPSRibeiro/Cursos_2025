{
 "cells": [
  {
   "cell_type": "markdown",
   "id": "59719e01-8e6b-45d4-817d-2d37e77c2de7",
   "metadata": {},
   "source": [
    "Faça um Programa que peça os 3 lados de um triângulo. O programa deverá informar se os valores podem ser um triângulo. Indique, caso os lados formem um triângulo, se o mesmo é: equilátero, isósceles ou escaleno.\n",
    "Dicas:\n",
    "\n",
    "Três lados formam um triângulo quando a soma de quaisquer dois lados for maior que o terceiro;\n",
    "\n",
    "Triângulo Equilátero: três lados iguais;\n",
    "\n",
    "Triângulo Isósceles: quaisquer dois lados iguais;\n",
    "\n",
    "Triângulo Escaleno: três lados diferentes;"
   ]
  },
  {
   "cell_type": "code",
   "execution_count": null,
   "id": "16610ab2-a2cf-4d25-a6fb-2fe2c2cefbd1",
   "metadata": {},
   "outputs": [],
   "source": []
  }
 ],
 "metadata": {
  "kernelspec": {
   "display_name": "Python 3 (ipykernel)",
   "language": "python",
   "name": "python3"
  },
  "language_info": {
   "codemirror_mode": {
    "name": "ipython",
    "version": 3
   },
   "file_extension": ".py",
   "mimetype": "text/x-python",
   "name": "python",
   "nbconvert_exporter": "python",
   "pygments_lexer": "ipython3",
   "version": "3.12.7"
  }
 },
 "nbformat": 4,
 "nbformat_minor": 5
}
