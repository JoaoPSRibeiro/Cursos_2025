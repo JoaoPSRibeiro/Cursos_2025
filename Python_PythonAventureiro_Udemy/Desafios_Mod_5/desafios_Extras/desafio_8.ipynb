{
 "cells": [
  {
   "cell_type": "markdown",
   "id": "b84dcf7e-71f1-4cba-aa6c-d1cafc25a709",
   "metadata": {},
   "source": [
    "Faça um programa que pergunte o preço de três produtos e informe qual produto você deve comprar, sabendo que a decisão é sempre pelo mais barato."
   ]
  },
  {
   "cell_type": "code",
   "execution_count": null,
   "id": "d4ace175-559e-4bcf-80f4-b420c5f14a7f",
   "metadata": {},
   "outputs": [],
   "source": []
  }
 ],
 "metadata": {
  "kernelspec": {
   "display_name": "Python 3 (ipykernel)",
   "language": "python",
   "name": "python3"
  },
  "language_info": {
   "codemirror_mode": {
    "name": "ipython",
    "version": 3
   },
   "file_extension": ".py",
   "mimetype": "text/x-python",
   "name": "python",
   "nbconvert_exporter": "python",
   "pygments_lexer": "ipython3",
   "version": "3.12.7"
  }
 },
 "nbformat": 4,
 "nbformat_minor": 5
}
