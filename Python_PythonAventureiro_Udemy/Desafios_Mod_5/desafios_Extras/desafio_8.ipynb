{
 "cells": [
  {
   "cell_type": "markdown",
   "id": "b84dcf7e-71f1-4cba-aa6c-d1cafc25a709",
   "metadata": {},
   "source": [
    "Faça um programa que pergunte o preço de três produtos e informe qual produto você deve comprar, sabendo que a decisão é sempre pelo mais barato."
   ]
  },
  {
   "cell_type": "code",
   "execution_count": 4,
   "id": "d4ace175-559e-4bcf-80f4-b420c5f14a7f",
   "metadata": {},
   "outputs": [
    {
     "name": "stdin",
     "output_type": "stream",
     "text": [
      "Digite o valor do primeiro produto:  5.0\n"
     ]
    }
   ],
   "source": [
    "prod1 = float(input('Digite o valor do primeiro produto: '))"
   ]
  },
  {
   "cell_type": "code",
   "execution_count": 6,
   "id": "42e0bde8-b7d4-4362-acb8-cacfffe06757",
   "metadata": {},
   "outputs": [
    {
     "name": "stdin",
     "output_type": "stream",
     "text": [
      "Digite o valor do segundo produto:  60.0\n"
     ]
    }
   ],
   "source": [
    "prod2 = float(input('Digite o valor do segundo produto: '))"
   ]
  },
  {
   "cell_type": "code",
   "execution_count": 8,
   "id": "4df45b82-2b5a-48e3-8655-fe2ab54c1c83",
   "metadata": {},
   "outputs": [
    {
     "name": "stdin",
     "output_type": "stream",
     "text": [
      "Digite o valor do terceiro produto:  4.99\n"
     ]
    }
   ],
   "source": [
    "prod3 = float(input('Digite o valor do terceiro produto: '))"
   ]
  },
  {
   "cell_type": "code",
   "execution_count": 10,
   "id": "899822d8-70f2-4bf2-82e7-9942371c88f4",
   "metadata": {},
   "outputs": [
    {
     "name": "stdout",
     "output_type": "stream",
     "text": [
      "Compre o produto de valor 4.99.\n"
     ]
    }
   ],
   "source": [
    "if prod1 < prod2 and prod1 < prod3:\n",
    "    print(f'Compre o produto de valor {prod1}.')\n",
    "elif prod2 < prod1 and prod2 < prod3:\n",
    "    print(f'Compre o produto de valor {prod2}.')\n",
    "else:\n",
    "    print(f'Compre o produto de valor {prod3}.')"
   ]
  },
  {
   "cell_type": "code",
   "execution_count": null,
   "id": "d7c0876e-7b4a-44af-aff0-a1a9b515d8e6",
   "metadata": {},
   "outputs": [],
   "source": []
  }
 ],
 "metadata": {
  "kernelspec": {
   "display_name": "Python 3 (ipykernel)",
   "language": "python",
   "name": "python3"
  },
  "language_info": {
   "codemirror_mode": {
    "name": "ipython",
    "version": 3
   },
   "file_extension": ".py",
   "mimetype": "text/x-python",
   "name": "python",
   "nbconvert_exporter": "python",
   "pygments_lexer": "ipython3",
   "version": "3.12.7"
  }
 },
 "nbformat": 4,
 "nbformat_minor": 5
}
