{
 "cells": [
  {
   "cell_type": "markdown",
   "id": "5720382d-69d1-4590-a54b-7d3c3338d9f9",
   "metadata": {},
   "source": [
    "Faça um Programa que peça um valor e mostre na tela se o valor é positivo ou negativo."
   ]
  },
  {
   "cell_type": "code",
   "execution_count": 6,
   "id": "6172bbab-6f6c-475f-9306-513a954612a2",
   "metadata": {},
   "outputs": [
    {
     "name": "stdin",
     "output_type": "stream",
     "text": [
      "Digite um número:  -5\n"
     ]
    }
   ],
   "source": [
    "num = int(input('Digite um número: '))"
   ]
  },
  {
   "cell_type": "code",
   "execution_count": 8,
   "id": "26c874b7-69c2-4853-b1b8-409941d525d6",
   "metadata": {},
   "outputs": [
    {
     "name": "stdout",
     "output_type": "stream",
     "text": [
      "Este número é negativo.\n"
     ]
    }
   ],
   "source": [
    "if num > 0:\n",
    "    print('Este número é positivo.')\n",
    "else:\n",
    "    print('Este número é negativo.')"
   ]
  },
  {
   "cell_type": "code",
   "execution_count": null,
   "id": "6e97e4f3-6400-4bd3-a1ee-24e6581381b8",
   "metadata": {},
   "outputs": [],
   "source": []
  }
 ],
 "metadata": {
  "kernelspec": {
   "display_name": "Python 3 (ipykernel)",
   "language": "python",
   "name": "python3"
  },
  "language_info": {
   "codemirror_mode": {
    "name": "ipython",
    "version": 3
   },
   "file_extension": ".py",
   "mimetype": "text/x-python",
   "name": "python",
   "nbconvert_exporter": "python",
   "pygments_lexer": "ipython3",
   "version": "3.12.7"
  }
 },
 "nbformat": 4,
 "nbformat_minor": 5
}
