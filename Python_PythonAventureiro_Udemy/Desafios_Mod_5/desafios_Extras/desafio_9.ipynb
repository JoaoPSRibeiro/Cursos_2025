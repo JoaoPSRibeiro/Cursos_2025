{
 "cells": [
  {
   "cell_type": "markdown",
   "id": "85771a53-7f9a-478b-bac0-041fcd3bd0c9",
   "metadata": {},
   "source": [
    "Faça um Programa que leia três números e mostre-os em ordem decrescente."
   ]
  },
  {
   "cell_type": "code",
   "execution_count": 168,
   "id": "83fb2fa6-12ac-4dab-863d-e6e2972227ba",
   "metadata": {},
   "outputs": [
    {
     "name": "stdin",
     "output_type": "stream",
     "text": [
      "Digite o primeiro valor:  36\n"
     ]
    }
   ],
   "source": [
    "num1 = int(input('Digite o primeiro valor: '))"
   ]
  },
  {
   "cell_type": "code",
   "execution_count": 170,
   "id": "ad064e94-2559-4c00-9547-2c080dd21f11",
   "metadata": {},
   "outputs": [
    {
     "name": "stdin",
     "output_type": "stream",
     "text": [
      "Digite o segundo valor:  55\n"
     ]
    }
   ],
   "source": [
    "num2 = int(input('Digite o segundo valor: '))"
   ]
  },
  {
   "cell_type": "code",
   "execution_count": 172,
   "id": "7b4d8417-f164-4224-93b3-2ef976fc884c",
   "metadata": {},
   "outputs": [
    {
     "name": "stdin",
     "output_type": "stream",
     "text": [
      "Digite o terceiro valor:  33\n"
     ]
    }
   ],
   "source": [
    "num3 = int(input('Digite o terceiro valor: '))"
   ]
  },
  {
   "cell_type": "code",
   "execution_count": 174,
   "id": "828c841b-9437-4eb8-9984-0de9c8112d43",
   "metadata": {},
   "outputs": [
    {
     "name": "stdout",
     "output_type": "stream",
     "text": [
      "Os valores em ordem decrescente são: 55 -- 36 -- 33.\n",
      "Maior: 55\n",
      "Medio 36\n",
      "Menor 33\n"
     ]
    }
   ],
   "source": [
    "medio = ''\n",
    "menor = '' \n",
    "maior = ''\n",
    "if num1 > num2 and num1 > num3:\n",
    "    maior = num1\n",
    "    if num2 > num3:\n",
    "        medio = num2\n",
    "        menor = num3\n",
    "    if num3 > num2:\n",
    "        medio = num3\n",
    "        menor = num2\n",
    "elif num2 > num1 and num2 > num3:\n",
    "    maior = num2\n",
    "    if num1 > num3:\n",
    "        medio = num1\n",
    "        menor = num3\n",
    "    if num3 > num1:\n",
    "        medio = num3\n",
    "        menor = num1\n",
    "elif num3 > num2 and num3 > num1:\n",
    "    maior = num3\n",
    "    if num2 > num1:\n",
    "        medio = num2\n",
    "        menor = num1\n",
    "    if num1 > num2:\n",
    "        medio = num1\n",
    "        menor = num2\n",
    "\n",
    "print(f'Os valores em ordem decrescente são: {maior} -- {medio} -- {menor}.')\n"
   ]
  },
  {
   "cell_type": "code",
   "execution_count": null,
   "id": "fb63a998-8d99-4ee0-8e4a-639ce4a41ff5",
   "metadata": {},
   "outputs": [],
   "source": []
  }
 ],
 "metadata": {
  "kernelspec": {
   "display_name": "Python 3 (ipykernel)",
   "language": "python",
   "name": "python3"
  },
  "language_info": {
   "codemirror_mode": {
    "name": "ipython",
    "version": 3
   },
   "file_extension": ".py",
   "mimetype": "text/x-python",
   "name": "python",
   "nbconvert_exporter": "python",
   "pygments_lexer": "ipython3",
   "version": "3.12.7"
  }
 },
 "nbformat": 4,
 "nbformat_minor": 5
}
