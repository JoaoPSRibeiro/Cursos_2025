{
 "cells": [
  {
   "cell_type": "raw",
   "id": "c622d22d-728a-487e-a4ef-f204fa8330f6",
   "metadata": {},
   "source": [
    "Faça um programa para o cálculo de uma folha de pagamento, \n",
    "\n",
    "sabendo que os descontos são do Imposto de Renda, que depende do salário bruto (conforme tabela abaixo) e 3% para o Sindicato e que o \n",
    "\n",
    "FGTS corresponde a 11% do Salário Bruto, mas não é descontado (é a empresa que deposita). \n",
    "\n",
    "O Salário Líquido corresponde ao Salário Bruto menos os descontos. \n",
    "O programa deverá pedir ao usuário o valor da sua hora e a quantidade de horas trabalhadas no mês.\n",
    "\n",
    "Desconto do IR:\n",
    "\n",
    "Salário Bruto até 900 (inclusive) - isento\n",
    "\n",
    "Salário Bruto até 1500 (inclusive) - desconto de 5%\n",
    "\n",
    "Salário Bruto até 2500 (inclusive) - desconto de 10%\n",
    "\n",
    "Salário Bruto acima de 2500 - desconto de 20% Imprima na tela as informações, dispostas conforme o exemplo abaixo. No exemplo o valor da hora é 5 e a quantidade de hora é 220."
   ]
  },
  {
   "cell_type": "code",
   "execution_count": 108,
   "id": "64ea2b40-62f9-4bcb-b6e2-258a929efb2b",
   "metadata": {},
   "outputs": [
    {
     "name": "stdin",
     "output_type": "stream",
     "text": [
      "Qual o valor recebido por hora?  5\n"
     ]
    }
   ],
   "source": [
    "v_hora = int(input('Qual o valor recebido por hora? '))"
   ]
  },
  {
   "cell_type": "code",
   "execution_count": 110,
   "id": "1f65bc06-0e41-4817-a6cd-3544aac022fb",
   "metadata": {},
   "outputs": [
    {
     "name": "stdin",
     "output_type": "stream",
     "text": [
      "Digite a quantidade de horas trabalhadas:  220\n"
     ]
    }
   ],
   "source": [
    "horas = int(input('Digite a quantidade de horas trabalhadas: '))"
   ]
  },
  {
   "cell_type": "code",
   "execution_count": 112,
   "id": "55685227-f497-4f29-8c14-9d57d8600ab4",
   "metadata": {},
   "outputs": [],
   "source": [
    "sal_b = int(v_hora * horas)"
   ]
  },
  {
   "cell_type": "code",
   "execution_count": 114,
   "id": "ed6c6c9f-612e-4847-8a08-1e49daf72773",
   "metadata": {},
   "outputs": [],
   "source": [
    "sind = int(sal_b * 3/100)"
   ]
  },
  {
   "cell_type": "code",
   "execution_count": 116,
   "id": "3ea0fc88-5853-40c3-bae9-c44e49637d89",
   "metadata": {},
   "outputs": [
    {
     "data": {
      "text/plain": [
       "1100"
      ]
     },
     "execution_count": 116,
     "metadata": {},
     "output_type": "execute_result"
    }
   ],
   "source": [
    "sal_b"
   ]
  },
  {
   "cell_type": "code",
   "execution_count": 118,
   "id": "27fbf76d-0fdd-4a59-a0e4-a3cbbc75c3d3",
   "metadata": {},
   "outputs": [],
   "source": [
    "fgts = int(sal_b * 11/100)"
   ]
  },
  {
   "cell_type": "code",
   "execution_count": 120,
   "id": "e9280b38-80cc-45a1-864d-c370452d5f38",
   "metadata": {},
   "outputs": [
    {
     "name": "stdout",
     "output_type": "stream",
     "text": [
      "Seu Salário Bruto é R$ 1100, seu IR descontado será R$ 55.0 e seu Salário Líquido é: R$ 1012.0. Foi depositado o valor de R$ 121 do seu FGTS\n"
     ]
    }
   ],
   "source": [
    "ir = 0\n",
    "desc = ir + sind\n",
    "sal_liq = sal_b - desc\n",
    "if sal_b <= 900:\n",
    "    print(f'Seu Salário Bruto é R$ {sal_b}, você é Isento do IR e seu Salário Líquido é: R$ {sal_liq}. Foi depositado o valor de R$ {fgts} do seu FGTS')\n",
    "elif sal_b > 900 and sal_b <= 1500:\n",
    "    ir = sal_b * 5/100\n",
    "    desc = ir + sind\n",
    "    sal_liq = sal_b - desc\n",
    "    print(f'Seu Salário Bruto é R$ {sal_b}, seu IR descontado será R$ {ir} e seu Salário Líquido é: R$ {sal_liq}. Foi depositado o valor de R$ {fgts} do seu FGTS')\n",
    "elif sal_b > 1500 and sal_b <= 2500:\n",
    "    ir = sal_b * 10/100\n",
    "    desc = ir + sind\n",
    "    sal_liq = sal_b - desc\n",
    "    print(f'Seu Salário Bruto é R$ {sal_b}, seu IR descontado será R$ {ir} e seu Salário Líquido é: R$ {sal_liq}. Foi depositado o valor de R$ {fgts} do seu FGTS')\n",
    "elif sal_b > 2500:\n",
    "    ir = sal_b * 20/100\n",
    "    desc = ir + sind\n",
    "    sal_liq = sal_b - desc\n",
    "    print(f'Seu Salário Bruto é R$ {sal_b}, seu IR descontado será R$ {ir} e seu Salário Líquido é: R$ {sal_liq}. Foi depositado o valor de R$ {fgts} do seu FGTS')"
   ]
  },
  {
   "cell_type": "code",
   "execution_count": null,
   "id": "29c1f82d-cfed-41df-b34c-fc8946a18080",
   "metadata": {},
   "outputs": [],
   "source": []
  }
 ],
 "metadata": {
  "kernelspec": {
   "display_name": "Python 3 (ipykernel)",
   "language": "python",
   "name": "python3"
  },
  "language_info": {
   "codemirror_mode": {
    "name": "ipython",
    "version": 3
   },
   "file_extension": ".py",
   "mimetype": "text/x-python",
   "name": "python",
   "nbconvert_exporter": "python",
   "pygments_lexer": "ipython3",
   "version": "3.12.7"
  }
 },
 "nbformat": 4,
 "nbformat_minor": 5
}
