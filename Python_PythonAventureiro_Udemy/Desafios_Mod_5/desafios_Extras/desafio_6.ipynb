{
 "cells": [
  {
   "cell_type": "markdown",
   "id": "a0889889-ca35-4063-aea7-44dbac3fd4b5",
   "metadata": {},
   "source": [
    "Faça um Programa que leia três números e mostre o maior deles"
   ]
  },
  {
   "cell_type": "code",
   "execution_count": 24,
   "id": "343e1e75-b35b-49c2-a4a1-bdb8bc9cd087",
   "metadata": {},
   "outputs": [
    {
     "name": "stdin",
     "output_type": "stream",
     "text": [
      "Digite o primeiro valor:  4\n"
     ]
    }
   ],
   "source": [
    "n1 = int(input('Digite o primeiro valor: '))"
   ]
  },
  {
   "cell_type": "code",
   "execution_count": 26,
   "id": "f8411853-eb0b-4a40-a1c5-7191726d078f",
   "metadata": {},
   "outputs": [
    {
     "name": "stdin",
     "output_type": "stream",
     "text": [
      "Digite o segundo valor:  20\n"
     ]
    }
   ],
   "source": [
    "n2 = int(input('Digite o segundo valor: '))"
   ]
  },
  {
   "cell_type": "code",
   "execution_count": 28,
   "id": "aebfa7b4-92da-4015-b779-fcc065472a86",
   "metadata": {},
   "outputs": [
    {
     "name": "stdin",
     "output_type": "stream",
     "text": [
      "Digite o terceiro valor:  9\n"
     ]
    }
   ],
   "source": [
    "n3 = int(input('Digite o terceiro valor: '))"
   ]
  },
  {
   "cell_type": "code",
   "execution_count": 30,
   "id": "e1d0b2cd-fdc0-4181-a64d-a6c13744aea2",
   "metadata": {},
   "outputs": [
    {
     "name": "stdout",
     "output_type": "stream",
     "text": [
      "O valor 20 é o maior de todos!\n"
     ]
    }
   ],
   "source": [
    "if n1 > n2 and n1 > n3:\n",
    "    print(f'O valor {n1} é o maior de todos!')\n",
    "elif n2 > n1 and n2 > n3:\n",
    "    print(f'O valor {n2} é o maior de todos!')\n",
    "else:\n",
    "    print(f'O valor {n3} é o maior de todos!')"
   ]
  },
  {
   "cell_type": "code",
   "execution_count": null,
   "id": "b839b14b-6775-4f30-aa5c-d558173953c3",
   "metadata": {},
   "outputs": [],
   "source": []
  }
 ],
 "metadata": {
  "kernelspec": {
   "display_name": "Python 3 (ipykernel)",
   "language": "python",
   "name": "python3"
  },
  "language_info": {
   "codemirror_mode": {
    "name": "ipython",
    "version": 3
   },
   "file_extension": ".py",
   "mimetype": "text/x-python",
   "name": "python",
   "nbconvert_exporter": "python",
   "pygments_lexer": "ipython3",
   "version": "3.12.7"
  }
 },
 "nbformat": 4,
 "nbformat_minor": 5
}
