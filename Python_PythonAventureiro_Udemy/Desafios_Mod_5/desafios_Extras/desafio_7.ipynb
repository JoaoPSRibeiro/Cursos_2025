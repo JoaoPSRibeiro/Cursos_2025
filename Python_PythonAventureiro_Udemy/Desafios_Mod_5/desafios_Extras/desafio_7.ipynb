{
 "cells": [
  {
   "cell_type": "markdown",
   "id": "57f3429c-dff1-4d6c-a17c-db8258849b23",
   "metadata": {},
   "source": [
    "Faça um Programa que leia três números e mostre o maior e o menor deles."
   ]
  },
  {
   "cell_type": "code",
   "execution_count": 2,
   "id": "ea8f9b74-fae1-43f6-81ca-d9b8968e937d",
   "metadata": {},
   "outputs": [
    {
     "name": "stdin",
     "output_type": "stream",
     "text": [
      "Digite o primeiro valor:  5\n"
     ]
    }
   ],
   "source": [
    "n1 = int(input('Digite o primeiro valor: '))"
   ]
  },
  {
   "cell_type": "code",
   "execution_count": 10,
   "id": "2cbd959b-9db4-43fd-93d8-8a5e321008d2",
   "metadata": {},
   "outputs": [
    {
     "name": "stdin",
     "output_type": "stream",
     "text": [
      "Digite o segundo valor:  3\n"
     ]
    }
   ],
   "source": [
    "n2 = int(input('Digite o segundo valor: '))"
   ]
  },
  {
   "cell_type": "code",
   "execution_count": 6,
   "id": "ce8bb46b-4b4e-4405-8294-6f3df032f947",
   "metadata": {},
   "outputs": [
    {
     "name": "stdin",
     "output_type": "stream",
     "text": [
      "Digite o terceiro valor:  1\n"
     ]
    }
   ],
   "source": [
    "n3 = int(input('Digite o terceiro valor: '))"
   ]
  },
  {
   "cell_type": "code",
   "execution_count": 14,
   "id": "94da220f-36fb-433f-92ba-3484b1eccaaa",
   "metadata": {},
   "outputs": [
    {
     "name": "stdout",
     "output_type": "stream",
     "text": [
      "O valor 1 é o menor de todos!!\n"
     ]
    }
   ],
   "source": [
    "if n1 < n2 and n1 < n3:\n",
    "    print(f'O valor {n1} é o menor de todos!!')\n",
    "elif n2 < n1 and n2 < n3:\n",
    "    print(f'O valor {n2} é o menor de todos!!')\n",
    "else:\n",
    "    print(f'O valor {n3} é o menor de todos!!')"
   ]
  },
  {
   "cell_type": "code",
   "execution_count": null,
   "id": "284dac6d-3a79-41b9-80be-48fc53eb71c8",
   "metadata": {},
   "outputs": [],
   "source": []
  }
 ],
 "metadata": {
  "kernelspec": {
   "display_name": "Python 3 (ipykernel)",
   "language": "python",
   "name": "python3"
  },
  "language_info": {
   "codemirror_mode": {
    "name": "ipython",
    "version": 3
   },
   "file_extension": ".py",
   "mimetype": "text/x-python",
   "name": "python",
   "nbconvert_exporter": "python",
   "pygments_lexer": "ipython3",
   "version": "3.12.7"
  }
 },
 "nbformat": 4,
 "nbformat_minor": 5
}
