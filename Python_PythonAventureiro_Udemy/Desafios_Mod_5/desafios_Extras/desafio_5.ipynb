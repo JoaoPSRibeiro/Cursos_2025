{
 "cells": [
  {
   "cell_type": "markdown",
   "id": "8c652af9-a26e-45cb-b268-d866d9e8211b",
   "metadata": {},
   "source": [
    "Faça um programa para a leitura de duas notas parciais de um aluno. O programa deve calcular a média alcançada por aluno e apresentar:\n",
    "\n",
    "A mensagem \"Aprovado\", se a média alcançada for maior ou igual a sete;\n",
    "\n",
    "A mensagem \"Reprovado\", se a média for menor do que sete;\n",
    "\n",
    "A mensagem \"Aprovado com Distinção\", se a média for igual a dez."
   ]
  },
  {
   "cell_type": "code",
   "execution_count": 68,
   "id": "0e3c2721-346c-4a16-a538-0e0a0fbaac4c",
   "metadata": {},
   "outputs": [
    {
     "name": "stdin",
     "output_type": "stream",
     "text": [
      "Digite a primeira nota:  10\n"
     ]
    }
   ],
   "source": [
    "n1 = float(input('Digite a primeira nota: '))"
   ]
  },
  {
   "cell_type": "code",
   "execution_count": 72,
   "id": "06704c8b-1efc-43c7-bf44-da329846e87c",
   "metadata": {},
   "outputs": [
    {
     "name": "stdin",
     "output_type": "stream",
     "text": [
      "Digite a segunda nota:  10\n"
     ]
    }
   ],
   "source": [
    "n2 = float(input('Digite a segunda nota: '))"
   ]
  },
  {
   "cell_type": "code",
   "execution_count": 74,
   "id": "a2a0bf19-a4c8-4ac1-8811-f4b8a229ea40",
   "metadata": {},
   "outputs": [],
   "source": [
    "media = (n1+n2) / 2"
   ]
  },
  {
   "cell_type": "code",
   "execution_count": 98,
   "id": "b82c7c6a-cc4a-42e6-ad37-584a68a81879",
   "metadata": {},
   "outputs": [
    {
     "name": "stdout",
     "output_type": "stream",
     "text": [
      "Aprovado do distinção\n"
     ]
    }
   ],
   "source": [
    "if media >= 7 and media <= 9.9:\n",
    "    print('Aprovado')\n",
    "elif media < 7:\n",
    "    print('Reprovado')\n",
    "elif media > 9.9:\n",
    "    print('Aprovado do distinção')\n",
    "else:\n",
    "    print('Valor inválido')\n",
    "    "
   ]
  },
  {
   "cell_type": "code",
   "execution_count": null,
   "id": "dfaf82df-4623-474e-8291-883976a90743",
   "metadata": {},
   "outputs": [],
   "source": []
  },
  {
   "cell_type": "code",
   "execution_count": null,
   "id": "2d953c94-e9b3-4b7d-ab55-6851f7789387",
   "metadata": {},
   "outputs": [],
   "source": []
  }
 ],
 "metadata": {
  "kernelspec": {
   "display_name": "Python 3 (ipykernel)",
   "language": "python",
   "name": "python3"
  },
  "language_info": {
   "codemirror_mode": {
    "name": "ipython",
    "version": 3
   },
   "file_extension": ".py",
   "mimetype": "text/x-python",
   "name": "python",
   "nbconvert_exporter": "python",
   "pygments_lexer": "ipython3",
   "version": "3.12.7"
  }
 },
 "nbformat": 4,
 "nbformat_minor": 5
}
