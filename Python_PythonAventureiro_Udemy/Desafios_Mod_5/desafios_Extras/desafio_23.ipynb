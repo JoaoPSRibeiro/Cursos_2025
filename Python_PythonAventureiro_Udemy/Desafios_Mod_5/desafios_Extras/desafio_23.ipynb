{
 "cells": [
  {
   "cell_type": "markdown",
   "id": "940bbd49-5ae5-477c-b396-8b8342fd859e",
   "metadata": {},
   "source": [
    "Faça um Programa que peça um número e informe se o número é inteiro ou decimal. Dica: utilize uma função de arredondamento."
   ]
  },
  {
   "cell_type": "code",
   "execution_count": null,
   "id": "d2c7df48-af4c-4e28-9891-7675fa910779",
   "metadata": {},
   "outputs": [],
   "source": []
  }
 ],
 "metadata": {
  "kernelspec": {
   "display_name": "Python 3 (ipykernel)",
   "language": "python",
   "name": "python3"
  },
  "language_info": {
   "codemirror_mode": {
    "name": "ipython",
    "version": 3
   },
   "file_extension": ".py",
   "mimetype": "text/x-python",
   "name": "python",
   "nbconvert_exporter": "python",
   "pygments_lexer": "ipython3",
   "version": "3.12.7"
  }
 },
 "nbformat": 4,
 "nbformat_minor": 5
}
