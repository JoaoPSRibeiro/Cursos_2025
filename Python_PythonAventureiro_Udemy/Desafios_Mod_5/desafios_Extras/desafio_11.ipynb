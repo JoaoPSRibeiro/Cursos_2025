{
 "cells": [
  {
   "cell_type": "raw",
   "id": "8738f11f-88e8-40cb-a7c0-6009830ba518",
   "metadata": {},
   "source": [
    "As Organizações Tabajara resolveram dar um aumento de salário aos seus colaboradores e lhe contraram para desenvolver o programa que calculará os reajustes.\n",
    "\n",
    "Faça um programa que recebe o salário de um colaborador e o reajuste segundo o seguinte critério, baseado no salário atual:\n",
    "\n",
    "salários até R$ 280,00 (incluindo) : aumento de 20%\n",
    "\n",
    "salários entre R$ 280,00 e R$ 700,00 : aumento de 15%\n",
    "\n",
    "salários entre R$ 700,00 e R$ 1500,00 : aumento de 10%\n",
    "\n",
    "salários de R$ 1500,00 em diante : aumento de 5% \n",
    "Após o aumento ser realizado, informe na tela:\n",
    "\n",
    "o salário antes do reajuste;\n",
    "\n",
    "o percentual de aumento aplicado;\n",
    "\n",
    "o valor do aumento;\n",
    "\n",
    "o novo salário, após o aumento.\n",
    "\n"
   ]
  },
  {
   "cell_type": "code",
   "execution_count": 78,
   "id": "4100247b-1079-4465-8b1d-01f6f5b7c050",
   "metadata": {},
   "outputs": [
    {
     "name": "stdin",
     "output_type": "stream",
     "text": [
      "Qual o valor do seu salário atual?  1600\n"
     ]
    }
   ],
   "source": [
    "sal = float(input('Qual o valor do seu salário atual? '))"
   ]
  },
  {
   "cell_type": "code",
   "execution_count": 80,
   "id": "a352154a-ec13-4b7e-91e0-196f3209f062",
   "metadata": {},
   "outputs": [
    {
     "name": "stdout",
     "output_type": "stream",
     "text": [
      "1680.0\n"
     ]
    }
   ],
   "source": [
    "sal_20 = sal + (sal * 20/100)\n",
    "sal_15 = sal + (sal * 15/100)\n",
    "sal_10 = sal + (sal * 10/100)\n",
    "sal_5 = sal + (sal * 5/100)\n",
    "print(sal_5)"
   ]
  },
  {
   "cell_type": "code",
   "execution_count": 82,
   "id": "e161de60-19e5-448b-8407-65adb54ac09f",
   "metadata": {},
   "outputs": [
    {
     "name": "stdout",
     "output_type": "stream",
     "text": [
      "Seu salário era R$ 1600.0, você teve um aumento de 5% que equilave a R$ 80.0 e o total agora é R$ 1680.0.\n"
     ]
    }
   ],
   "source": [
    "if sal <= 280:\n",
    "    print(f'Seu salário era R$ {sal}, você teve um aumento de 20% que equilave a R$ {sal * 20/100} e o total agora é R$ {sal_20}.')\n",
    "elif sal >= 281 and sal <= 700:\n",
    "    print(f'Seu salário era R$ {sal}, você teve um aumento de 15% que equilave a R$ {sal * 15/100} e o total agora é R$ {sal_15}.')\n",
    "elif sal > 700 and sal < 1500:\n",
    "    print(f'Seu salário era R$ {sal}, você teve um aumento de 10% que equilave a R$ {sal * 10/100} e o total agora é R$ {sal_10}.')\n",
    "elif sal > 1500:\n",
    "    print(f'Seu salário era R$ {sal}, você teve um aumento de 5% que equilave a R$ {sal * 5/100} e o total agora é R$ {sal_5}.')"
   ]
  },
  {
   "cell_type": "code",
   "execution_count": null,
   "id": "3e2f7ad9-c62b-473f-9c13-36a145736423",
   "metadata": {},
   "outputs": [],
   "source": []
  }
 ],
 "metadata": {
  "kernelspec": {
   "display_name": "Python 3 (ipykernel)",
   "language": "python",
   "name": "python3"
  },
  "language_info": {
   "codemirror_mode": {
    "name": "ipython",
    "version": 3
   },
   "file_extension": ".py",
   "mimetype": "text/x-python",
   "name": "python",
   "nbconvert_exporter": "python",
   "pygments_lexer": "ipython3",
   "version": "3.12.7"
  }
 },
 "nbformat": 4,
 "nbformat_minor": 5
}
