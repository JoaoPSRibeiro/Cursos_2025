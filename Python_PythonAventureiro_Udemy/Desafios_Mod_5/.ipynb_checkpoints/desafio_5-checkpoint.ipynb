{
 "cells": [
  {
   "cell_type": "markdown",
   "id": "5d8ba227-e97a-41cc-ab15-c987aada5a7d",
   "metadata": {},
   "source": [
    "Faça um programa que leia um ano qualquer e mostre se ele é bissexto.​"
   ]
  },
  {
   "cell_type": "code",
   "execution_count": 16,
   "id": "bb58a698-c64d-4aa3-9efa-005d4d236b77",
   "metadata": {},
   "outputs": [
    {
     "name": "stdin",
     "output_type": "stream",
     "text": [
      "Digite o ano que quer saber se é bissexto:  1555\n"
     ]
    }
   ],
   "source": [
    "ano = int(input('Digite o ano que quer saber se é bissexto: '))"
   ]
  },
  {
   "cell_type": "code",
   "execution_count": 18,
   "id": "92e9f8d4-4dd8-4c7e-af82-fd8c8cc1a691",
   "metadata": {},
   "outputs": [
    {
     "name": "stdout",
     "output_type": "stream",
     "text": [
      "Não é bissexto\n"
     ]
    }
   ],
   "source": [
    "if (ano % 4) == 0:\n",
    "    if (ano % 100) == 0:\n",
    "      if (ano % 400) == 0:\n",
    "        print('É Bissexto')\n",
    "else:\n",
    "    print('Não é bissexto')"
   ]
  },
  {
   "cell_type": "code",
   "execution_count": null,
   "id": "2b30b8ee-9832-49d4-adab-668b488535b3",
   "metadata": {},
   "outputs": [],
   "source": []
  }
 ],
 "metadata": {
  "kernelspec": {
   "display_name": "Python 3 (ipykernel)",
   "language": "python",
   "name": "python3"
  },
  "language_info": {
   "codemirror_mode": {
    "name": "ipython",
    "version": 3
   },
   "file_extension": ".py",
   "mimetype": "text/x-python",
   "name": "python",
   "nbconvert_exporter": "python",
   "pygments_lexer": "ipython3",
   "version": "3.12.7"
  }
 },
 "nbformat": 4,
 "nbformat_minor": 5
}
