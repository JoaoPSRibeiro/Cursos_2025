{
 "cells": [
  {
   "cell_type": "raw",
   "id": "79b2c7e0-b924-45d1-a2d2-592dbe39ee36",
   "metadata": {},
   "source": [
    "Escreva um programa que leia a velocidade de um carro. \n",
    "Se ele ultrapassar 80Km/h, mostre uma mensagem dizendo que ele foi multado. \n",
    "A multa vai custar R$7,00 por cada Km acima do limite e mais 10% caso a velocidade ultrapasse 120 km/h."
   ]
  },
  {
   "cell_type": "code",
   "execution_count": 94,
   "id": "9b63060f-b6c7-4dd8-b877-a33235cd5fb0",
   "metadata": {},
   "outputs": [
    {
     "name": "stdin",
     "output_type": "stream",
     "text": [
      "Digite a velocidade do carro:  125\n"
     ]
    }
   ],
   "source": [
    "veloc = int(input('Digite a velocidade do carro: '))"
   ]
  },
  {
   "cell_type": "code",
   "execution_count": 96,
   "id": "01aff4a7-b3fe-4807-bb1b-168c0c082c4b",
   "metadata": {},
   "outputs": [],
   "source": [
    "multa = (veloc - 80) * 7"
   ]
  },
  {
   "cell_type": "code",
   "execution_count": 98,
   "id": "387dce28-6b09-4da7-8040-f74d528aa8b1",
   "metadata": {},
   "outputs": [
    {
     "data": {
      "text/plain": [
       "315"
      ]
     },
     "execution_count": 98,
     "metadata": {},
     "output_type": "execute_result"
    }
   ],
   "source": [
    "multa"
   ]
  },
  {
   "cell_type": "code",
   "execution_count": 100,
   "id": "88772090-7d45-4127-8b17-04e85edff863",
   "metadata": {},
   "outputs": [],
   "source": [
    "multa_120 = multa + (multa * 10/100)"
   ]
  },
  {
   "cell_type": "code",
   "execution_count": 102,
   "id": "e88a9da0-dd1c-440c-9811-3351842c81a1",
   "metadata": {},
   "outputs": [
    {
     "data": {
      "text/plain": [
       "346.5"
      ]
     },
     "execution_count": 102,
     "metadata": {},
     "output_type": "execute_result"
    }
   ],
   "source": [
    "multa_120"
   ]
  },
  {
   "cell_type": "code",
   "execution_count": 104,
   "id": "de3dbd20-da3e-4952-b51f-80182ee8384b",
   "metadata": {},
   "outputs": [
    {
     "name": "stdout",
     "output_type": "stream",
     "text": [
      "Você passou a mais de 120 km/h, haverá uma acrescimo de 10% no valor da multa, que será R$ 346.5.\n"
     ]
    }
   ],
   "source": [
    "if veloc <= 80:\n",
    "    print('Você passou dentro da velocidade permitida')\n",
    "elif veloc > 80 and veloc <= 120 :\n",
    "    print(f'Você passou acima da velocidade e será multado em R$ {multa}.')\n",
    "elif veloc > 120:\n",
    "    print(f'Você passou a mais de 120 km/h, haverá uma acrescimo de 10% no valor da multa, que será R$ {multa_120}.') "
   ]
  },
  {
   "cell_type": "code",
   "execution_count": null,
   "id": "0e099829-ad9a-4601-b32f-6e7c5f370884",
   "metadata": {},
   "outputs": [],
   "source": []
  }
 ],
 "metadata": {
  "kernelspec": {
   "display_name": "Python 3 (ipykernel)",
   "language": "python",
   "name": "python3"
  },
  "language_info": {
   "codemirror_mode": {
    "name": "ipython",
    "version": 3
   },
   "file_extension": ".py",
   "mimetype": "text/x-python",
   "name": "python",
   "nbconvert_exporter": "python",
   "pygments_lexer": "ipython3",
   "version": "3.12.7"
  }
 },
 "nbformat": 4,
 "nbformat_minor": 5
}
