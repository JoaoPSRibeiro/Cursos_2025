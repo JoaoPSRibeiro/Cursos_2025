{
 "cells": [
  {
   "cell_type": "raw",
   "id": "575f32d3-1f17-465c-be3e-f18e6b9a1d53",
   "metadata": {},
   "source": [
    "Desenvolva um programa que pergunte a distância de uma viagem em Km.\n",
    "Calcule o preço da passagem, cobrando R$ 0,50 por Km para viagens de até 200Km e R$ 0,45 parta viagens mais longas."
   ]
  },
  {
   "cell_type": "code",
   "execution_count": 10,
   "id": "7ceacfc5-df94-4806-8d8d-63c724600924",
   "metadata": {},
   "outputs": [
    {
     "name": "stdin",
     "output_type": "stream",
     "text": [
      "Digite a distância da Cidade para onde deseja viajar:  201\n"
     ]
    }
   ],
   "source": [
    "dist = int(input('Digite a distância da Cidade para onde deseja viajar: '))"
   ]
  },
  {
   "cell_type": "code",
   "execution_count": 12,
   "id": "d0eb3ded-f80a-4180-8a2d-57d5265834c1",
   "metadata": {},
   "outputs": [
    {
     "name": "stdout",
     "output_type": "stream",
     "text": [
      "Sua passagem custará 90.45.\n"
     ]
    }
   ],
   "source": [
    "if dist < 200:\n",
    "    passag = dist * 0.50\n",
    "    print(f'Sua passagem custará {passag}.')\n",
    "else:\n",
    "    passag = dist * 0.45\n",
    "    print(f'Sua passagem custará {passag}.')"
   ]
  },
  {
   "cell_type": "code",
   "execution_count": null,
   "id": "09bcff1a-48c4-4bd3-a18b-1601015f565c",
   "metadata": {},
   "outputs": [],
   "source": []
  }
 ],
 "metadata": {
  "kernelspec": {
   "display_name": "Python 3 (ipykernel)",
   "language": "python",
   "name": "python3"
  },
  "language_info": {
   "codemirror_mode": {
    "name": "ipython",
    "version": 3
   },
   "file_extension": ".py",
   "mimetype": "text/x-python",
   "name": "python",
   "nbconvert_exporter": "python",
   "pygments_lexer": "ipython3",
   "version": "3.12.7"
  }
 },
 "nbformat": 4,
 "nbformat_minor": 5
}
