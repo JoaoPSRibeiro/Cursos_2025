{
 "cells": [
  {
   "cell_type": "markdown",
   "id": "a28d7d47-7241-48e7-ab40-041974a42c06",
   "metadata": {},
   "source": [
    "Desenvolva um programa que leia o comprimento de três retas e diga ao usuário se elas podem ou não formar um triângulo."
   ]
  },
  {
   "cell_type": "markdown",
   "id": "a1be5372-a5ad-4a75-8795-6bc65977ae4a",
   "metadata": {},
   "source": [
    "DICA: para que 3 segmentos possam formar um triângulo o maior segmento não pode ser maior que a soma dos outros dois segmentos"
   ]
  },
  {
   "cell_type": "code",
   "execution_count": 11,
   "id": "179d4564-ae64-4359-88a3-62dd7d91e68e",
   "metadata": {},
   "outputs": [
    {
     "name": "stdin",
     "output_type": "stream",
     "text": [
      "Digite o tamanho do lado A:  100\n"
     ]
    }
   ],
   "source": [
    "lado_a = int(input('Digite o tamanho do lado A: '))"
   ]
  },
  {
   "cell_type": "code",
   "execution_count": 13,
   "id": "df5e00e3-a08c-43cf-8c26-1c502a0664c7",
   "metadata": {},
   "outputs": [
    {
     "name": "stdin",
     "output_type": "stream",
     "text": [
      "Digite o tamanho do lado B:  10\n"
     ]
    }
   ],
   "source": [
    "lado_b = int(input('Digite o tamanho do lado B: '))"
   ]
  },
  {
   "cell_type": "code",
   "execution_count": 15,
   "id": "2a9a717f-648a-4bbb-9e52-41def9d82183",
   "metadata": {},
   "outputs": [
    {
     "name": "stdin",
     "output_type": "stream",
     "text": [
      "Digite o tamanho do lado C:  10\n"
     ]
    }
   ],
   "source": [
    "lado_c = int(input('Digite o tamanho do lado C: '))"
   ]
  },
  {
   "cell_type": "code",
   "execution_count": 17,
   "id": "66bcf3d0-cd0e-47f9-adee-0b198bcfcf31",
   "metadata": {},
   "outputs": [
    {
     "name": "stdout",
     "output_type": "stream",
     "text": [
      "Não é possível formar um triângulo.\n"
     ]
    }
   ],
   "source": [
    "if lado_a < (lado_b + lado_c) and lado_b < (lado_a + lado_c) and lado_c < (lado_a + lado_b):\n",
    "    print('Os valores formam um triângulo!')\n",
    "else:\n",
    "    print('Não é possível formar um triângulo.')"
   ]
  },
  {
   "cell_type": "code",
   "execution_count": null,
   "id": "8e7245d9-1bd2-4c3a-8936-daf8abd2c0f2",
   "metadata": {},
   "outputs": [],
   "source": []
  }
 ],
 "metadata": {
  "kernelspec": {
   "display_name": "Python 3 (ipykernel)",
   "language": "python",
   "name": "python3"
  },
  "language_info": {
   "codemirror_mode": {
    "name": "ipython",
    "version": 3
   },
   "file_extension": ".py",
   "mimetype": "text/x-python",
   "name": "python",
   "nbconvert_exporter": "python",
   "pygments_lexer": "ipython3",
   "version": "3.12.7"
  }
 },
 "nbformat": 4,
 "nbformat_minor": 5
}
