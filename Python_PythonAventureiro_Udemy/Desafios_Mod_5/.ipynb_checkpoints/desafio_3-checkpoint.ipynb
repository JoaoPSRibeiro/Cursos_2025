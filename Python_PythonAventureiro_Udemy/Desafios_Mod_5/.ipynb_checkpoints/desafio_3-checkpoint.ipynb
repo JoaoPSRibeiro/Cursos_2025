{
 "cells": [
  {
   "cell_type": "markdown",
   "id": "bf514ecd-82c7-46d8-8d1c-f64c3226c8da",
   "metadata": {},
   "source": [
    "Crie um programa que leia um número inteiro e mostre na tela se ele é PAR ou ÍMPAR.​"
   ]
  },
  {
   "cell_type": "code",
   "execution_count": 6,
   "id": "21f01ce6-84ee-49bd-a1f7-092eb020c242",
   "metadata": {},
   "outputs": [
    {
     "name": "stdin",
     "output_type": "stream",
     "text": [
      "Digite um valor:  155\n"
     ]
    }
   ],
   "source": [
    "num = int(input('Digite um valor: '))"
   ]
  },
  {
   "cell_type": "code",
   "execution_count": 8,
   "id": "14aed3f0-5570-44aa-836b-944f16839ebf",
   "metadata": {},
   "outputs": [
    {
     "name": "stdout",
     "output_type": "stream",
     "text": [
      "O valor digitado foi 155 e ele é Ímpar\n"
     ]
    }
   ],
   "source": [
    "if num % 2 == 0:\n",
    "    print(f'O valor digitado foi {num} e ele é Par')\n",
    "else:\n",
    "    print(f'O valor digitado foi {num} e ele é Ímpar')"
   ]
  },
  {
   "cell_type": "code",
   "execution_count": null,
   "id": "05ba173c-404d-44ca-b747-6cb4841588fe",
   "metadata": {},
   "outputs": [],
   "source": []
  }
 ],
 "metadata": {
  "kernelspec": {
   "display_name": "Python 3 (ipykernel)",
   "language": "python",
   "name": "python3"
  },
  "language_info": {
   "codemirror_mode": {
    "name": "ipython",
    "version": 3
   },
   "file_extension": ".py",
   "mimetype": "text/x-python",
   "name": "python",
   "nbconvert_exporter": "python",
   "pygments_lexer": "ipython3",
   "version": "3.12.7"
  }
 },
 "nbformat": 4,
 "nbformat_minor": 5
}
