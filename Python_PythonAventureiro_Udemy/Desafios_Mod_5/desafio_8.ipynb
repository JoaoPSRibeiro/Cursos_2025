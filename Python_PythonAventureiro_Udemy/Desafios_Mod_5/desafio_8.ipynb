{
 "cells": [
  {
   "cell_type": "markdown",
   "id": "d3e9b820-0e1d-4e4a-8faa-cce00d87e5cc",
   "metadata": {},
   "source": [
    "Escreva um programa que leia dois números inteiros e compare-os. mostrando na tela uma mensagem:\n",
    "\n",
    "O primeiro valor é maior\n",
    "\n",
    "O segundo valor é maior\n",
    "\n",
    "Não existe valor maior, os dois são iguais"
   ]
  },
  {
   "cell_type": "code",
   "execution_count": 12,
   "id": "8e301f64-7a80-4c44-b78d-544f4cdf89b3",
   "metadata": {},
   "outputs": [
    {
     "name": "stdin",
     "output_type": "stream",
     "text": [
      "Digite o primeiro valor:  10\n"
     ]
    }
   ],
   "source": [
    "valor1 = int(input('Digite o primeiro valor: '))"
   ]
  },
  {
   "cell_type": "code",
   "execution_count": 20,
   "id": "63f0e062-13ba-49a9-ac9e-137e9c0039eb",
   "metadata": {},
   "outputs": [
    {
     "name": "stdin",
     "output_type": "stream",
     "text": [
      "Digite o segundo valor:  11\n"
     ]
    }
   ],
   "source": [
    "valor2 = int(input('Digite o segundo valor: '))"
   ]
  },
  {
   "cell_type": "code",
   "execution_count": 22,
   "id": "65ca405d-b735-4d0f-b131-0fef069f52aa",
   "metadata": {},
   "outputs": [
    {
     "name": "stdout",
     "output_type": "stream",
     "text": [
      "O valor 11 é maior\n"
     ]
    }
   ],
   "source": [
    "if valor1 > valor2:\n",
    "    print(f'O valor {valor1} é maior')\n",
    "elif valor2 > valor1:\n",
    "    print(f'O valor {valor2} é maior')\n",
    "else:\n",
    "    print('Os valores são iguais')"
   ]
  },
  {
   "cell_type": "code",
   "execution_count": null,
   "id": "332c34fa-34d9-44e7-be7f-53e2b0aaed05",
   "metadata": {},
   "outputs": [],
   "source": []
  }
 ],
 "metadata": {
  "kernelspec": {
   "display_name": "Python 3 (ipykernel)",
   "language": "python",
   "name": "python3"
  },
  "language_info": {
   "codemirror_mode": {
    "name": "ipython",
    "version": 3
   },
   "file_extension": ".py",
   "mimetype": "text/x-python",
   "name": "python",
   "nbconvert_exporter": "python",
   "pygments_lexer": "ipython3",
   "version": "3.12.7"
  }
 },
 "nbformat": 4,
 "nbformat_minor": 5
}
