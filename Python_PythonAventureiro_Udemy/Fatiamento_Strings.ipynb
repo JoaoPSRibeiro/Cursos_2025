{
 "cells": [
  {
   "cell_type": "markdown",
   "id": "ccefe2e9-0fc2-415f-a0c5-dd55d0aa9f90",
   "metadata": {},
   "source": [
    "# Fatiamento de Strings"
   ]
  },
  {
   "cell_type": "code",
   "execution_count": 1,
   "id": "aa14a393-ba02-4a84-bc67-7d8e8ce5dce3",
   "metadata": {},
   "outputs": [],
   "source": [
    "palavra = 'string'"
   ]
  },
  {
   "cell_type": "code",
   "execution_count": 9,
   "id": "e99382d1-a9a6-4300-9a0e-153635ad6dfa",
   "metadata": {},
   "outputs": [
    {
     "name": "stdout",
     "output_type": "stream",
     "text": [
      "in\n"
     ]
    }
   ],
   "source": [
    "print(palavra[-3:-1])"
   ]
  },
  {
   "cell_type": "code",
   "execution_count": 13,
   "id": "0f3f91af-2841-4297-9b5a-c291131bd0fa",
   "metadata": {},
   "outputs": [
    {
     "data": {
      "text/plain": [
       "'s'"
      ]
     },
     "execution_count": 13,
     "metadata": {},
     "output_type": "execute_result"
    }
   ],
   "source": [
    "palavra[0]"
   ]
  },
  {
   "cell_type": "code",
   "execution_count": 15,
   "id": "08276d39-5976-4d6d-8bed-537fcf8c6c51",
   "metadata": {},
   "outputs": [
    {
     "data": {
      "text/plain": [
       "'stri'"
      ]
     },
     "execution_count": 15,
     "metadata": {},
     "output_type": "execute_result"
    }
   ],
   "source": [
    "palavra[0:4]"
   ]
  },
  {
   "cell_type": "code",
   "execution_count": 17,
   "id": "b0cb510e-09a3-4e75-a126-a3b939d4bf99",
   "metadata": {},
   "outputs": [
    {
     "data": {
      "text/plain": [
       "'ring'"
      ]
     },
     "execution_count": 17,
     "metadata": {},
     "output_type": "execute_result"
    }
   ],
   "source": [
    "palavra[2:]"
   ]
  },
  {
   "cell_type": "code",
   "execution_count": 21,
   "id": "720c118e-d1d0-48ce-8c9a-b34d7f82cf2b",
   "metadata": {},
   "outputs": [
    {
     "data": {
      "text/plain": [
       "'str'"
      ]
     },
     "execution_count": 21,
     "metadata": {},
     "output_type": "execute_result"
    }
   ],
   "source": [
    "palavra[:3]"
   ]
  },
  {
   "cell_type": "code",
   "execution_count": 23,
   "id": "6112b6df-4464-4711-b807-4e0b6c387f1f",
   "metadata": {},
   "outputs": [
    {
     "data": {
      "text/plain": [
       "'srn'"
      ]
     },
     "execution_count": 23,
     "metadata": {},
     "output_type": "execute_result"
    }
   ],
   "source": [
    "palavra[::2]"
   ]
  },
  {
   "cell_type": "code",
   "execution_count": 19,
   "id": "118f0353-430c-410d-a427-7793a61f6e68",
   "metadata": {},
   "outputs": [
    {
     "data": {
      "text/plain": [
       "'g'"
      ]
     },
     "execution_count": 19,
     "metadata": {},
     "output_type": "execute_result"
    }
   ],
   "source": [
    "palavra[-1]"
   ]
  },
  {
   "cell_type": "code",
   "execution_count": 27,
   "id": "e66eea86-25ce-454a-ab98-9b987ffa19db",
   "metadata": {},
   "outputs": [
    {
     "data": {
      "text/plain": [
       "'ing'"
      ]
     },
     "execution_count": 27,
     "metadata": {},
     "output_type": "execute_result"
    }
   ],
   "source": [
    "palavra[-3:]"
   ]
  },
  {
   "cell_type": "code",
   "execution_count": 29,
   "id": "0e428624-b60c-49c2-98a0-24c92a516cfc",
   "metadata": {},
   "outputs": [
    {
     "data": {
      "text/plain": [
       "'ig'"
      ]
     },
     "execution_count": 29,
     "metadata": {},
     "output_type": "execute_result"
    }
   ],
   "source": [
    "palavra[-3::2]"
   ]
  },
  {
   "cell_type": "code",
   "execution_count": 31,
   "id": "700fc165-0fbf-447b-a2e8-ecab24697701",
   "metadata": {},
   "outputs": [
    {
     "data": {
      "text/plain": [
       "'tri'"
      ]
     },
     "execution_count": 31,
     "metadata": {},
     "output_type": "execute_result"
    }
   ],
   "source": [
    "palavra[-5:-2]"
   ]
  },
  {
   "cell_type": "code",
   "execution_count": null,
   "id": "cc067a16-c987-43fa-b0eb-b1bdba1d9968",
   "metadata": {},
   "outputs": [],
   "source": []
  }
 ],
 "metadata": {
  "kernelspec": {
   "display_name": "Python 3 (ipykernel)",
   "language": "python",
   "name": "python3"
  },
  "language_info": {
   "codemirror_mode": {
    "name": "ipython",
    "version": 3
   },
   "file_extension": ".py",
   "mimetype": "text/x-python",
   "name": "python",
   "nbconvert_exporter": "python",
   "pygments_lexer": "ipython3",
   "version": "3.12.7"
  }
 },
 "nbformat": 4,
 "nbformat_minor": 5
}
