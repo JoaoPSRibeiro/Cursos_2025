{
 "cells": [
  {
   "cell_type": "code",
   "execution_count": 1,
   "id": "dfa31834-8236-4bbb-95e6-1b54aef07552",
   "metadata": {},
   "outputs": [],
   "source": [
    "# String pode ser multiplicada e assim, cria-se uma grande String"
   ]
  },
  {
   "cell_type": "code",
   "execution_count": 5,
   "id": "33af5664-cac3-468a-90f9-882ebf0f52c4",
   "metadata": {},
   "outputs": [],
   "source": [
    "stringona = \"Olá Mundo ,\" * 10"
   ]
  },
  {
   "cell_type": "code",
   "execution_count": 7,
   "id": "7e710701-ca1a-4ec5-9d19-6ff342075505",
   "metadata": {},
   "outputs": [
    {
     "data": {
      "text/plain": [
       "'Olá Mundo ,Olá Mundo ,Olá Mundo ,Olá Mundo ,Olá Mundo ,Olá Mundo ,Olá Mundo ,Olá Mundo ,Olá Mundo ,Olá Mundo ,'"
      ]
     },
     "execution_count": 7,
     "metadata": {},
     "output_type": "execute_result"
    }
   ],
   "source": [
    "stringona"
   ]
  },
  {
   "cell_type": "code",
   "execution_count": 9,
   "id": "c8390502-2703-4709-ac2a-d1709840213b",
   "metadata": {},
   "outputs": [],
   "source": [
    "peso = 85"
   ]
  },
  {
   "cell_type": "code",
   "execution_count": 11,
   "id": "166c2e9e-3840-43f9-af9b-cd1e8bf66e26",
   "metadata": {},
   "outputs": [],
   "source": [
    "altura = 1.74"
   ]
  },
  {
   "cell_type": "code",
   "execution_count": 15,
   "id": "1767a0f7-c248-40b2-9dda-0ebe9d2f8c8c",
   "metadata": {},
   "outputs": [],
   "source": [
    "imc = 85 / (1.72 ** 2)"
   ]
  },
  {
   "cell_type": "code",
   "execution_count": 17,
   "id": "bd481a95-7175-4b3b-a1c6-b44968692e92",
   "metadata": {},
   "outputs": [
    {
     "data": {
      "text/plain": [
       "28.73174689021093"
      ]
     },
     "execution_count": 17,
     "metadata": {},
     "output_type": "execute_result"
    }
   ],
   "source": [
    "imc"
   ]
  },
  {
   "cell_type": "code",
   "execution_count": null,
   "id": "8e22661a-8380-406b-bc01-f8f217ecbe10",
   "metadata": {},
   "outputs": [],
   "source": []
  }
 ],
 "metadata": {
  "kernelspec": {
   "display_name": "Python 3 (ipykernel)",
   "language": "python",
   "name": "python3"
  },
  "language_info": {
   "codemirror_mode": {
    "name": "ipython",
    "version": 3
   },
   "file_extension": ".py",
   "mimetype": "text/x-python",
   "name": "python",
   "nbconvert_exporter": "python",
   "pygments_lexer": "ipython3",
   "version": "3.12.7"
  }
 },
 "nbformat": 4,
 "nbformat_minor": 5
}
