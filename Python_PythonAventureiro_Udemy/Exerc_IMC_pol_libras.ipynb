{
 "cells": [
  {
   "cell_type": "code",
   "execution_count": 25,
   "id": "c97deab7-71db-486e-b376-7b1d98d55efe",
   "metadata": {},
   "outputs": [
    {
     "name": "stdin",
     "output_type": "stream",
     "text": [
      "Digite seu peso em Libras (1 libra = 453 gramas):  216.33\n"
     ]
    }
   ],
   "source": [
    "peso = float(input(\"Digite seu peso em Libras (1 libra = 453 gramas): \"))"
   ]
  },
  {
   "cell_type": "code",
   "execution_count": 27,
   "id": "37ac1f7a-65d6-495a-b4f3-2517c49fe676",
   "metadata": {},
   "outputs": [
    {
     "name": "stdin",
     "output_type": "stream",
     "text": [
      "Digite sua altura em polegadas (1 Polegada = 0.025 mt):  65.6\n"
     ]
    }
   ],
   "source": [
    "altura = float(input(\"Digite sua altura em polegadas (1 Polegada = 0.025 mt): \"))"
   ]
  },
  {
   "cell_type": "code",
   "execution_count": 37,
   "id": "b3586ace-7536-4cce-b6bb-5f901d1404f9",
   "metadata": {},
   "outputs": [],
   "source": [
    "peso_final = peso * 0.453"
   ]
  },
  {
   "cell_type": "code",
   "execution_count": 39,
   "id": "e71d63ed-4e31-4e1b-aaee-28bab7a892f8",
   "metadata": {},
   "outputs": [],
   "source": [
    "alt = altura * 0.025"
   ]
  },
  {
   "cell_type": "code",
   "execution_count": 41,
   "id": "f7f11477-154b-4c4c-9d35-87efff6afb4f",
   "metadata": {},
   "outputs": [],
   "source": [
    "imc = peso_final / alt ** 2"
   ]
  },
  {
   "cell_type": "code",
   "execution_count": 43,
   "id": "3d956d91-d0ef-4e5d-b483-d7059427b6dd",
   "metadata": {},
   "outputs": [
    {
     "data": {
      "text/plain": [
       "36.435711629982166"
      ]
     },
     "execution_count": 43,
     "metadata": {},
     "output_type": "execute_result"
    }
   ],
   "source": [
    "imc"
   ]
  },
  {
   "cell_type": "code",
   "execution_count": null,
   "id": "05af8c35-6a6d-4229-8994-54c597af283b",
   "metadata": {},
   "outputs": [],
   "source": []
  }
 ],
 "metadata": {
  "kernelspec": {
   "display_name": "Python 3 (ipykernel)",
   "language": "python",
   "name": "python3"
  },
  "language_info": {
   "codemirror_mode": {
    "name": "ipython",
    "version": 3
   },
   "file_extension": ".py",
   "mimetype": "text/x-python",
   "name": "python",
   "nbconvert_exporter": "python",
   "pygments_lexer": "ipython3",
   "version": "3.12.7"
  }
 },
 "nbformat": 4,
 "nbformat_minor": 5
}
