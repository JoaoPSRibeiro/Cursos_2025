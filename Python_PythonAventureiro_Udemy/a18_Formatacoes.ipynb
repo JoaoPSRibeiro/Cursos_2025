{
 "cells": [
  {
   "cell_type": "markdown",
   "id": "13e77fb3-9fcb-4652-99e9-4c6e5c0f39f0",
   "metadata": {},
   "source": [
    "# Conversão Automárica para ASCII e Raw"
   ]
  },
  {
   "cell_type": "code",
   "execution_count": 11,
   "id": "d51e1902-0a50-4bcd-ac62-19dd580ad6e7",
   "metadata": {},
   "outputs": [],
   "source": [
    "string = 'Olá Mundo!'"
   ]
  },
  {
   "cell_type": "code",
   "execution_count": 19,
   "id": "2f1d4e5c-7b65-469c-be31-1e5a4c86adbe",
   "metadata": {},
   "outputs": [
    {
     "name": "stdout",
     "output_type": "stream",
     "text": [
      "'Ol\\xe1 Mundo!'\n"
     ]
    }
   ],
   "source": [
    "print(f'{string!a}') # convertendo para ASCII"
   ]
  },
  {
   "cell_type": "code",
   "execution_count": 21,
   "id": "c4a3c838-c815-4102-bfc5-4ac5cabc9d87",
   "metadata": {},
   "outputs": [
    {
     "name": "stdout",
     "output_type": "stream",
     "text": [
      "'Olá Mundo!'\n"
     ]
    }
   ],
   "source": [
    "print(f'{string!r}') # convertendo para RAW"
   ]
  },
  {
   "cell_type": "code",
   "execution_count": 23,
   "id": "0a6be05c-2e0b-47e7-aaeb-7c7854e30e60",
   "metadata": {},
   "outputs": [
    {
     "name": "stdout",
     "output_type": "stream",
     "text": [
      "Olá Mundo!\n"
     ]
    }
   ],
   "source": [
    "print(f'{string!s}') # Padrão "
   ]
  },
  {
   "cell_type": "markdown",
   "id": "67531641-33a3-4270-b995-8fea7eca12a2",
   "metadata": {},
   "source": [
    "# -------------------------------------------------------"
   ]
  },
  {
   "cell_type": "markdown",
   "id": "be1f2b8e-6686-4f97-80e4-92a60404fd39",
   "metadata": {},
   "source": [
    "# Formatação de Números"
   ]
  },
  {
   "cell_type": "code",
   "execution_count": null,
   "id": "902e0767-3428-4b26-874d-04bbd2af6baa",
   "metadata": {},
   "outputs": [],
   "source": []
  }
 ],
 "metadata": {
  "kernelspec": {
   "display_name": "Python 3 (ipykernel)",
   "language": "python",
   "name": "python3"
  },
  "language_info": {
   "codemirror_mode": {
    "name": "ipython",
    "version": 3
   },
   "file_extension": ".py",
   "mimetype": "text/x-python",
   "name": "python",
   "nbconvert_exporter": "python",
   "pygments_lexer": "ipython3",
   "version": "3.12.7"
  }
 },
 "nbformat": 4,
 "nbformat_minor": 5
}
