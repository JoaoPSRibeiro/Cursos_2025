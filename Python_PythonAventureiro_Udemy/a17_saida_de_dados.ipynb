{
 "cells": [
  {
   "cell_type": "code",
   "execution_count": 1,
   "id": "3f2c7438-ac6a-45a9-8659-0f31904d7ebb",
   "metadata": {},
   "outputs": [],
   "source": [
    "# Usando F-Strings \"simples\""
   ]
  },
  {
   "cell_type": "code",
   "execution_count": 120,
   "id": "e5e9262b-6cbe-4834-8998-faadedc224e5",
   "metadata": {},
   "outputs": [
    {
     "name": "stdin",
     "output_type": "stream",
     "text": [
      "Qual o País a ser exibido?  Japão\n"
     ]
    }
   ],
   "source": [
    "pais = input('Qual o País a ser exibido? ')"
   ]
  },
  {
   "cell_type": "code",
   "execution_count": 122,
   "id": "d94acfc6-d6ed-4eea-b7ef-b9f4344b23f3",
   "metadata": {},
   "outputs": [
    {
     "name": "stdin",
     "output_type": "stream",
     "text": [
      "Qual o Ano em que ele ganhou a copa?  1846\n"
     ]
    }
   ],
   "source": [
    "ano = int(input('Qual o Ano em que ele ganhou a copa? '))"
   ]
  },
  {
   "cell_type": "code",
   "execution_count": 124,
   "id": "a5e16ac7-88c3-4540-b485-b82554a5e12d",
   "metadata": {},
   "outputs": [
    {
     "name": "stdout",
     "output_type": "stream",
     "text": [
      "O país: Japão, ganhou a copa em 1846\n"
     ]
    }
   ],
   "source": [
    "print(f'O país: {pais}, ganhou a copa em {ano}')"
   ]
  },
  {
   "cell_type": "markdown",
   "id": "840bbaf1-03ee-4249-8a07-7c47db8623db",
   "metadata": {},
   "source": [
    "abaixo, teremos uma F-String com  mais de 2 elementos"
   ]
  },
  {
   "cell_type": "code",
   "execution_count": 16,
   "id": "f295fd9d-d968-4ffb-bd0f-5321b8b73fc1",
   "metadata": {},
   "outputs": [
    {
     "name": "stdin",
     "output_type": "stream",
     "text": [
      "Digite a Primeira nota:  8\n"
     ]
    }
   ],
   "source": [
    "valor1 = int(input('Digite a Primeira nota: '))"
   ]
  },
  {
   "cell_type": "code",
   "execution_count": 18,
   "id": "f1c1445e-f31c-45d6-84a6-535f903f261b",
   "metadata": {},
   "outputs": [
    {
     "name": "stdin",
     "output_type": "stream",
     "text": [
      "Digite a Segunda nota:  9\n"
     ]
    }
   ],
   "source": [
    "valor2 = int(input('Digite a Segunda nota: '))"
   ]
  },
  {
   "cell_type": "code",
   "execution_count": 22,
   "id": "7d762d4f-9e52-4318-8c71-97b0209e8dc4",
   "metadata": {},
   "outputs": [
    {
     "name": "stdin",
     "output_type": "stream",
     "text": [
      "Digite a Terceira nota:  10\n"
     ]
    }
   ],
   "source": [
    "valor3 = int(input('Digite a Terceira nota: '))"
   ]
  },
  {
   "cell_type": "code",
   "execution_count": 24,
   "id": "bb20e165-5f58-4158-8ceb-8eb5f4309a4a",
   "metadata": {},
   "outputs": [],
   "source": [
    "media = (valor1+valor2+valor3)/3"
   ]
  },
  {
   "cell_type": "code",
   "execution_count": 30,
   "id": "64552b15-2f23-4534-ac9b-1633d69a5abe",
   "metadata": {},
   "outputs": [
    {
     "name": "stdout",
     "output_type": "stream",
     "text": [
      "A média entre 8, 9 e 10 é: 9.0\n"
     ]
    }
   ],
   "source": [
    "print(f'A média entre {valor1}, {valor2} e {valor3} é: {media}')"
   ]
  },
  {
   "cell_type": "code",
   "execution_count": 32,
   "id": "ad800384-53cc-4ae4-a964-ad7d52215af1",
   "metadata": {},
   "outputs": [],
   "source": [
    "pi = 3.14159"
   ]
  },
  {
   "cell_type": "code",
   "execution_count": 36,
   "id": "d19a93aa-9799-45ca-9d1f-173af3eac361",
   "metadata": {},
   "outputs": [
    {
     "name": "stdout",
     "output_type": "stream",
     "text": [
      "O valor de pi é 3.14159\n"
     ]
    }
   ],
   "source": [
    "print(f'O valor de pi é {pi}')"
   ]
  },
  {
   "cell_type": "code",
   "execution_count": null,
   "id": "2d2c236d-341d-401e-87c0-66d6a4c1a235",
   "metadata": {},
   "outputs": [],
   "source": [
    "# Abaixo teremos um elemento :.2f que trunca os valores decimais e apresenta apenas 2"
   ]
  },
  {
   "cell_type": "code",
   "execution_count": 38,
   "id": "d16ac285-845e-42e6-8fc8-fba76898a3aa",
   "metadata": {},
   "outputs": [
    {
     "name": "stdout",
     "output_type": "stream",
     "text": [
      "O valor de pi é 3.14\n"
     ]
    }
   ],
   "source": [
    "print(f'O valor de pi é {pi:.2f}')"
   ]
  },
  {
   "cell_type": "code",
   "execution_count": 40,
   "id": "002b9290-ef28-4c23-b3e3-26ac2912db49",
   "metadata": {},
   "outputs": [],
   "source": [
    "nome1 = 'Programador'"
   ]
  },
  {
   "cell_type": "code",
   "execution_count": 42,
   "id": "506e652a-01d2-42b5-b99e-16fdd2bc7f58",
   "metadata": {},
   "outputs": [],
   "source": [
    "nome2 = 'Aventureiro'"
   ]
  },
  {
   "cell_type": "code",
   "execution_count": 50,
   "id": "64c02e44-c11c-4838-bd3a-447a6c1bb6cf",
   "metadata": {},
   "outputs": [
    {
     "name": "stdout",
     "output_type": "stream",
     "text": [
      "Programador          Aventureiro         \n"
     ]
    }
   ],
   "source": [
    "print(f'{nome1:20} {nome2:20}')"
   ]
  },
  {
   "cell_type": "code",
   "execution_count": 48,
   "id": "0bd6a080-d682-43ff-8827-20537c6bec10",
   "metadata": {},
   "outputs": [],
   "source": [
    "# na linha acima, mandamos cada variável ocupar 20 caracteres"
   ]
  },
  {
   "cell_type": "code",
   "execution_count": 54,
   "id": "ba2b1187-89c1-4248-9051-11d5119a043d",
   "metadata": {},
   "outputs": [
    {
     "name": "stdout",
     "output_type": "stream",
     "text": [
      "Programador                   Aventureiro\n"
     ]
    }
   ],
   "source": [
    "print(f'{nome1:<20} {nome2:>20}')"
   ]
  },
  {
   "cell_type": "code",
   "execution_count": 56,
   "id": "cf6a5164-83d1-4101-9dab-32c27fd553e8",
   "metadata": {},
   "outputs": [],
   "source": [
    "# na linha acima, mandamos cada variável ocupar 20 caracteres e alinhamos nome1 à esquerda e nome2 à direita"
   ]
  },
  {
   "cell_type": "code",
   "execution_count": 58,
   "id": "4b29e0fa-893d-4c35-b963-6d5affd12e71",
   "metadata": {},
   "outputs": [
    {
     "name": "stdout",
     "output_type": "stream",
     "text": [
      "----Programador----- ++++Aventureiro+++++\n"
     ]
    }
   ],
   "source": [
    "print(f'{nome1:-^20} {nome2:+^20}')"
   ]
  },
  {
   "cell_type": "code",
   "execution_count": 60,
   "id": "b5d35eeb-8b03-4f56-8e2c-7eafd4f80cc1",
   "metadata": {},
   "outputs": [],
   "source": [
    "# na linha acima, mandamos cada variável ocupar 20 caracteres e alinhamos ambos no meio e inserimos caracteres para demontrar os espaços"
   ]
  },
  {
   "cell_type": "code",
   "execution_count": 64,
   "id": "16086a9a-52b5-4129-badc-66600f962c16",
   "metadata": {},
   "outputs": [],
   "source": [
    "cpf = '12'"
   ]
  },
  {
   "cell_type": "code",
   "execution_count": 66,
   "id": "74bbece7-18e2-435d-a521-c3e48d89e72c",
   "metadata": {},
   "outputs": [
    {
     "name": "stdout",
     "output_type": "stream",
     "text": [
      "00000000012\n"
     ]
    }
   ],
   "source": [
    "print(f'{cpf.zfill(11)}')"
   ]
  },
  {
   "cell_type": "code",
   "execution_count": 70,
   "id": "896832c6-f10e-4912-af74-dec3c517ec5e",
   "metadata": {},
   "outputs": [],
   "source": [
    "# a função zfill insere zeros à esquerda da nossa String. Muito usado para cpf começado em zero para salvar no Banco de Dados"
   ]
  },
  {
   "cell_type": "code",
   "execution_count": 76,
   "id": "3f0ae8de-47e5-4677-901e-a0cdcd43f6a5",
   "metadata": {},
   "outputs": [],
   "source": [
    "# 1/2 --> é o valor da porcentagem que queremos, neste caso 50%\n",
    "# :.1 número de casas decimais\n",
    "# % será exibido ao final"
   ]
  },
  {
   "cell_type": "code",
   "execution_count": 72,
   "id": "1f8fb0fe-b2f6-404a-acec-5304d08021f0",
   "metadata": {},
   "outputs": [
    {
     "data": {
      "text/plain": [
       "'taxa: 50.0%'"
      ]
     },
     "execution_count": 72,
     "metadata": {},
     "output_type": "execute_result"
    }
   ],
   "source": [
    "f'taxa: {1/2 :.1%}'"
   ]
  },
  {
   "cell_type": "code",
   "execution_count": 88,
   "id": "4d7e9577-49e0-4ac3-93e4-29d68a56fe30",
   "metadata": {},
   "outputs": [],
   "source": [
    "nome1 = 'Dora'"
   ]
  },
  {
   "cell_type": "code",
   "execution_count": 90,
   "id": "5f9a23a2-b182-421c-a154-120123ead671",
   "metadata": {},
   "outputs": [],
   "source": [
    "nome2 = 'Aventureira'"
   ]
  },
  {
   "cell_type": "code",
   "execution_count": 92,
   "id": "1e900df3-719f-46be-95a3-0968891e4020",
   "metadata": {},
   "outputs": [
    {
     "name": "stdout",
     "output_type": "stream",
     "text": [
      "Dora Aventureira\n"
     ]
    }
   ],
   "source": [
    "print(f'{nome1} {nome2}')"
   ]
  },
  {
   "cell_type": "code",
   "execution_count": 126,
   "id": "36714d86-afca-45f9-b31a-63f01df5555d",
   "metadata": {},
   "outputs": [
    {
     "name": "stdout",
     "output_type": "stream",
     "text": [
      "---Dora---- ++++Aventureira+++++\n"
     ]
    }
   ],
   "source": [
    "print(f'{nome1:-^11} {nome2:+^20}')"
   ]
  },
  {
   "cell_type": "code",
   "execution_count": null,
   "id": "fe10fbfd-bf31-4fbd-8317-79b37ec78832",
   "metadata": {},
   "outputs": [],
   "source": []
  }
 ],
 "metadata": {
  "kernelspec": {
   "display_name": "Python 3 (ipykernel)",
   "language": "python",
   "name": "python3"
  },
  "language_info": {
   "codemirror_mode": {
    "name": "ipython",
    "version": 3
   },
   "file_extension": ".py",
   "mimetype": "text/x-python",
   "name": "python",
   "nbconvert_exporter": "python",
   "pygments_lexer": "ipython3",
   "version": "3.12.7"
  }
 },
 "nbformat": 4,
 "nbformat_minor": 5
}
