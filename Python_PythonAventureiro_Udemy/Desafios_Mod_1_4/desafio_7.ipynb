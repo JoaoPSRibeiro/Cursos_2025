{
 "cells": [
  {
   "cell_type": "markdown",
   "id": "c261e03f-ff6d-47ba-aabf-b115350eb110",
   "metadata": {},
   "source": [
    "Escreva um programa que leia um número e diga qual o seu dobro, triplo, quadrado, cubo e raiz quadrada​"
   ]
  },
  {
   "cell_type": "code",
   "execution_count": 5,
   "id": "b84810fc-b47f-4ea6-91f0-a3e59e037bb8",
   "metadata": {},
   "outputs": [
    {
     "name": "stdin",
     "output_type": "stream",
     "text": [
      "Digite o valor:  25\n"
     ]
    }
   ],
   "source": [
    "num = int(input('Digite o valor: '))"
   ]
  },
  {
   "cell_type": "code",
   "execution_count": 7,
   "id": "e08390b4-46b6-4623-8f2e-95ae387628df",
   "metadata": {},
   "outputs": [
    {
     "name": "stdout",
     "output_type": "stream",
     "text": [
      "O dobro de 25 é 50.\n"
     ]
    }
   ],
   "source": [
    "print(f'O dobro de {num} é {num*2}.')"
   ]
  },
  {
   "cell_type": "code",
   "execution_count": 9,
   "id": "af029cc6-8e9c-47b5-80f0-ec7845139819",
   "metadata": {},
   "outputs": [
    {
     "name": "stdout",
     "output_type": "stream",
     "text": [
      "O triplo de 25 é 75.\n"
     ]
    }
   ],
   "source": [
    "print(f'O triplo de {num} é {num*3}.')"
   ]
  },
  {
   "cell_type": "code",
   "execution_count": 11,
   "id": "9c023afe-0dc0-49c1-940a-87ce31841641",
   "metadata": {},
   "outputs": [
    {
     "name": "stdout",
     "output_type": "stream",
     "text": [
      "O quadrado de 25 é 625.\n"
     ]
    }
   ],
   "source": [
    "print(f'O quadrado de {num} é {num*num}.')"
   ]
  },
  {
   "cell_type": "code",
   "execution_count": 15,
   "id": "f2e5431e-2f20-4521-a376-bfa9da420581",
   "metadata": {},
   "outputs": [
    {
     "name": "stdout",
     "output_type": "stream",
     "text": [
      "A raíz quadrada de 25 é 5.0.\n"
     ]
    }
   ],
   "source": [
    "print(f'A raíz quadrada de {num} é {num**0.5}.')"
   ]
  },
  {
   "cell_type": "code",
   "execution_count": null,
   "id": "df2873ac-cd25-482b-ac2a-4241d1cdd19b",
   "metadata": {},
   "outputs": [],
   "source": []
  }
 ],
 "metadata": {
  "kernelspec": {
   "display_name": "Python 3 (ipykernel)",
   "language": "python",
   "name": "python3"
  },
  "language_info": {
   "codemirror_mode": {
    "name": "ipython",
    "version": 3
   },
   "file_extension": ".py",
   "mimetype": "text/x-python",
   "name": "python",
   "nbconvert_exporter": "python",
   "pygments_lexer": "ipython3",
   "version": "3.12.7"
  }
 },
 "nbformat": 4,
 "nbformat_minor": 5
}
