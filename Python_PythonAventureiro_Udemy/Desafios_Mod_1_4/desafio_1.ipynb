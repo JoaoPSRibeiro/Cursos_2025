{
 "cells": [
  {
   "cell_type": "code",
   "execution_count": 3,
   "id": "6d3ab09e-d6c0-4a37-8e95-f8e948f886d0",
   "metadata": {},
   "outputs": [
    {
     "name": "stdin",
     "output_type": "stream",
     "text": [
      "Digite seu nome:  João Paulo\n"
     ]
    }
   ],
   "source": [
    "nome = input('Digite seu nome: ')"
   ]
  },
  {
   "cell_type": "code",
   "execution_count": 5,
   "id": "89aa35b4-d39a-4c81-8e95-ce8213cb1daa",
   "metadata": {},
   "outputs": [
    {
     "name": "stdout",
     "output_type": "stream",
     "text": [
      "Olá João Paulo, seja ben vindo!!!\n"
     ]
    }
   ],
   "source": [
    "print(f'Olá {nome}, seja ben vindo!!!')"
   ]
  },
  {
   "cell_type": "code",
   "execution_count": null,
   "id": "ba9dd6e9-6b4b-4e57-ba70-ec3d34b2455c",
   "metadata": {},
   "outputs": [],
   "source": []
  }
 ],
 "metadata": {
  "kernelspec": {
   "display_name": "Python 3 (ipykernel)",
   "language": "python",
   "name": "python3"
  },
  "language_info": {
   "codemirror_mode": {
    "name": "ipython",
    "version": 3
   },
   "file_extension": ".py",
   "mimetype": "text/x-python",
   "name": "python",
   "nbconvert_exporter": "python",
   "pygments_lexer": "ipython3",
   "version": "3.12.7"
  }
 },
 "nbformat": 4,
 "nbformat_minor": 5
}
