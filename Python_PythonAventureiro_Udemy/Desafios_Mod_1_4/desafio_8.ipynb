{
 "cells": [
  {
   "cell_type": "markdown",
   "id": "486ee3a6-6cd4-437e-8e35-14fb674f63a1",
   "metadata": {},
   "source": [
    "Escreva um programa que leia três notas de um aluno digitados pelo usuário e retorne a média dele​"
   ]
  },
  {
   "cell_type": "code",
   "execution_count": 2,
   "id": "7a629827-6682-4bfe-ab12-8b633c4681b0",
   "metadata": {},
   "outputs": [
    {
     "name": "stdin",
     "output_type": "stream",
     "text": [
      "Digite a primeira nota:  8\n"
     ]
    }
   ],
   "source": [
    "n1 = float(input('Digite a primeira nota: '))"
   ]
  },
  {
   "cell_type": "code",
   "execution_count": 4,
   "id": "54438081-c8d8-4501-a58d-ec6b1307012e",
   "metadata": {},
   "outputs": [
    {
     "name": "stdin",
     "output_type": "stream",
     "text": [
      "Digite a segunda nota:  9\n"
     ]
    }
   ],
   "source": [
    "n2 = float(input('Digite a segunda nota: '))"
   ]
  },
  {
   "cell_type": "code",
   "execution_count": 8,
   "id": "5b77e7fe-9548-47fb-8b3f-a8765467f7b0",
   "metadata": {},
   "outputs": [
    {
     "name": "stdin",
     "output_type": "stream",
     "text": [
      "Digite a terceira nota:  5\n"
     ]
    }
   ],
   "source": [
    "n3 = float(input('Digite a terceira nota: '))"
   ]
  },
  {
   "cell_type": "code",
   "execution_count": 10,
   "id": "91afc308-a979-44aa-8068-5284d83a3498",
   "metadata": {},
   "outputs": [],
   "source": [
    "media = (n1+n2+n3)/3"
   ]
  },
  {
   "cell_type": "code",
   "execution_count": 12,
   "id": "b92217be-5d5c-42dc-8ebd-32e47f181314",
   "metadata": {},
   "outputs": [
    {
     "data": {
      "text/plain": [
       "7.333333333333333"
      ]
     },
     "execution_count": 12,
     "metadata": {},
     "output_type": "execute_result"
    }
   ],
   "source": [
    "media"
   ]
  },
  {
   "cell_type": "code",
   "execution_count": 16,
   "id": "ba88612f-0810-415f-ac06-9a2adcbb7c46",
   "metadata": {},
   "outputs": [
    {
     "name": "stdout",
     "output_type": "stream",
     "text": [
      "A média entre as notas 8.0, 9.0 e 5.0 foi de: 7.33.\n"
     ]
    }
   ],
   "source": [
    "print(f'A média entre as notas {n1}, {n2} e {n3} foi de: {media:.2f}.')"
   ]
  },
  {
   "cell_type": "code",
   "execution_count": null,
   "id": "822e50e4-5fe6-45c8-81cb-3625c2ecb982",
   "metadata": {},
   "outputs": [],
   "source": []
  }
 ],
 "metadata": {
  "kernelspec": {
   "display_name": "Python 3 (ipykernel)",
   "language": "python",
   "name": "python3"
  },
  "language_info": {
   "codemirror_mode": {
    "name": "ipython",
    "version": 3
   },
   "file_extension": ".py",
   "mimetype": "text/x-python",
   "name": "python",
   "nbconvert_exporter": "python",
   "pygments_lexer": "ipython3",
   "version": "3.12.7"
  }
 },
 "nbformat": 4,
 "nbformat_minor": 5
}
