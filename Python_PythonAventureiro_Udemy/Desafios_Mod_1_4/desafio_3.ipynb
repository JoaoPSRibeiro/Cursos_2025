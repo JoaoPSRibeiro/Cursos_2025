{
 "cells": [
  {
   "cell_type": "markdown",
   "id": "bf4257a5-90a4-4c42-a7a5-540ac361c050",
   "metadata": {},
   "source": [
    "Escreva um programa que peça dois valores para o usuário e retorne a soma entre eles​"
   ]
  },
  {
   "cell_type": "code",
   "execution_count": 5,
   "id": "aba4999c-568c-40c5-9c13-ed2fffca0d0a",
   "metadata": {},
   "outputs": [
    {
     "name": "stdin",
     "output_type": "stream",
     "text": [
      "Digite o primeiro valor:  100\n"
     ]
    }
   ],
   "source": [
    "num1 = int(input('Digite o primeiro valor: '))"
   ]
  },
  {
   "cell_type": "code",
   "execution_count": 7,
   "id": "0cb8bf7d-e5ee-4b2c-948e-4735c6bd1289",
   "metadata": {},
   "outputs": [
    {
     "name": "stdin",
     "output_type": "stream",
     "text": [
      "Digite o segundo valor:  50\n"
     ]
    }
   ],
   "source": [
    "num2 = int(input('Digite o segundo valor: '))"
   ]
  },
  {
   "cell_type": "code",
   "execution_count": 9,
   "id": "124fb611-b6c2-41e6-8b24-34cf57097369",
   "metadata": {},
   "outputs": [],
   "source": [
    "soma = num1 + num2"
   ]
  },
  {
   "cell_type": "code",
   "execution_count": 11,
   "id": "30de14ae-a6c9-468d-9b9c-627b7730b964",
   "metadata": {},
   "outputs": [
    {
     "name": "stdout",
     "output_type": "stream",
     "text": [
      "A Soma entre 100 e 50 é: 150.\n"
     ]
    }
   ],
   "source": [
    "print(f'A Soma entre {num1} e {num2} é: {soma}.')"
   ]
  },
  {
   "cell_type": "code",
   "execution_count": null,
   "id": "2ffa0e15-717e-449d-a260-7938456ad6f1",
   "metadata": {},
   "outputs": [],
   "source": []
  },
  {
   "cell_type": "code",
   "execution_count": null,
   "id": "4d60bedd-d7e9-47a6-944d-d0f85f15bf61",
   "metadata": {},
   "outputs": [],
   "source": []
  }
 ],
 "metadata": {
  "kernelspec": {
   "display_name": "Python 3 (ipykernel)",
   "language": "python",
   "name": "python3"
  },
  "language_info": {
   "codemirror_mode": {
    "name": "ipython",
    "version": 3
   },
   "file_extension": ".py",
   "mimetype": "text/x-python",
   "name": "python",
   "nbconvert_exporter": "python",
   "pygments_lexer": "ipython3",
   "version": "3.12.7"
  }
 },
 "nbformat": 4,
 "nbformat_minor": 5
}
