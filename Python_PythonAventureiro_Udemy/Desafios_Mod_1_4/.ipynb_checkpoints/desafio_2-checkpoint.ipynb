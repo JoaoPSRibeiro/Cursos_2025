{
 "cells": [
  {
   "cell_type": "markdown",
   "id": "e15ffbf7-7395-4158-a8a1-ea61899f8eff",
   "metadata": {},
   "source": [
    "Escreva um programa que leia o ano de nascimento do usuário e retorne quantos anos ele fará em 2035​"
   ]
  },
  {
   "cell_type": "code",
   "execution_count": 6,
   "id": "023e55e5-1998-42d1-b08b-efaad588dd44",
   "metadata": {},
   "outputs": [
    {
     "name": "stdin",
     "output_type": "stream",
     "text": [
      "Digite o ano de seu nascimento:  1984\n"
     ]
    }
   ],
   "source": [
    "nasc = int(input('Digite o ano de seu nascimento: '))"
   ]
  },
  {
   "cell_type": "code",
   "execution_count": 8,
   "id": "74403a99-3ef3-4ca5-8d09-843ae1a5534f",
   "metadata": {},
   "outputs": [],
   "source": [
    "ano_2035 = 2035"
   ]
  },
  {
   "cell_type": "code",
   "execution_count": 10,
   "id": "db7f3829-dff5-4fbb-a154-d56b635c50ee",
   "metadata": {},
   "outputs": [],
   "source": [
    "idade = ano_2035 - nasc"
   ]
  },
  {
   "cell_type": "code",
   "execution_count": 14,
   "id": "1cdd08c9-9fe1-4321-a5b7-ae644f3f883b",
   "metadata": {},
   "outputs": [
    {
     "name": "stdout",
     "output_type": "stream",
     "text": [
      "Em 2035 você terá 51 anos de idade!!!\n"
     ]
    }
   ],
   "source": [
    "print(f'Em 2035 você terá {idade} anos de idade!!!')"
   ]
  },
  {
   "cell_type": "code",
   "execution_count": null,
   "id": "0a3725f8-21ea-42ac-b188-e00b7781ce57",
   "metadata": {},
   "outputs": [],
   "source": []
  }
 ],
 "metadata": {
  "kernelspec": {
   "display_name": "Python 3 (ipykernel)",
   "language": "python",
   "name": "python3"
  },
  "language_info": {
   "codemirror_mode": {
    "name": "ipython",
    "version": 3
   },
   "file_extension": ".py",
   "mimetype": "text/x-python",
   "name": "python",
   "nbconvert_exporter": "python",
   "pygments_lexer": "ipython3",
   "version": "3.12.7"
  }
 },
 "nbformat": 4,
 "nbformat_minor": 5
}
