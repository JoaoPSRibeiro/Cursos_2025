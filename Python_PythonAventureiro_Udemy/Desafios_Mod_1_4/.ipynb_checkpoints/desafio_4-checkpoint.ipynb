{
 "cells": [
  {
   "cell_type": "markdown",
   "id": "b80d3073-4dfa-48a3-b20d-f42519907b66",
   "metadata": {},
   "source": [
    "Escreva um programa que peça dois valores para o usuário e retorne a multiplicação entre eles​"
   ]
  },
  {
   "cell_type": "code",
   "execution_count": 4,
   "id": "eeeb34d3-c316-453f-9adc-e1395d1beece",
   "metadata": {},
   "outputs": [
    {
     "name": "stdin",
     "output_type": "stream",
     "text": [
      "Digite o primeiro valor:  10\n"
     ]
    }
   ],
   "source": [
    "val1 = int(input('Digite o primeiro valor: '))"
   ]
  },
  {
   "cell_type": "code",
   "execution_count": 6,
   "id": "aa295ef3-1abf-4b3d-b79d-7fe2a58a4534",
   "metadata": {},
   "outputs": [
    {
     "name": "stdin",
     "output_type": "stream",
     "text": [
      "Digite o Segundo valor:  6\n"
     ]
    }
   ],
   "source": [
    "val2 = int(input('Digite o Segundo valor: '))"
   ]
  },
  {
   "cell_type": "code",
   "execution_count": 8,
   "id": "60fb3e1d-b8b3-44ae-95ea-303ec3c0fb99",
   "metadata": {},
   "outputs": [],
   "source": [
    "mult = val1 * val2"
   ]
  },
  {
   "cell_type": "code",
   "execution_count": 12,
   "id": "df453528-c130-4838-a048-3c0498b66fe3",
   "metadata": {},
   "outputs": [
    {
     "name": "stdout",
     "output_type": "stream",
     "text": [
      "A multiplicação entre 10 e 6 é: 60.\n"
     ]
    }
   ],
   "source": [
    "print(f'A multiplicação entre {val1} e {val2} é: {mult}.')"
   ]
  },
  {
   "cell_type": "code",
   "execution_count": null,
   "id": "feb680af-1cbf-4c27-9ba0-d074af01f209",
   "metadata": {},
   "outputs": [],
   "source": []
  }
 ],
 "metadata": {
  "kernelspec": {
   "display_name": "Python 3 (ipykernel)",
   "language": "python",
   "name": "python3"
  },
  "language_info": {
   "codemirror_mode": {
    "name": "ipython",
    "version": 3
   },
   "file_extension": ".py",
   "mimetype": "text/x-python",
   "name": "python",
   "nbconvert_exporter": "python",
   "pygments_lexer": "ipython3",
   "version": "3.12.7"
  }
 },
 "nbformat": 4,
 "nbformat_minor": 5
}
