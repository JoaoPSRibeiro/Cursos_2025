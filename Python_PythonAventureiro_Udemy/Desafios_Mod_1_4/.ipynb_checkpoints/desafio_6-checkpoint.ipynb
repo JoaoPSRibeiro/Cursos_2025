{
 "cells": [
  {
   "cell_type": "markdown",
   "id": "fa70a168-fafc-49b0-8662-9a4794aa80a8",
   "metadata": {},
   "source": [
    "Escreva um programa que leia um número digitado pelo usuário e retorne o seu antecessor e o seu sucessor. \n",
    "Vamos considerar como antecessor o número inteiro imediatamente inferior ao número digitado e como \n",
    "sucessor o inteiro imediatamente superior ao número digitado"
   ]
  },
  {
   "cell_type": "code",
   "execution_count": 2,
   "id": "47ababe8-cf2e-4509-9485-40d6a9707133",
   "metadata": {},
   "outputs": [
    {
     "name": "stdin",
     "output_type": "stream",
     "text": [
      "Digite um valor:  20\n"
     ]
    }
   ],
   "source": [
    "numero = int(input('Digite um valor: '))"
   ]
  },
  {
   "cell_type": "code",
   "execution_count": 4,
   "id": "e286628e-d803-47af-99f1-02dabed1826d",
   "metadata": {},
   "outputs": [],
   "source": [
    "ant = numero -1"
   ]
  },
  {
   "cell_type": "code",
   "execution_count": 8,
   "id": "f1cbf871-0c20-42fc-83f3-fc0f5e70e160",
   "metadata": {},
   "outputs": [],
   "source": [
    "suces = numero + 1"
   ]
  },
  {
   "cell_type": "code",
   "execution_count": 10,
   "id": "f022cc28-9f6e-42c4-9a6c-c846ada62acb",
   "metadata": {},
   "outputs": [
    {
     "data": {
      "text/plain": [
       "21"
      ]
     },
     "execution_count": 10,
     "metadata": {},
     "output_type": "execute_result"
    }
   ],
   "source": [
    "suces"
   ]
  },
  {
   "cell_type": "code",
   "execution_count": 12,
   "id": "c95623e4-44ba-4d42-8f79-910612d656fd",
   "metadata": {},
   "outputs": [
    {
     "name": "stdout",
     "output_type": "stream",
     "text": [
      "O Número digitado foi 20, tendo com antecessor o 19 e como sucessor o 21.\n"
     ]
    }
   ],
   "source": [
    "print(f'O Número digitado foi {numero}, tendo com antecessor o {ant} e como sucessor o {suces}.')"
   ]
  },
  {
   "cell_type": "code",
   "execution_count": null,
   "id": "22d64156-2f6a-4d9b-b25a-85471dce0395",
   "metadata": {},
   "outputs": [],
   "source": []
  }
 ],
 "metadata": {
  "kernelspec": {
   "display_name": "Python 3 (ipykernel)",
   "language": "python",
   "name": "python3"
  },
  "language_info": {
   "codemirror_mode": {
    "name": "ipython",
    "version": 3
   },
   "file_extension": ".py",
   "mimetype": "text/x-python",
   "name": "python",
   "nbconvert_exporter": "python",
   "pygments_lexer": "ipython3",
   "version": "3.12.7"
  }
 },
 "nbformat": 4,
 "nbformat_minor": 5
}
