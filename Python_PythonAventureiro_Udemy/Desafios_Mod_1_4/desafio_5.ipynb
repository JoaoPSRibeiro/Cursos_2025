{
 "cells": [
  {
   "cell_type": "markdown",
   "id": "443bfb5a-c881-472e-b417-6e829d6610b5",
   "metadata": {},
   "source": [
    "Escreva um programa que leia o nome completo do usuário e retorne ele em maísculas, minúsculas, capitalizado e em formatação de título​"
   ]
  },
  {
   "cell_type": "code",
   "execution_count": 8,
   "id": "b456fa63-e027-46c2-a8c4-58f014d6c658",
   "metadata": {},
   "outputs": [
    {
     "name": "stdin",
     "output_type": "stream",
     "text": [
      "Digite seu nome completo:  Joao paulo Santos Ribeiro\n"
     ]
    }
   ],
   "source": [
    "nome = input('Digite seu nome completo: ')"
   ]
  },
  {
   "cell_type": "code",
   "execution_count": 10,
   "id": "9d97f267-ae41-45e2-bbf9-e91646b75da6",
   "metadata": {},
   "outputs": [
    {
     "name": "stdout",
     "output_type": "stream",
     "text": [
      "Nome Maiúsculo: JOAO PAULO SANTOS RIBEIRO.\n"
     ]
    }
   ],
   "source": [
    "print(f'Nome Maiúsculo: {nome.upper()}.')"
   ]
  },
  {
   "cell_type": "code",
   "execution_count": 12,
   "id": "729e6d94-9e9b-4bb2-ab39-8c3935782a99",
   "metadata": {},
   "outputs": [
    {
     "name": "stdout",
     "output_type": "stream",
     "text": [
      "Nome minúsculo: joao paulo santos ribeiro.\n"
     ]
    }
   ],
   "source": [
    "print(f'Nome minúsculo: {nome.lower()}.')"
   ]
  },
  {
   "cell_type": "code",
   "execution_count": 16,
   "id": "308544b3-5573-4cdc-9ab4-fccb06984497",
   "metadata": {},
   "outputs": [
    {
     "name": "stdout",
     "output_type": "stream",
     "text": [
      "Nome Capitalizado: Joao paulo santos ribeiro.\n"
     ]
    }
   ],
   "source": [
    "print(f'Nome Capitalizado: {nome.capitalize()}.')"
   ]
  },
  {
   "cell_type": "code",
   "execution_count": 18,
   "id": "772e1a0d-afba-4289-9c0d-b940025e1e4b",
   "metadata": {},
   "outputs": [
    {
     "name": "stdout",
     "output_type": "stream",
     "text": [
      "Nome com título: Joao Paulo Santos Ribeiro.\n"
     ]
    }
   ],
   "source": [
    "print(f'Nome com título: {nome.title()}.')"
   ]
  },
  {
   "cell_type": "code",
   "execution_count": null,
   "id": "0b5bde36-68be-4a18-80c5-ec4a13167649",
   "metadata": {},
   "outputs": [],
   "source": []
  }
 ],
 "metadata": {
  "kernelspec": {
   "display_name": "Python 3 (ipykernel)",
   "language": "python",
   "name": "python3"
  },
  "language_info": {
   "codemirror_mode": {
    "name": "ipython",
    "version": 3
   },
   "file_extension": ".py",
   "mimetype": "text/x-python",
   "name": "python",
   "nbconvert_exporter": "python",
   "pygments_lexer": "ipython3",
   "version": "3.12.7"
  }
 },
 "nbformat": 4,
 "nbformat_minor": 5
}
