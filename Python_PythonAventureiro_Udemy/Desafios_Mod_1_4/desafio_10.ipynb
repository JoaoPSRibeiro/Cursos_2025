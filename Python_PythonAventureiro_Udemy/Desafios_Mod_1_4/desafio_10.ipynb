{
 "cells": [
  {
   "cell_type": "markdown",
   "id": "24a73bc4-513d-4427-87ad-718bddb2c95b",
   "metadata": {},
   "source": [
    "Faça um programa que leia a largura e a altura de uma parede em metros, \n",
    "calcule a sua área e a quantidade de tinta necessária para pintá-la, \n",
    "sabendo que cada litro de tinta pinta uma área de 2 metros quadrados.​"
   ]
  },
  {
   "cell_type": "code",
   "execution_count": 2,
   "id": "03cd44ff-07a7-4d2f-9e91-a3a04f7777c0",
   "metadata": {},
   "outputs": [
    {
     "name": "stdin",
     "output_type": "stream",
     "text": [
      "Digite a Aluta da parede:  3\n"
     ]
    }
   ],
   "source": [
    "altura = int(input('Digite a Aluta da parede: '))"
   ]
  },
  {
   "cell_type": "code",
   "execution_count": 4,
   "id": "9db5d7fc-d4c1-456d-afe5-a949cad10022",
   "metadata": {},
   "outputs": [
    {
     "name": "stdin",
     "output_type": "stream",
     "text": [
      "Digite a Larguta da parede:  6\n"
     ]
    }
   ],
   "source": [
    "largura = int(input('Digite a Larguta da parede: '))"
   ]
  },
  {
   "cell_type": "code",
   "execution_count": 6,
   "id": "ba59de57-51c4-432a-a818-07682f6b11b4",
   "metadata": {},
   "outputs": [],
   "source": [
    "tam = altura * largura"
   ]
  },
  {
   "cell_type": "code",
   "execution_count": 10,
   "id": "f6949a42-ce36-4bb6-a47a-3e1ad73d6cc0",
   "metadata": {},
   "outputs": [
    {
     "name": "stdout",
     "output_type": "stream",
     "text": [
      "Para a parede com 3mt de altura por 6mt de lagura, precisaremos de 9.0 litros de tinta.\n"
     ]
    }
   ],
   "source": [
    "print(f'Para a parede com {altura}mt de altura por {largura}mt de lagura, precisaremos de {tam/2} litros de tinta.')"
   ]
  },
  {
   "cell_type": "code",
   "execution_count": null,
   "id": "896d6a54-231b-4cb5-bb78-8ade23ab2c22",
   "metadata": {},
   "outputs": [],
   "source": []
  }
 ],
 "metadata": {
  "kernelspec": {
   "display_name": "Python 3 (ipykernel)",
   "language": "python",
   "name": "python3"
  },
  "language_info": {
   "codemirror_mode": {
    "name": "ipython",
    "version": 3
   },
   "file_extension": ".py",
   "mimetype": "text/x-python",
   "name": "python",
   "nbconvert_exporter": "python",
   "pygments_lexer": "ipython3",
   "version": "3.12.7"
  }
 },
 "nbformat": 4,
 "nbformat_minor": 5
}
