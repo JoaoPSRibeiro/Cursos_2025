{
 "cells": [
  {
   "cell_type": "code",
   "execution_count": 3,
   "id": "5710ea1f-6b0d-45e7-9759-aaeb8ee4d209",
   "metadata": {},
   "outputs": [
    {
     "name": "stdin",
     "output_type": "stream",
     "text": [
      " oi, tudo bem?\n"
     ]
    },
    {
     "data": {
      "text/plain": [
       "'oi, tudo bem?'"
      ]
     },
     "execution_count": 3,
     "metadata": {},
     "output_type": "execute_result"
    }
   ],
   "source": [
    "input()"
   ]
  },
  {
   "cell_type": "code",
   "execution_count": 5,
   "id": "0cfd7a59-4bcd-4803-95ac-9a8c9920a7aa",
   "metadata": {},
   "outputs": [
    {
     "name": "stdin",
     "output_type": "stream",
     "text": [
      "Qual seu nome?  João\n"
     ]
    }
   ],
   "source": [
    "nome = input('Qual seu nome? ')"
   ]
  },
  {
   "cell_type": "code",
   "execution_count": 7,
   "id": "d9c43bd7-8e29-4cea-9db6-5de6eab1cf9f",
   "metadata": {},
   "outputs": [
    {
     "name": "stdout",
     "output_type": "stream",
     "text": [
      "Olá João, seja bem vindo\n"
     ]
    }
   ],
   "source": [
    "print(f'Olá {nome}, seja bem vindo')"
   ]
  },
  {
   "cell_type": "code",
   "execution_count": null,
   "id": "a30ccc18-8496-4dca-9e4c-56fa3fbe41bc",
   "metadata": {},
   "outputs": [],
   "source": []
  }
 ],
 "metadata": {
  "kernelspec": {
   "display_name": "Python 3 (ipykernel)",
   "language": "python",
   "name": "python3"
  },
  "language_info": {
   "codemirror_mode": {
    "name": "ipython",
    "version": 3
   },
   "file_extension": ".py",
   "mimetype": "text/x-python",
   "name": "python",
   "nbconvert_exporter": "python",
   "pygments_lexer": "ipython3",
   "version": "3.12.7"
  }
 },
 "nbformat": 4,
 "nbformat_minor": 5
}
