{
 "cells": [
  {
   "cell_type": "markdown",
   "id": "ef0c458f-f585-43d0-b043-8569103fa34e",
   "metadata": {},
   "source": [
    "Tendo como dado de entrada a altura (h) de uma pessoa, construa um algoritmo que calcule seu peso ideal, utilizando as seguintes fórmulas:\n",
    "\n",
    "--> Para homens: (72.7*h) - 58\n",
    "--> Para mulheres: (62.1*h) - 44.7"
   ]
  },
  {
   "cell_type": "code",
   "execution_count": 34,
   "id": "d847c900-1650-4dad-b417-55bf75caf243",
   "metadata": {},
   "outputs": [
    {
     "name": "stdin",
     "output_type": "stream",
     "text": [
      "Digite sua altura em centimetros  1.76\n"
     ]
    }
   ],
   "source": [
    "altura = float(input('Digite sua altura em metros '))"
   ]
  },
  {
   "cell_type": "code",
   "execution_count": 20,
   "id": "36789feb-51a1-46d4-ab5d-59bcd0f31093",
   "metadata": {},
   "outputs": [
    {
     "name": "stdin",
     "output_type": "stream",
     "text": [
      "Digite seu peso:  85\n"
     ]
    }
   ],
   "source": [
    "peso = float(input('Digite seu peso: '))"
   ]
  },
  {
   "cell_type": "code",
   "execution_count": 46,
   "id": "a4718f45-1140-4374-bed1-c5297c2c7bf4",
   "metadata": {},
   "outputs": [
    {
     "name": "stdin",
     "output_type": "stream",
     "text": [
      "Você é Homem ou Mulher? Digite H ou M:  m\n"
     ]
    }
   ],
   "source": [
    "sexo = input('Você é Homem ou Mulher? Digite H ou M: ') "
   ]
  },
  {
   "cell_type": "code",
   "execution_count": 48,
   "id": "e20829e3-2831-4f44-9730-a8a40f8bbb4b",
   "metadata": {},
   "outputs": [
    {
     "data": {
      "text/plain": [
       "'m'"
      ]
     },
     "execution_count": 48,
     "metadata": {},
     "output_type": "execute_result"
    }
   ],
   "source": [
    "sexo"
   ]
  },
  {
   "cell_type": "code",
   "execution_count": 36,
   "id": "edaacb7a-cfe0-494c-b66d-402e145a872a",
   "metadata": {},
   "outputs": [],
   "source": [
    "ideal_H = (72.7 * altura) - 58"
   ]
  },
  {
   "cell_type": "code",
   "execution_count": 38,
   "id": "047e3521-e4a5-41b7-8e59-fdccab945b6d",
   "metadata": {},
   "outputs": [
    {
     "data": {
      "text/plain": [
       "69.95200000000001"
      ]
     },
     "execution_count": 38,
     "metadata": {},
     "output_type": "execute_result"
    }
   ],
   "source": [
    "ideal_H"
   ]
  },
  {
   "cell_type": "code",
   "execution_count": 50,
   "id": "b6db7324-5719-49a9-91de-080628d9de07",
   "metadata": {},
   "outputs": [],
   "source": [
    "ideal_M = (62.1 * altura) - 47"
   ]
  },
  {
   "cell_type": "code",
   "execution_count": 52,
   "id": "f2888a8b-eaa9-42c4-bfff-a6944e3782dc",
   "metadata": {},
   "outputs": [
    {
     "data": {
      "text/plain": [
       "62.29600000000001"
      ]
     },
     "execution_count": 52,
     "metadata": {},
     "output_type": "execute_result"
    }
   ],
   "source": [
    "ideal_M"
   ]
  },
  {
   "cell_type": "code",
   "execution_count": 59,
   "id": "1774564e-4fa5-4e6c-9537-9fb5cd170a17",
   "metadata": {},
   "outputs": [
    {
     "name": "stdout",
     "output_type": "stream",
     "text": [
      "Você é Mulher e seu peso ideal é 62.30 Kg\n"
     ]
    }
   ],
   "source": [
    "if sexo.upper() == 'H':\n",
    "    print(f'Você é Homem e seu peso ideal é {ideal_H:.2f} Kg')\n",
    "elif sexo.upper() == 'M':\n",
    "    print(f'Você é Mulher e seu peso ideal é {ideal_M:.2f} Kg')\n",
    "else:\n",
    "    print('Valores inválidos, tente novamente.')"
   ]
  },
  {
   "cell_type": "code",
   "execution_count": null,
   "id": "b440a83d-eb62-4a65-8867-d443e836224f",
   "metadata": {},
   "outputs": [],
   "source": []
  }
 ],
 "metadata": {
  "kernelspec": {
   "display_name": "Python 3 (ipykernel)",
   "language": "python",
   "name": "python3"
  },
  "language_info": {
   "codemirror_mode": {
    "name": "ipython",
    "version": 3
   },
   "file_extension": ".py",
   "mimetype": "text/x-python",
   "name": "python",
   "nbconvert_exporter": "python",
   "pygments_lexer": "ipython3",
   "version": "3.12.7"
  }
 },
 "nbformat": 4,
 "nbformat_minor": 5
}
