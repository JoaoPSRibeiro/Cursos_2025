{
 "cells": [
  {
   "cell_type": "markdown",
   "id": "593606cb-4c88-40f0-a9f5-bbe7b359b967",
   "metadata": {},
   "source": [
    "Faça um Programa que peça um número e então mostre a mensagem O número informado foi [número]."
   ]
  },
  {
   "cell_type": "code",
   "execution_count": 2,
   "id": "ef688fed-3517-4b91-af2d-41b54026c6dc",
   "metadata": {},
   "outputs": [
    {
     "name": "stdin",
     "output_type": "stream",
     "text": [
      "Digite um número:  13\n"
     ]
    }
   ],
   "source": [
    "num = int(input('Digite um número: '))"
   ]
  },
  {
   "cell_type": "code",
   "execution_count": 6,
   "id": "5d60e800-c3cb-49c9-8868-5f506db23bd1",
   "metadata": {},
   "outputs": [
    {
     "name": "stdout",
     "output_type": "stream",
     "text": [
      "O Número informado foi 13.\n"
     ]
    }
   ],
   "source": [
    "print(f'O Número informado foi {13}.')"
   ]
  },
  {
   "cell_type": "code",
   "execution_count": null,
   "id": "a5e876aa-e1b0-4e55-a956-53285e27374a",
   "metadata": {},
   "outputs": [],
   "source": []
  }
 ],
 "metadata": {
  "kernelspec": {
   "display_name": "Python 3 (ipykernel)",
   "language": "python",
   "name": "python3"
  },
  "language_info": {
   "codemirror_mode": {
    "name": "ipython",
    "version": 3
   },
   "file_extension": ".py",
   "mimetype": "text/x-python",
   "name": "python",
   "nbconvert_exporter": "python",
   "pygments_lexer": "ipython3",
   "version": "3.12.7"
  }
 },
 "nbformat": 4,
 "nbformat_minor": 5
}
