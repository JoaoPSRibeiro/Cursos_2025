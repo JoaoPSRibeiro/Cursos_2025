{
 "cells": [
  {
   "cell_type": "markdown",
   "id": "6f6b813e-e477-42e1-ab49-60b7eb5caa7d",
   "metadata": {},
   "source": [
    "Faça um Programa que peça as 4 notas bimestrais e mostre a média."
   ]
  },
  {
   "cell_type": "code",
   "execution_count": 2,
   "id": "608c7ad1-0ec9-4a83-9d18-e24e3f29242d",
   "metadata": {},
   "outputs": [
    {
     "name": "stdin",
     "output_type": "stream",
     "text": [
      "Digite a primeira nota:  8\n"
     ]
    }
   ],
   "source": [
    "nt1 = int(input('Digite a primeira nota: '))"
   ]
  },
  {
   "cell_type": "code",
   "execution_count": 4,
   "id": "0778b885-7bab-49ac-bc78-29b90dee3dd9",
   "metadata": {},
   "outputs": [
    {
     "name": "stdin",
     "output_type": "stream",
     "text": [
      "Digite a segunda nota:  10\n"
     ]
    }
   ],
   "source": [
    "nt2 = int(input('Digite a segunda nota: '))"
   ]
  },
  {
   "cell_type": "code",
   "execution_count": 6,
   "id": "995322b2-4417-4133-9a02-b6556de58b84",
   "metadata": {},
   "outputs": [
    {
     "name": "stdin",
     "output_type": "stream",
     "text": [
      "Digite a terceira nota:  6\n"
     ]
    }
   ],
   "source": [
    "nt3 = int(input('Digite a terceira nota: '))"
   ]
  },
  {
   "cell_type": "code",
   "execution_count": 8,
   "id": "867cf177-6b26-4e94-bcbc-6d348ea81f73",
   "metadata": {},
   "outputs": [
    {
     "name": "stdin",
     "output_type": "stream",
     "text": [
      "Digite a quarta nota:  7\n"
     ]
    }
   ],
   "source": [
    "nt4 = int(input('Digite a quarta nota: '))"
   ]
  },
  {
   "cell_type": "code",
   "execution_count": 10,
   "id": "d8b9414c-c7dd-4ca6-9303-95cb1217a76e",
   "metadata": {},
   "outputs": [],
   "source": [
    "media = (nt1+nt2+nt3+nt4)/4"
   ]
  },
  {
   "cell_type": "code",
   "execution_count": 14,
   "id": "42dc06f7-9ff1-4401-9f39-8a16454abfe4",
   "metadata": {},
   "outputs": [
    {
     "name": "stdout",
     "output_type": "stream",
     "text": [
      "As notas foram: 8, 10, 7, 7 e\n",
      "a média foi: 7.75.\n"
     ]
    }
   ],
   "source": [
    "print(f'''As notas foram: {nt1}, {nt2}, {nt4}, {nt4} e\n",
    "a média foi: {media}.''')"
   ]
  },
  {
   "cell_type": "code",
   "execution_count": null,
   "id": "0b59c54f-e434-4d73-b90e-c07dada3fd29",
   "metadata": {},
   "outputs": [],
   "source": []
  }
 ],
 "metadata": {
  "kernelspec": {
   "display_name": "Python 3 (ipykernel)",
   "language": "python",
   "name": "python3"
  },
  "language_info": {
   "codemirror_mode": {
    "name": "ipython",
    "version": 3
   },
   "file_extension": ".py",
   "mimetype": "text/x-python",
   "name": "python",
   "nbconvert_exporter": "python",
   "pygments_lexer": "ipython3",
   "version": "3.12.7"
  }
 },
 "nbformat": 4,
 "nbformat_minor": 5
}
