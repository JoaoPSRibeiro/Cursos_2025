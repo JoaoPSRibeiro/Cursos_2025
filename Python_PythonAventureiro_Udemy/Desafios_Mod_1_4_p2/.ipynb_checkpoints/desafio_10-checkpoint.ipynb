{
 "cells": [
  {
   "cell_type": "markdown",
   "id": "d5263292-e99e-47e4-98ef-90443583d127",
   "metadata": {},
   "source": [
    "Faça um Programa que peça a temperatura em graus Celsius, transforme e mostre em graus Fahrenheit."
   ]
  },
  {
   "cell_type": "code",
   "execution_count": 12,
   "id": "60047c69-50e5-4de2-b26e-0f632ace6a7d",
   "metadata": {},
   "outputs": [
    {
     "name": "stdin",
     "output_type": "stream",
     "text": [
      "Informe a temperatura em Graus Celsius:  32\n"
     ]
    }
   ],
   "source": [
    "c = float(input('Informe a temperatura em Graus Celsius: '))"
   ]
  },
  {
   "cell_type": "code",
   "execution_count": 19,
   "id": "a4ad98de-8b6a-4db2-b4a5-050a8b671858",
   "metadata": {},
   "outputs": [],
   "source": [
    "f = float((9 * c) / 5) + 32"
   ]
  },
  {
   "cell_type": "code",
   "execution_count": 21,
   "id": "8096e77e-f2e8-4041-b988-b97913c2c9d2",
   "metadata": {},
   "outputs": [
    {
     "data": {
      "text/plain": [
       "89.6"
      ]
     },
     "execution_count": 21,
     "metadata": {},
     "output_type": "execute_result"
    }
   ],
   "source": [
    "f"
   ]
  },
  {
   "cell_type": "code",
   "execution_count": null,
   "id": "c9056fef-4de0-439f-a782-2c1843cfc648",
   "metadata": {},
   "outputs": [],
   "source": []
  },
  {
   "cell_type": "code",
   "execution_count": null,
   "id": "967701ee-0699-4cbb-9d02-1d5fcee7ae5a",
   "metadata": {},
   "outputs": [],
   "source": []
  }
 ],
 "metadata": {
  "kernelspec": {
   "display_name": "Python 3 (ipykernel)",
   "language": "python",
   "name": "python3"
  },
  "language_info": {
   "codemirror_mode": {
    "name": "ipython",
    "version": 3
   },
   "file_extension": ".py",
   "mimetype": "text/x-python",
   "name": "python",
   "nbconvert_exporter": "python",
   "pygments_lexer": "ipython3",
   "version": "3.12.7"
  }
 },
 "nbformat": 4,
 "nbformat_minor": 5
}
