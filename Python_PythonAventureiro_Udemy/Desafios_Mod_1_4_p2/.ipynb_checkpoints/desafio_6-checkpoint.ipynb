{
 "cells": [
  {
   "cell_type": "markdown",
   "id": "66b5d4ed-800c-48ea-bb38-c860016364f6",
   "metadata": {},
   "source": [
    "Faça um Programa que peça o raio de um círculo, calcule e mostre sua área."
   ]
  },
  {
   "cell_type": "code",
   "execution_count": 6,
   "id": "88999c5f-ee6a-4195-a789-0b23f71f7aa0",
   "metadata": {},
   "outputs": [
    {
     "name": "stdin",
     "output_type": "stream",
     "text": [
      "Digite o raio do círculo:  6\n"
     ]
    }
   ],
   "source": [
    "raio = int(input('Digite o raio do círculo: '))"
   ]
  },
  {
   "cell_type": "code",
   "execution_count": 12,
   "id": "f6dd0634-27e5-4d48-82e4-db303d300093",
   "metadata": {},
   "outputs": [],
   "source": [
    "area = 3.14 * (raio * raio)"
   ]
  },
  {
   "cell_type": "code",
   "execution_count": 22,
   "id": "fd6b372c-e242-48f7-8181-491d6a8fc348",
   "metadata": {},
   "outputs": [
    {
     "name": "stdout",
     "output_type": "stream",
     "text": [
      "A área do nosso círculo com raio 6 é de 113.\n"
     ]
    }
   ],
   "source": [
    "print(f'A área do nosso círculo com raio {raio} é de {area:.0f}.')"
   ]
  },
  {
   "cell_type": "code",
   "execution_count": null,
   "id": "4d79efda-c06e-4b07-8f4d-bc8cdddaa0eb",
   "metadata": {},
   "outputs": [],
   "source": []
  }
 ],
 "metadata": {
  "kernelspec": {
   "display_name": "Python 3 (ipykernel)",
   "language": "python",
   "name": "python3"
  },
  "language_info": {
   "codemirror_mode": {
    "name": "ipython",
    "version": 3
   },
   "file_extension": ".py",
   "mimetype": "text/x-python",
   "name": "python",
   "nbconvert_exporter": "python",
   "pygments_lexer": "ipython3",
   "version": "3.12.7"
  }
 },
 "nbformat": 4,
 "nbformat_minor": 5
}
