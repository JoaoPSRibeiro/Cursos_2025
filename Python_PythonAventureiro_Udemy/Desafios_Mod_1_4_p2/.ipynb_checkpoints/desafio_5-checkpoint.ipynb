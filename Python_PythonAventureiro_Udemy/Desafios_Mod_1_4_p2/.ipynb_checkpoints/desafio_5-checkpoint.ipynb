{
 "cells": [
  {
   "cell_type": "markdown",
   "id": "0796461c-3b20-4878-b7d8-b4edeed9a186",
   "metadata": {},
   "source": [
    "Faça um Programa que converta metros para centímetros."
   ]
  },
  {
   "cell_type": "code",
   "execution_count": 2,
   "id": "9c171a60-e6b9-4aeb-8798-e31d9769e1ec",
   "metadata": {},
   "outputs": [
    {
     "name": "stdin",
     "output_type": "stream",
     "text": [
      "Digite o tamanho em metros (não use vírgula e sim ponto para os centimetros):  1.85\n"
     ]
    }
   ],
   "source": [
    "mt = float(input('Digite o tamanho em metros (não use vírgula e sim ponto para os centimetros): '))"
   ]
  },
  {
   "cell_type": "code",
   "execution_count": 8,
   "id": "c7a6b826-d6f2-4096-8efb-b8eb2954b83f",
   "metadata": {},
   "outputs": [],
   "source": [
    "cent = mt*100"
   ]
  },
  {
   "cell_type": "code",
   "execution_count": 18,
   "id": "494ed085-396c-4014-ba79-6fa4722158a1",
   "metadata": {},
   "outputs": [
    {
     "name": "stdout",
     "output_type": "stream",
     "text": [
      " 1.85 em centímetros é: 185.00\n"
     ]
    }
   ],
   "source": [
    "print(f' {mt} em centímetros é: {cent:.2f}')"
   ]
  }
 ],
 "metadata": {
  "kernelspec": {
   "display_name": "Python 3 (ipykernel)",
   "language": "python",
   "name": "python3"
  },
  "language_info": {
   "codemirror_mode": {
    "name": "ipython",
    "version": 3
   },
   "file_extension": ".py",
   "mimetype": "text/x-python",
   "name": "python",
   "nbconvert_exporter": "python",
   "pygments_lexer": "ipython3",
   "version": "3.12.7"
  }
 },
 "nbformat": 4,
 "nbformat_minor": 5
}
