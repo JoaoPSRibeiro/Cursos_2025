{
 "cells": [
  {
   "cell_type": "markdown",
   "id": "e42dc4a3-ff61-4155-87c6-5cc3a379a591",
   "metadata": {},
   "source": [
    "Faça um Programa que peça a temperatura em graus Fahrenheit, transforme e mostre a temperatura em graus Celsius."
   ]
  },
  {
   "cell_type": "markdown",
   "id": "5073b48a-4ce4-4748-a4c2-87350ba8bd05",
   "metadata": {},
   "source": [
    "1723"
   ]
  },
  {
   "cell_type": "code",
   "execution_count": 12,
   "id": "62609b05-106a-450f-b2f8-2fce3a19b425",
   "metadata": {},
   "outputs": [
    {
     "name": "stdin",
     "output_type": "stream",
     "text": [
      "Digite a temperatura em Fahrenheit:  100\n"
     ]
    }
   ],
   "source": [
    "fahr = float(input('Digite a temperatura em Fahrenheit: '))"
   ]
  },
  {
   "cell_type": "code",
   "execution_count": 14,
   "id": "7e04aa64-af6f-4dbf-8144-0e8790be6680",
   "metadata": {},
   "outputs": [],
   "source": [
    "celsius = 5 * ((fahr - 32) / 9)"
   ]
  },
  {
   "cell_type": "code",
   "execution_count": 16,
   "id": "dd0db0f0-5f07-423e-a616-7cf99e33f698",
   "metadata": {},
   "outputs": [
    {
     "data": {
      "text/plain": [
       "37.77777777777778"
      ]
     },
     "execution_count": 16,
     "metadata": {},
     "output_type": "execute_result"
    }
   ],
   "source": [
    "celsius"
   ]
  },
  {
   "cell_type": "code",
   "execution_count": 22,
   "id": "c201f310-967c-4414-bb70-21108004a096",
   "metadata": {},
   "outputs": [
    {
     "name": "stdout",
     "output_type": "stream",
     "text": [
      "A temperatura atual em Celsius é 37.78\n"
     ]
    }
   ],
   "source": [
    "print(f'A temperatura atual em Celsius é {celsius:.2f}')"
   ]
  },
  {
   "cell_type": "code",
   "execution_count": null,
   "id": "bd6b244c-7103-447c-82a6-016597c0d1c0",
   "metadata": {},
   "outputs": [],
   "source": []
  }
 ],
 "metadata": {
  "kernelspec": {
   "display_name": "Python 3 (ipykernel)",
   "language": "python",
   "name": "python3"
  },
  "language_info": {
   "codemirror_mode": {
    "name": "ipython",
    "version": 3
   },
   "file_extension": ".py",
   "mimetype": "text/x-python",
   "name": "python",
   "nbconvert_exporter": "python",
   "pygments_lexer": "ipython3",
   "version": "3.12.7"
  }
 },
 "nbformat": 4,
 "nbformat_minor": 5
}
