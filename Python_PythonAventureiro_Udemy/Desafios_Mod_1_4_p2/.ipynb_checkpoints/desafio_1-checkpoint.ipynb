{
 "cells": [
  {
   "cell_type": "markdown",
   "id": "cb136063-da21-49a2-9346-d316335c2dfa",
   "metadata": {},
   "source": [
    "Faça um Programa que mostre a mensagem \"Alo mundo\" na tela."
   ]
  },
  {
   "cell_type": "code",
   "execution_count": 2,
   "id": "5ecf5019-06ac-4e43-91ba-afdb7888ba9a",
   "metadata": {},
   "outputs": [
    {
     "name": "stdout",
     "output_type": "stream",
     "text": [
      "Alo mundo\n"
     ]
    }
   ],
   "source": [
    "print('Alo mundo')"
   ]
  },
  {
   "cell_type": "code",
   "execution_count": null,
   "id": "28077d6f-958a-4685-8621-151a21525c51",
   "metadata": {},
   "outputs": [],
   "source": []
  }
 ],
 "metadata": {
  "kernelspec": {
   "display_name": "Python 3 (ipykernel)",
   "language": "python",
   "name": "python3"
  },
  "language_info": {
   "codemirror_mode": {
    "name": "ipython",
    "version": 3
   },
   "file_extension": ".py",
   "mimetype": "text/x-python",
   "name": "python",
   "nbconvert_exporter": "python",
   "pygments_lexer": "ipython3",
   "version": "3.12.7"
  }
 },
 "nbformat": 4,
 "nbformat_minor": 5
}
