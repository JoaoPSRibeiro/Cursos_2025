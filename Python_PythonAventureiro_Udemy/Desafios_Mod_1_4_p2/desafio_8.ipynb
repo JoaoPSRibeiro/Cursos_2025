{
 "cells": [
  {
   "cell_type": "markdown",
   "id": "e0066c50-c5e7-48dd-b0f3-83650d9a4272",
   "metadata": {},
   "source": [
    "Faça um Programa que pergunte quanto você ganha por hora e o número de horas trabalhadas no mês. \n",
    "Calcule e mostre o total do seu salário no referido mês."
   ]
  },
  {
   "cell_type": "code",
   "execution_count": 4,
   "id": "9ea889a9-3c38-4c57-b98f-15baf9336261",
   "metadata": {},
   "outputs": [
    {
     "name": "stdin",
     "output_type": "stream",
     "text": [
      "Qual o valor recevido por hora?  15.5\n"
     ]
    }
   ],
   "source": [
    "sal = float(input('Qual o valor recevido por hora? '))"
   ]
  },
  {
   "cell_type": "code",
   "execution_count": 6,
   "id": "33cd7027-acfa-4f38-bed8-d8cc75aa7386",
   "metadata": {},
   "outputs": [
    {
     "name": "stdin",
     "output_type": "stream",
     "text": [
      "Quantas horas são trabalhadas por mês?  200\n"
     ]
    }
   ],
   "source": [
    "hora = float(input('Quantas horas são trabalhadas por mês? '))"
   ]
  },
  {
   "cell_type": "code",
   "execution_count": 8,
   "id": "a0528132-6a56-4dcf-8baa-9944f8265510",
   "metadata": {},
   "outputs": [],
   "source": [
    "sal_final = sal * hora"
   ]
  },
  {
   "cell_type": "code",
   "execution_count": 16,
   "id": "4407a16e-6a47-4057-ad29-579c628a8462",
   "metadata": {},
   "outputs": [
    {
     "name": "stdout",
     "output_type": "stream",
     "text": [
      "Este Mês, trabalhando 200 horas e ganhando R$ 15.50 por hora, seu Salário será R$ 3100.00.\n"
     ]
    }
   ],
   "source": [
    "print(f'Este Mês, trabalhando {hora:.0f} horas e ganhando R$ {sal:.2f} por hora, seu Salário será R$ {sal_final:.2f}.') "
   ]
  },
  {
   "cell_type": "code",
   "execution_count": null,
   "id": "0692414d-9710-47b8-a5c3-fe0ad47a9230",
   "metadata": {},
   "outputs": [],
   "source": []
  }
 ],
 "metadata": {
  "kernelspec": {
   "display_name": "Python 3 (ipykernel)",
   "language": "python",
   "name": "python3"
  },
  "language_info": {
   "codemirror_mode": {
    "name": "ipython",
    "version": 3
   },
   "file_extension": ".py",
   "mimetype": "text/x-python",
   "name": "python",
   "nbconvert_exporter": "python",
   "pygments_lexer": "ipython3",
   "version": "3.12.7"
  }
 },
 "nbformat": 4,
 "nbformat_minor": 5
}
