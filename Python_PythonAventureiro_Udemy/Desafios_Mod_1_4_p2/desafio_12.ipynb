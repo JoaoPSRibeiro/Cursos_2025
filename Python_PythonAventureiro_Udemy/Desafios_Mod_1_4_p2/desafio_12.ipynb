{
 "cells": [
  {
   "cell_type": "markdown",
   "id": "670f690e-8c09-4a2a-8a02-f2c465e98408",
   "metadata": {},
   "source": [
    "Tendo como dados de entrada a altura de uma pessoa, construa um algoritmo que calcule seu peso ideal, usando a seguinte fórmula: (72.7*altura) - 58"
   ]
  },
  {
   "cell_type": "code",
   "execution_count": 11,
   "id": "9d059bb0-7deb-4eb9-92d8-14fc29d9ee31",
   "metadata": {},
   "outputs": [
    {
     "name": "stdin",
     "output_type": "stream",
     "text": [
      "Digite sua altura em Metros:  1.75\n"
     ]
    }
   ],
   "source": [
    "altura = float(input('Digite sua altura em Metros: '))"
   ]
  },
  {
   "cell_type": "code",
   "execution_count": 13,
   "id": "2008bfb1-62e9-4b49-a74f-0d37038f5b49",
   "metadata": {},
   "outputs": [],
   "source": [
    "p_ideal = (72.7*altura) - 58"
   ]
  },
  {
   "cell_type": "code",
   "execution_count": 15,
   "id": "ffa33f5b-f84f-488f-9a77-e4f4ba2dbeec",
   "metadata": {},
   "outputs": [
    {
     "data": {
      "text/plain": [
       "69.22500000000001"
      ]
     },
     "execution_count": 15,
     "metadata": {},
     "output_type": "execute_result"
    }
   ],
   "source": [
    "p_ideal"
   ]
  },
  {
   "cell_type": "code",
   "execution_count": 19,
   "id": "c5543b8d-e173-4b24-8d94-9e45c166f805",
   "metadata": {},
   "outputs": [
    {
     "name": "stdout",
     "output_type": "stream",
     "text": [
      "Seu peso ideal é 69.23 Kg\n"
     ]
    }
   ],
   "source": [
    "print(f'Seu peso ideal é {p_ideal:.2f} Kg')"
   ]
  },
  {
   "cell_type": "code",
   "execution_count": null,
   "id": "d4a809ce-d59f-43a6-a05e-e4272b3ae324",
   "metadata": {},
   "outputs": [],
   "source": []
  }
 ],
 "metadata": {
  "kernelspec": {
   "display_name": "Python 3 (ipykernel)",
   "language": "python",
   "name": "python3"
  },
  "language_info": {
   "codemirror_mode": {
    "name": "ipython",
    "version": 3
   },
   "file_extension": ".py",
   "mimetype": "text/x-python",
   "name": "python",
   "nbconvert_exporter": "python",
   "pygments_lexer": "ipython3",
   "version": "3.12.7"
  }
 },
 "nbformat": 4,
 "nbformat_minor": 5
}
