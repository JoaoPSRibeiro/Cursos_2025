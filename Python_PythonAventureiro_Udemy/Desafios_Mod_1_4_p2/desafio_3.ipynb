{
 "cells": [
  {
   "cell_type": "markdown",
   "id": "f2e5526c-1e2d-4726-ba5c-c5b107965eb7",
   "metadata": {},
   "source": [
    "Faça um Programa que peça dois números e imprima a soma."
   ]
  },
  {
   "cell_type": "markdown",
   "id": "7ddb5dd9-2df7-43b0-aba9-f7069614c3bf",
   "metadata": {},
   "source": [
    "num1 = int(input('Digite um número: '))"
   ]
  },
  {
   "cell_type": "code",
   "execution_count": 6,
   "id": "74d10dce-be47-4837-a2d9-7edf3b64d8a8",
   "metadata": {},
   "outputs": [
    {
     "name": "stdin",
     "output_type": "stream",
     "text": [
      "Agora digite outro:  22\n"
     ]
    }
   ],
   "source": [
    "num2 = int(input('Agora digite outro: '))"
   ]
  },
  {
   "cell_type": "code",
   "execution_count": 8,
   "id": "9816b55f-7eb0-430c-a9f6-5cc709aa4962",
   "metadata": {},
   "outputs": [],
   "source": [
    "soma = num1 + num2"
   ]
  },
  {
   "cell_type": "code",
   "execution_count": 10,
   "id": "f0141b10-9d5b-4b3d-a6cc-db2394891c37",
   "metadata": {},
   "outputs": [
    {
     "name": "stdout",
     "output_type": "stream",
     "text": [
      "A soma entre 10 e 22 é: 32.\n"
     ]
    }
   ],
   "source": [
    "print(f'A soma entre {num1} e {num2} é: {soma}.')"
   ]
  },
  {
   "cell_type": "code",
   "execution_count": null,
   "id": "22d20aee-778c-423b-8d6f-fdad115423a9",
   "metadata": {},
   "outputs": [],
   "source": []
  }
 ],
 "metadata": {
  "kernelspec": {
   "display_name": "Python 3 (ipykernel)",
   "language": "python",
   "name": "python3"
  },
  "language_info": {
   "codemirror_mode": {
    "name": "ipython",
    "version": 3
   },
   "file_extension": ".py",
   "mimetype": "text/x-python",
   "name": "python",
   "nbconvert_exporter": "python",
   "pygments_lexer": "ipython3",
   "version": "3.12.7"
  }
 },
 "nbformat": 4,
 "nbformat_minor": 5
}
