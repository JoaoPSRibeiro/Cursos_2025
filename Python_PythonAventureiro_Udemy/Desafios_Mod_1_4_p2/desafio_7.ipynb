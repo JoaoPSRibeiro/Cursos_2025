{
 "cells": [
  {
   "cell_type": "markdown",
   "id": "553f3c1d-6ebf-4b08-b982-0d89785fc46a",
   "metadata": {},
   "source": [
    "Faça um Programa que calcule a área de um quadrado, em seguida mostre o dobro desta área para o usuário."
   ]
  },
  {
   "cell_type": "code",
   "execution_count": 2,
   "id": "98e4a83e-e6ce-4dba-8665-81ae4dd88160",
   "metadata": {},
   "outputs": [
    {
     "name": "stdin",
     "output_type": "stream",
     "text": [
      "Informe o valor de um dos lados do quadrado:  5\n"
     ]
    }
   ],
   "source": [
    "lado = int(input('Informe o valor de um dos lados do quadrado: '))"
   ]
  },
  {
   "cell_type": "code",
   "execution_count": 4,
   "id": "e57776e5-b2a5-4652-8124-e6015f8dfa76",
   "metadata": {},
   "outputs": [],
   "source": [
    "area = lado * lado"
   ]
  },
  {
   "cell_type": "code",
   "execution_count": 6,
   "id": "7c04a98b-9168-4198-9ccd-c7965610c035",
   "metadata": {},
   "outputs": [
    {
     "name": "stdout",
     "output_type": "stream",
     "text": [
      "A área do quadrado com lado de tamanho 5 é de 25 e o dobro disso é 50.\n"
     ]
    }
   ],
   "source": [
    "print(f'A área do quadrado com lado de tamanho {lado} é de {area} e o dobro disso é {area*2}.')"
   ]
  },
  {
   "cell_type": "code",
   "execution_count": null,
   "id": "c770cde8-5fd7-4cb6-92fa-52de9bfa077e",
   "metadata": {},
   "outputs": [],
   "source": []
  }
 ],
 "metadata": {
  "kernelspec": {
   "display_name": "Python 3 (ipykernel)",
   "language": "python",
   "name": "python3"
  },
  "language_info": {
   "codemirror_mode": {
    "name": "ipython",
    "version": 3
   },
   "file_extension": ".py",
   "mimetype": "text/x-python",
   "name": "python",
   "nbconvert_exporter": "python",
   "pygments_lexer": "ipython3",
   "version": "3.12.7"
  }
 },
 "nbformat": 4,
 "nbformat_minor": 5
}
