{
 "cells": [
  {
   "cell_type": "markdown",
   "id": "32779c3f-8152-402c-ac24-f68d20b42d49",
   "metadata": {},
   "source": [
    "Faça um programa para uma loja de tintas. O programa deverá pedir o tamanho em metros quadrados da área a ser pintada. Considere que a cobertura da tinta é de 1 litro para cada 3 metros quadrados e que a tinta é vendida em latas de 18 litros, que custam R$ 80,00. Informe ao usuário a quantidades de latas de tinta a serem compradas e o preço total.\n"
   ]
  },
  {
   "cell_type": "code",
   "execution_count": 4,
   "id": "f7b68bbb-ec34-4c5a-939d-90798c2bc9f1",
   "metadata": {},
   "outputs": [
    {
     "name": "stdin",
     "output_type": "stream",
     "text": [
      "Digite a Largura da parede a ser pintada:  20\n"
     ]
    }
   ],
   "source": [
    "lado = float(input('Digite a Largura da parede a ser pintada: '))"
   ]
  },
  {
   "cell_type": "code",
   "execution_count": 6,
   "id": "e90ad859-09f2-451c-ab87-9a4cacb30065",
   "metadata": {},
   "outputs": [
    {
     "name": "stdin",
     "output_type": "stream",
     "text": [
      "Digite a altura dessa parede:  5\n"
     ]
    }
   ],
   "source": [
    "altura = float(input('Digite a altura dessa parede: '))"
   ]
  },
  {
   "cell_type": "code",
   "execution_count": 8,
   "id": "b62dfd27-e2b6-47ec-b0fd-609d64035950",
   "metadata": {},
   "outputs": [],
   "source": [
    "tam_total = lado * altura"
   ]
  },
  {
   "cell_type": "code",
   "execution_count": 14,
   "id": "18f859d0-4a77-4444-a404-7c9753b0f203",
   "metadata": {},
   "outputs": [],
   "source": [
    "consumo = tam_total / 3"
   ]
  },
  {
   "cell_type": "code",
   "execution_count": 19,
   "id": "99e8986c-6c26-463d-952c-71490a770bc3",
   "metadata": {},
   "outputs": [],
   "source": [
    "latas = consumo / 18"
   ]
  },
  {
   "cell_type": "code",
   "execution_count": 25,
   "id": "b627a391-57b6-4831-92f3-295785d65b82",
   "metadata": {},
   "outputs": [
    {
     "name": "stdout",
     "output_type": "stream",
     "text": [
      "Para pintar todos os 100.0 m2 de parede, serão necessários 33.33 litros de tinta ou, 1.85 latas de 18 litros cada.\n"
     ]
    }
   ],
   "source": [
    "print(f'Para pintar todos os {tam_total} m2 de parede, serão necessários {consumo:.2f} litros de tinta ou, {latas:.2f} latas de 18 litros cada.')"
   ]
  },
  {
   "cell_type": "code",
   "execution_count": null,
   "id": "ad1a90ed-9407-482b-bd57-aa06d37fc705",
   "metadata": {},
   "outputs": [],
   "source": []
  },
  {
   "cell_type": "code",
   "execution_count": null,
   "id": "b34ef41f-c2fc-4a3a-bdc5-36cf104bb7cd",
   "metadata": {},
   "outputs": [],
   "source": []
  }
 ],
 "metadata": {
  "kernelspec": {
   "display_name": "Python 3 (ipykernel)",
   "language": "python",
   "name": "python3"
  },
  "language_info": {
   "codemirror_mode": {
    "name": "ipython",
    "version": 3
   },
   "file_extension": ".py",
   "mimetype": "text/x-python",
   "name": "python",
   "nbconvert_exporter": "python",
   "pygments_lexer": "ipython3",
   "version": "3.12.7"
  }
 },
 "nbformat": 4,
 "nbformat_minor": 5
}
