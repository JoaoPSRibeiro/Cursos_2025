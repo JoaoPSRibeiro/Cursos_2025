{
 "cells": [
  {
   "cell_type": "markdown",
   "id": "3933b7b4-295b-404f-ac57-fe3c9eb5d427",
   "metadata": {},
   "source": [
    "Faça um programa que peça o tamanho de um arquivo para download (em MB) e a velocidade de um link de Internet (em Mbps), calcule e informe o tempo aproximado de download do arquivo usando este link (em minutos)."
   ]
  },
  {
   "cell_type": "code",
   "execution_count": 52,
   "id": "c2e24ff1-9b48-4e01-a46b-e995ef05a02b",
   "metadata": {},
   "outputs": [
    {
     "name": "stdin",
     "output_type": "stream",
     "text": [
      "Qual o tamanho do arquivo em MB?  1000\n"
     ]
    }
   ],
   "source": [
    "tam = float(input('Qual o tamanho do arquivo em MB? '))"
   ]
  },
  {
   "cell_type": "code",
   "execution_count": 16,
   "id": "9da9cf60-7dec-4ada-b390-6287a9c70b81",
   "metadata": {},
   "outputs": [
    {
     "name": "stdin",
     "output_type": "stream",
     "text": [
      "Qual a velocidade da internet em MB?  150\n"
     ]
    }
   ],
   "source": [
    "veloc = float(input('Qual a velocidade da internet em MB? '))"
   ]
  },
  {
   "cell_type": "code",
   "execution_count": 54,
   "id": "70ba652a-8684-4e69-bf43-083916dece78",
   "metadata": {},
   "outputs": [],
   "source": [
    "tempo = (tam / veloc) * 60"
   ]
  },
  {
   "cell_type": "code",
   "execution_count": 74,
   "id": "9edc9157-1d6f-4663-a951-fa1c04213d68",
   "metadata": {},
   "outputs": [
    {
     "name": "stdout",
     "output_type": "stream",
     "text": [
      "Seu download demorará 6.7 minutos para ser completado\n"
     ]
    }
   ],
   "source": [
    "print(f'Seu download demorará {tempo/60:.1f} minutos para ser completado')"
   ]
  },
  {
   "cell_type": "code",
   "execution_count": null,
   "id": "ddd72888-3168-427d-9689-b0cda36e14fb",
   "metadata": {},
   "outputs": [],
   "source": []
  },
  {
   "cell_type": "code",
   "execution_count": null,
   "id": "81cc8671-1ca5-4d70-82ab-29368409ef65",
   "metadata": {},
   "outputs": [],
   "source": []
  }
 ],
 "metadata": {
  "kernelspec": {
   "display_name": "Python 3 (ipykernel)",
   "language": "python",
   "name": "python3"
  },
  "language_info": {
   "codemirror_mode": {
    "name": "ipython",
    "version": 3
   },
   "file_extension": ".py",
   "mimetype": "text/x-python",
   "name": "python",
   "nbconvert_exporter": "python",
   "pygments_lexer": "ipython3",
   "version": "3.12.7"
  }
 },
 "nbformat": 4,
 "nbformat_minor": 5
}
