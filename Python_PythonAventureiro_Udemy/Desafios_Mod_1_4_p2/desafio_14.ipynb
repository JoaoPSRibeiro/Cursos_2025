{
 "cells": [
  {
   "cell_type": "markdown",
   "id": "22181a02-98f0-47b8-932d-6f841030067b",
   "metadata": {},
   "source": [
    "João Papo-de-Pescador, homem de bem, comprou um microcomputador para controlar o rendimento diário de seu trabalho. Toda vez que ele traz um peso de peixes maior que o estabelecido pelo regulamento de pesca do estado de São Paulo (50 quilos) deve pagar uma multa de R$ 4,00 por quilo excedente. João precisa que você faça um programa que leia a variável peso (peso de peixes) e calcule o excesso. Gravar na variável excesso a quantidade de quilos além do limite e na variável multa o valor da multa que João deverá pagar. Imprima os dados do programa com as mensagens adequadas."
   ]
  },
  {
   "cell_type": "code",
   "execution_count": 46,
   "id": "3de78d0f-60bc-4c65-9917-7d72c1837149",
   "metadata": {},
   "outputs": [
    {
     "name": "stdin",
     "output_type": "stream",
     "text": [
      "Digite o peso da pescaria!!  60\n"
     ]
    }
   ],
   "source": [
    "peso = float(input('Digite o peso da pescaria!! '))"
   ]
  },
  {
   "cell_type": "code",
   "execution_count": 48,
   "id": "c10fc09f-bc97-45cc-8817-988bbae8dd11",
   "metadata": {},
   "outputs": [],
   "source": [
    "excesso = peso - 50"
   ]
  },
  {
   "cell_type": "code",
   "execution_count": 50,
   "id": "4f397d78-4e61-48ec-930c-5642f9998e00",
   "metadata": {},
   "outputs": [],
   "source": [
    "multa = excesso * 4"
   ]
  },
  {
   "cell_type": "code",
   "execution_count": 52,
   "id": "e88b7fb3-a17b-49ba-915c-d3a7183480aa",
   "metadata": {},
   "outputs": [
    {
     "data": {
      "text/plain": [
       "10.0"
      ]
     },
     "execution_count": 52,
     "metadata": {},
     "output_type": "execute_result"
    }
   ],
   "source": [
    "excesso"
   ]
  },
  {
   "cell_type": "code",
   "execution_count": 54,
   "id": "bc3b63e5-67c2-48af-b840-e765aba6dac5",
   "metadata": {},
   "outputs": [
    {
     "data": {
      "text/plain": [
       "40.0"
      ]
     },
     "execution_count": 54,
     "metadata": {},
     "output_type": "execute_result"
    }
   ],
   "source": [
    "multa"
   ]
  },
  {
   "cell_type": "code",
   "execution_count": 56,
   "id": "0f446a3f-0304-49cc-8944-80d4b3d2b499",
   "metadata": {},
   "outputs": [
    {
     "name": "stdout",
     "output_type": "stream",
     "text": [
      "Hoje foram pescados 60.0 Kg de peixe. O Excesso foi 10.0 Kg e a taxa a ser paga por isso é: R$ 40.0.\n"
     ]
    }
   ],
   "source": [
    "if peso > 50:\n",
    "    print(f'Hoje foram pescados {peso} Kg de peixe. O Excesso foi {excesso} Kg e a taxa a ser paga por isso é: R$ {multa}.')\n",
    "else:\n",
    "    print(f'A pesacaria foi fraca hoje! O total pescado foi {peso} Kg e você não precisa pagar nenhuma taxa extra.')\n"
   ]
  },
  {
   "cell_type": "code",
   "execution_count": null,
   "id": "0fab0bed-21ae-418b-bf60-62d28c4c8323",
   "metadata": {},
   "outputs": [],
   "source": []
  }
 ],
 "metadata": {
  "kernelspec": {
   "display_name": "Python 3 (ipykernel)",
   "language": "python",
   "name": "python3"
  },
  "language_info": {
   "codemirror_mode": {
    "name": "ipython",
    "version": 3
   },
   "file_extension": ".py",
   "mimetype": "text/x-python",
   "name": "python",
   "nbconvert_exporter": "python",
   "pygments_lexer": "ipython3",
   "version": "3.12.7"
  }
 },
 "nbformat": 4,
 "nbformat_minor": 5
}
