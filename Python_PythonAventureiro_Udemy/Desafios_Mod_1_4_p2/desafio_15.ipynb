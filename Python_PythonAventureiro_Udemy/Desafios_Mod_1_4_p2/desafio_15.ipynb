{
 "cells": [
  {
   "cell_type": "markdown",
   "id": "e5d4726c-c17f-485d-892d-87d59a92ce54",
   "metadata": {},
   "source": [
    "Faça um Programa que pergunte quanto você ganha por hora e o número de horas trabalhadas no mês. Calcule e mostre o total do seu salário no referido mês, sabendo-se que são descontados 11% para o Imposto de Renda, 8% para o INSS e 5% para o sindicato, faça um programa que nos dê:"
   ]
  },
  {
   "cell_type": "markdown",
   "id": "cda8757e-c25f-4c89-8838-8c60f696bfe9",
   "metadata": {},
   "source": [
    "salário bruto.\n",
    "\n",
    "quanto pagou ao INSS.\n",
    "\n",
    "quanto pagou ao sindicato.\n",
    "\n",
    "o salário líquido.\n",
    "\n",
    "calcule os descontos e o salário líquido, conforme mostrado abaixo:\n",
    "\n",
    "+ Salário Bruto : R$\n",
    "\n",
    "- IR (11%) : R$\n",
    "\n",
    "- INSS (8%) : R$\n",
    "\n",
    "- Sindicato ( 5%) : R$\n",
    "\n",
    "= Salário Liquido : R$\n",
    "\n",
    "Obs.: Salário Bruto - Descontos = Salário Líquido."
   ]
  },
  {
   "cell_type": "code",
   "execution_count": 21,
   "id": "768e2b9f-a999-4dd8-93d0-dfbd3e0660c4",
   "metadata": {},
   "outputs": [
    {
     "name": "stdin",
     "output_type": "stream",
     "text": [
      "Digite o número de horas trabalhadas no mês:  220.5\n"
     ]
    }
   ],
   "source": [
    "horas = float(input('Digite o número de horas trabalhadas no mês: '))"
   ]
  },
  {
   "cell_type": "code",
   "execution_count": 25,
   "id": "085da1b0-8dba-477d-8eff-0c882d14b04f",
   "metadata": {},
   "outputs": [
    {
     "name": "stdin",
     "output_type": "stream",
     "text": [
      "Digite o valor da hora trabalhada: R$  15.3\n"
     ]
    }
   ],
   "source": [
    "val_hora = float(input('Digite o valor da hora trabalhada: R$ '))"
   ]
  },
  {
   "cell_type": "code",
   "execution_count": 27,
   "id": "2b264532-f3ec-4be4-ab34-99d4fb585a9d",
   "metadata": {},
   "outputs": [],
   "source": [
    "sal_bruto = horas * val_hora"
   ]
  },
  {
   "cell_type": "code",
   "execution_count": 35,
   "id": "6aad2aeb-c2a6-40d8-870b-6aafb20f5052",
   "metadata": {},
   "outputs": [],
   "source": [
    "ir = sal_bruto * 0.11"
   ]
  },
  {
   "cell_type": "code",
   "execution_count": 43,
   "id": "5f1c4ed4-8c5e-4151-8b4b-416204c71015",
   "metadata": {},
   "outputs": [],
   "source": [
    "sind = sal_bruto * 0.05"
   ]
  },
  {
   "cell_type": "code",
   "execution_count": 51,
   "id": "05fbcbd5-23c9-4294-85c9-1d2779947595",
   "metadata": {},
   "outputs": [],
   "source": [
    "inss = sal_bruto * 0.08"
   ]
  },
  {
   "cell_type": "code",
   "execution_count": 55,
   "id": "9b48b1d2-a713-44b0-9b93-c034479abf26",
   "metadata": {},
   "outputs": [],
   "source": [
    "descont = ir + inss + sind"
   ]
  },
  {
   "cell_type": "code",
   "execution_count": 57,
   "id": "deaf38ce-8c0c-4a1f-bdf9-0c432cc9a2e8",
   "metadata": {},
   "outputs": [
    {
     "data": {
      "text/plain": [
       "809.676"
      ]
     },
     "execution_count": 57,
     "metadata": {},
     "output_type": "execute_result"
    }
   ],
   "source": [
    "descont"
   ]
  },
  {
   "cell_type": "code",
   "execution_count": 59,
   "id": "ca92beab-1b0e-49ed-a242-a5eaafb7263e",
   "metadata": {},
   "outputs": [],
   "source": [
    "sal_liquido = sal_bruto - descont"
   ]
  },
  {
   "cell_type": "code",
   "execution_count": 61,
   "id": "654102f0-e23b-4ef3-85ed-893c4a16f625",
   "metadata": {},
   "outputs": [
    {
     "data": {
      "text/plain": [
       "2563.974"
      ]
     },
     "execution_count": 61,
     "metadata": {},
     "output_type": "execute_result"
    }
   ],
   "source": [
    "sal_liquido"
   ]
  },
  {
   "cell_type": "code",
   "execution_count": 71,
   "id": "5dd1c0f4-051e-43df-a914-f2eee4899853",
   "metadata": {},
   "outputs": [
    {
     "name": "stdout",
     "output_type": "stream",
     "text": [
      "\n",
      "Este Mês você trabalhou por 220.5.\n",
      "Seu Rendimento foi: R$ 3373.65.\n",
      "O Imposto de Renda cobrado foi R$ 371.10.\n",
      "Sua contribuição Sindical foi de R$ 168.68.\n",
      "O INSS foi: R$ 269.89.\n",
      "____\n",
      "Seu salário final, já com todos descontos foi: R$ 2563.97.\n",
      "\n"
     ]
    }
   ],
   "source": [
    "print(f'''\n",
    "Este Mês você trabalhou por {horas}.\n",
    "Seu Rendimento foi: R$ {sal_bruto}.\n",
    "O Imposto de Renda cobrado foi R$ {ir:.2f}.\n",
    "Sua contribuição Sindical foi de R$ {sind:.2f}.\n",
    "O INSS foi: R$ {inss:.2f}.\n",
    "____\n",
    "Seu salário final, já com todos descontos foi: R$ {sal_liquido:.2f}.\n",
    "''')\n"
   ]
  },
  {
   "cell_type": "code",
   "execution_count": null,
   "id": "976206b6-3127-4fc2-9e60-f3d61b8dc756",
   "metadata": {},
   "outputs": [],
   "source": []
  }
 ],
 "metadata": {
  "kernelspec": {
   "display_name": "Python 3 (ipykernel)",
   "language": "python",
   "name": "python3"
  },
  "language_info": {
   "codemirror_mode": {
    "name": "ipython",
    "version": 3
   },
   "file_extension": ".py",
   "mimetype": "text/x-python",
   "name": "python",
   "nbconvert_exporter": "python",
   "pygments_lexer": "ipython3",
   "version": "3.12.7"
  }
 },
 "nbformat": 4,
 "nbformat_minor": 5
}
