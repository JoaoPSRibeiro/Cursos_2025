{
 "cells": [
  {
   "cell_type": "raw",
   "id": "448a49df-414d-4793-b283-b406096160ce",
   "metadata": {},
   "source": [
    "Faça um Programa para uma loja de tintas. O programa deverá pedir o tamanho em metros quadrados da área a ser pintada. Considere que a cobertura da tinta é de 1 litro para cada 6 metros quadrados e que a tinta é vendida em latas de 18 litros, que custam R$ 80,00  ou em galões de 3,6 litros, que custam R$ 25,00."
   ]
  },
  {
   "cell_type": "markdown",
   "id": "a2dbde4f-f237-41f1-855b-2f0fb5167089",
   "metadata": {},
   "source": [
    "Informe ao usuário as quantidades de tinta a serem compradas e os respectivos preços em 3 situações:\n",
    "\n",
    "comprar apenas latas de 18 litros;\n",
    "\n",
    "comprar apenas galões de 3,6 litros;\n",
    "\n",
    "misturar latas e galões, de forma que o desperdício de tinta seja menor. Acrescente 10% de folga e sempre arredonde os valores para cima, isto é, considere latas cheias."
   ]
  },
  {
   "cell_type": "code",
   "execution_count": 32,
   "id": "9cae0b0f-41dd-49b7-bcb2-4c8e599a22de",
   "metadata": {},
   "outputs": [
    {
     "name": "stdin",
     "output_type": "stream",
     "text": [
      "Digite a lardura da parede:  15\n"
     ]
    }
   ],
   "source": [
    "lado = float(input('Digite a lardura da parede: '))"
   ]
  },
  {
   "cell_type": "code",
   "execution_count": 36,
   "id": "b0716893-2d8c-4511-a806-de1a6cdafac1",
   "metadata": {},
   "outputs": [
    {
     "name": "stdin",
     "output_type": "stream",
     "text": [
      "Agora, digite a altura:  5\n"
     ]
    }
   ],
   "source": [
    "altura = float(input('Agora, digite a altura: '))"
   ]
  },
  {
   "cell_type": "code",
   "execution_count": 38,
   "id": "7ab7683b-28c7-4061-9133-102dec42739b",
   "metadata": {},
   "outputs": [],
   "source": [
    "tam_total = lado * altura"
   ]
  },
  {
   "cell_type": "code",
   "execution_count": 40,
   "id": "7928a031-2ac8-4083-b2d4-52d4903c368b",
   "metadata": {},
   "outputs": [],
   "source": [
    "consumo = tam_total / 6"
   ]
  },
  {
   "cell_type": "code",
   "execution_count": null,
   "id": "d56e581c-b5be-43e6-886e-a7812e6aa7ef",
   "metadata": {},
   "outputs": [],
   "source": []
  },
  {
   "cell_type": "code",
   "execution_count": 48,
   "id": "b3cdc651-f1ef-4192-b18f-8c3ba3fea912",
   "metadata": {},
   "outputs": [
    {
     "name": "stdout",
     "output_type": "stream",
     "text": [
      "\n",
      "Você tem 75.0 metros quadrados a serem pintados e 12.5 litros de tinta.\n",
      "Temos 3 possibilidades de valores:\n",
      "1o Opção: Galão com 18 litros. Custo R$ 80,00 cada. Necessitará de 0.69 galões.\n",
      "2o Opção: Lata com 3,6 litros. Custo R$ 25,00 cada. Necessitará de 3.47 latas.\n",
      "\n"
     ]
    }
   ],
   "source": [
    "print(f'''\n",
    "Você tem {tam_total} metros quadrados a serem pintados e {consumo} litros de tinta.\n",
    "Temos 3 possibilidades de valores:\n",
    "1o Opção: Galão com 18 litros. Custo R$ 80,00 cada. Necessitará de {consumo/18:.2f} galões.\n",
    "2o Opção: Lata com 3,6 litros. Custo R$ 25,00 cada. Necessitará de {consumo/3.6:.2f} latas.\n",
    "''')"
   ]
  },
  {
   "cell_type": "code",
   "execution_count": null,
   "id": "f25f0762-32d4-4d55-8843-b9ae52fe06ce",
   "metadata": {},
   "outputs": [],
   "source": []
  }
 ],
 "metadata": {
  "kernelspec": {
   "display_name": "Python 3 (ipykernel)",
   "language": "python",
   "name": "python3"
  },
  "language_info": {
   "codemirror_mode": {
    "name": "ipython",
    "version": 3
   },
   "file_extension": ".py",
   "mimetype": "text/x-python",
   "name": "python",
   "nbconvert_exporter": "python",
   "pygments_lexer": "ipython3",
   "version": "3.12.7"
  }
 },
 "nbformat": 4,
 "nbformat_minor": 5
}
