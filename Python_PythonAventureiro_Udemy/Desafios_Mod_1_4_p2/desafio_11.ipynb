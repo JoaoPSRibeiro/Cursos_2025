{
 "cells": [
  {
   "cell_type": "markdown",
   "id": "13cb6e1e-c7f3-48d6-87f6-600e2639849e",
   "metadata": {},
   "source": [
    "Faça um Programa que peça 2 números inteiros e um número real. Calcule e mostre"
   ]
  },
  {
   "cell_type": "markdown",
   "id": "e4cbbd8a-a56d-44e5-80a4-216e25278fd4",
   "metadata": {},
   "source": [
    "--> o produto do dobro do primeiro com metade do segundo .\n"
   ]
  },
  {
   "cell_type": "markdown",
   "id": "bb6356e2-525c-45f6-8db5-07864ce9dd1d",
   "metadata": {},
   "source": [
    "--> a soma do triplo do primeiro com o terceiro.\n"
   ]
  },
  {
   "cell_type": "markdown",
   "id": "a6a64e8b-4440-44a4-92f9-9f616bc8a001",
   "metadata": {},
   "source": [
    "--> o terceiro elevado ao cubo"
   ]
  },
  {
   "cell_type": "code",
   "execution_count": 10,
   "id": "e59860d8-6566-41a6-b452-97aa02298fb4",
   "metadata": {},
   "outputs": [
    {
     "name": "stdin",
     "output_type": "stream",
     "text": [
      "Digite o primeiro número inteiro:  10\n"
     ]
    }
   ],
   "source": [
    "num1_int = int(input('Digite o primeiro número inteiro: '))"
   ]
  },
  {
   "cell_type": "code",
   "execution_count": 20,
   "id": "4dbf29dc-bf11-478c-a84f-d558fcabdedf",
   "metadata": {},
   "outputs": [
    {
     "name": "stdin",
     "output_type": "stream",
     "text": [
      "Digite o segundo número inteiro:  6\n"
     ]
    }
   ],
   "source": [
    "num2_int = int(input('Digite o segundo número inteiro: '))"
   ]
  },
  {
   "cell_type": "code",
   "execution_count": 14,
   "id": "f74cafd1-cbee-4da7-94b8-954d6e1450e3",
   "metadata": {},
   "outputs": [
    {
     "name": "stdin",
     "output_type": "stream",
     "text": [
      "Digite o número real (com casa decimal:  5.5\n"
     ]
    }
   ],
   "source": [
    "num3_float = float(input('Digite o número real (com casa decimal: '))"
   ]
  },
  {
   "cell_type": "code",
   "execution_count": 22,
   "id": "e10e3fd3-1bad-48a3-b890-57f4e5f3db66",
   "metadata": {},
   "outputs": [],
   "source": [
    "des1 = (2*num1_int) / (num2_int/2)"
   ]
  },
  {
   "cell_type": "code",
   "execution_count": 41,
   "id": "9761338e-ec63-4990-8cf0-55f45f069983",
   "metadata": {},
   "outputs": [],
   "source": [
    "des2 = 3*num1_int + num3_float"
   ]
  },
  {
   "cell_type": "code",
   "execution_count": 43,
   "id": "4d36798b-ee78-49c7-a32c-c6200b09227f",
   "metadata": {},
   "outputs": [
    {
     "data": {
      "text/plain": [
       "35.5"
      ]
     },
     "execution_count": 43,
     "metadata": {},
     "output_type": "execute_result"
    }
   ],
   "source": [
    "des2"
   ]
  },
  {
   "cell_type": "code",
   "execution_count": 33,
   "id": "80082316-98fd-47d9-9666-8511568961df",
   "metadata": {},
   "outputs": [],
   "source": [
    "des3 = num3_float**3"
   ]
  },
  {
   "cell_type": "code",
   "execution_count": 39,
   "id": "087497ce-8a85-4258-8ab6-5b2833a692f4",
   "metadata": {},
   "outputs": [
    {
     "name": "stdout",
     "output_type": "stream",
     "text": [
      " o produto do dobro do primeiro com metade do segundo é 6.67\n"
     ]
    }
   ],
   "source": [
    "print(f' o produto do dobro do primeiro com metade do segundo é {des1:.2f}')"
   ]
  },
  {
   "cell_type": "code",
   "execution_count": 45,
   "id": "ff8b01f0-aa09-474a-8d21-2c1fbfd4429d",
   "metadata": {},
   "outputs": [
    {
     "name": "stdout",
     "output_type": "stream",
     "text": [
      "a soma do triplo do primeiro com o terceiro é 35.5\n"
     ]
    }
   ],
   "source": [
    "print(f'a soma do triplo do primeiro com o terceiro é {des2}')"
   ]
  },
  {
   "cell_type": "code",
   "execution_count": 49,
   "id": "c83fd2f3-bc06-4444-a066-712039caa8d1",
   "metadata": {},
   "outputs": [
    {
     "name": "stdout",
     "output_type": "stream",
     "text": [
      "o terceiro elevado ao cubo é 166.38\n"
     ]
    }
   ],
   "source": [
    "print(f'o terceiro elevado ao cubo é {des3:.2f}')"
   ]
  },
  {
   "cell_type": "code",
   "execution_count": null,
   "id": "803d533b-f59d-4ec2-afb0-c90adc68bf51",
   "metadata": {},
   "outputs": [],
   "source": []
  }
 ],
 "metadata": {
  "kernelspec": {
   "display_name": "Python 3 (ipykernel)",
   "language": "python",
   "name": "python3"
  },
  "language_info": {
   "codemirror_mode": {
    "name": "ipython",
    "version": 3
   },
   "file_extension": ".py",
   "mimetype": "text/x-python",
   "name": "python",
   "nbconvert_exporter": "python",
   "pygments_lexer": "ipython3",
   "version": "3.12.7"
  }
 },
 "nbformat": 4,
 "nbformat_minor": 5
}
