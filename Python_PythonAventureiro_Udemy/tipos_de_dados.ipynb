{
 "cells": [
  {
   "cell_type": "code",
   "execution_count": 11,
   "id": "989d788e-abf1-43a2-93a9-eab7d62667f5",
   "metadata": {},
   "outputs": [],
   "source": [
    "texto = 'curso de python, '"
   ]
  },
  {
   "cell_type": "code",
   "execution_count": null,
   "id": "8f6cc8dc-e699-4716-8baa-bcdb93aab384",
   "metadata": {},
   "outputs": [],
   "source": [
    "# caso queira colocar aspas dentro do texto, ela deve ser diferente das aspas de abertura e fechamento da String"
   ]
  },
  {
   "cell_type": "code",
   "execution_count": 13,
   "id": "ff0d5cf1-57ee-4067-818e-9a0ab2f20257",
   "metadata": {},
   "outputs": [],
   "source": [
    "texto2 = 'curso \"de\" python, '"
   ]
  },
  {
   "cell_type": "code",
   "execution_count": 17,
   "id": "a10de9d3-43ab-41cf-846d-f10dd432e87f",
   "metadata": {},
   "outputs": [],
   "source": [
    "# Se precisar usar aspas dentro de aspas, podemos usar a barra invertida que é o caracter de escape, ele manda o python ignorar o próximo caractere."
   ]
  },
  {
   "cell_type": "code",
   "execution_count": 7,
   "id": "063346a7-9b81-441c-b82c-f517be603bbc",
   "metadata": {},
   "outputs": [],
   "source": [
    "texto3 = 'curso \\'de\\' python'"
   ]
  },
  {
   "cell_type": "code",
   "execution_count": 15,
   "id": "8baae992-3f59-4623-a7a6-5d18b1f0fe37",
   "metadata": {},
   "outputs": [
    {
     "name": "stdout",
     "output_type": "stream",
     "text": [
      "curso de python,  curso \"de\" python,  curso 'de' python\n"
     ]
    }
   ],
   "source": [
    "print(texto, texto2, texto3)"
   ]
  },
  {
   "cell_type": "code",
   "execution_count": 23,
   "id": "d34197d8-1206-484f-89e4-3e60c2761cfc",
   "metadata": {},
   "outputs": [],
   "source": [
    "texto4 = '''olá\n",
    "como \n",
    "vai \n",
    "você\n",
    "meu \n",
    "amigo???'''"
   ]
  },
  {
   "cell_type": "code",
   "execution_count": 25,
   "id": "dc1f4da7-e8ba-46c1-b013-ef9dc479b1ea",
   "metadata": {},
   "outputs": [
    {
     "data": {
      "text/plain": [
       "'olá\\ncomo \\nvai \\nvocê\\nmeu \\namigo???'"
      ]
     },
     "execution_count": 25,
     "metadata": {},
     "output_type": "execute_result"
    }
   ],
   "source": [
    "texto4"
   ]
  },
  {
   "cell_type": "markdown",
   "id": "3a0b0bae-9193-4992-a6fe-7efa90ad3048",
   "metadata": {},
   "source": [
    "\"\"\" na linha debaixo, espera-se que o python vá até a pasta normas, mas ele não vai. Por que uma das barras antes \n",
    "de treinamentos será ignorada e a pasta normas, será cortada para ormas e teremos duas linhas por causa do \\n \"\"\" "
   ]
  },
  {
   "cell_type": "code",
   "execution_count": null,
   "id": "667780ca-ef03-406d-89b3-dcd39c8b895e",
   "metadata": {},
   "outputs": [],
   "source": [
    "caminho = 'C:\\\\treinamentos\\normas'"
   ]
  },
  {
   "cell_type": "code",
   "execution_count": 30,
   "id": "8cf9eac3-6454-4938-98ba-5d447d1371a7",
   "metadata": {},
   "outputs": [],
   "source": [
    "# para resolver o problema de cima, usamos a legtra r (minúscula)  anteas da String"
   ]
  },
  {
   "cell_type": "code",
   "execution_count": 32,
   "id": "13d2b992-3a56-4fe8-99ec-6b81d94fded5",
   "metadata": {},
   "outputs": [],
   "source": [
    "caminho2 = r'C:\\\\treinamentos\\normas'"
   ]
  },
  {
   "cell_type": "code",
   "execution_count": 34,
   "id": "76c00c3c-7bf5-4e0a-8c37-6cd30d7b725a",
   "metadata": {},
   "outputs": [
    {
     "data": {
      "text/plain": [
       "'C:\\\\\\\\treinamentos\\\\normas'"
      ]
     },
     "execution_count": 34,
     "metadata": {},
     "output_type": "execute_result"
    }
   ],
   "source": [
    "caminho2"
   ]
  },
  {
   "cell_type": "code",
   "execution_count": 36,
   "id": "0eed18ec-dd7a-41a8-9129-7c4a13022406",
   "metadata": {},
   "outputs": [
    {
     "name": "stdout",
     "output_type": "stream",
     "text": [
      "C:\\\\treinamentos\\normas\n"
     ]
    }
   ],
   "source": [
    "print(caminho2)"
   ]
  },
  {
   "cell_type": "code",
   "execution_count": 38,
   "id": "7a35402a-9c72-48dd-a8b6-585a1a8464d6",
   "metadata": {},
   "outputs": [],
   "source": [
    "complexo = 4 +3j"
   ]
  },
  {
   "cell_type": "code",
   "execution_count": 40,
   "id": "8f1cb2aa-a18e-40a2-8cf3-37f9eaca46aa",
   "metadata": {},
   "outputs": [
    {
     "data": {
      "text/plain": [
       "complex"
      ]
     },
     "execution_count": 40,
     "metadata": {},
     "output_type": "execute_result"
    }
   ],
   "source": [
    "type(complexo)"
   ]
  },
  {
   "cell_type": "code",
   "execution_count": 43,
   "id": "07ce7b98-d1ba-4148-822f-86b024429f15",
   "metadata": {},
   "outputs": [
    {
     "name": "stdout",
     "output_type": "stream",
     "text": [
      "linha 1 \\n linha 2\n"
     ]
    }
   ],
   "source": [
    " print(r'linha 1 \\n linha 2')"
   ]
  },
  {
   "cell_type": "code",
   "execution_count": null,
   "id": "35d5e4f4-04ef-4a7f-baf2-959c0506884e",
   "metadata": {},
   "outputs": [],
   "source": []
  }
 ],
 "metadata": {
  "kernelspec": {
   "display_name": "Python 3 (ipykernel)",
   "language": "python",
   "name": "python3"
  },
  "language_info": {
   "codemirror_mode": {
    "name": "ipython",
    "version": 3
   },
   "file_extension": ".py",
   "mimetype": "text/x-python",
   "name": "python",
   "nbconvert_exporter": "python",
   "pygments_lexer": "ipython3",
   "version": "3.12.7"
  }
 },
 "nbformat": 4,
 "nbformat_minor": 5
}
