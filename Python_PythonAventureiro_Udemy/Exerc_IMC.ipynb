{
 "cells": [
  {
   "cell_type": "code",
   "execution_count": 31,
   "id": "b73caa38-d4cf-4d6d-812d-842011665e78",
   "metadata": {},
   "outputs": [
    {
     "name": "stdin",
     "output_type": "stream",
     "text": [
      "Digite Seu Peso:  53.9\n"
     ]
    }
   ],
   "source": [
    "peso = float(input(\"Digite Seu Peso: \"))"
   ]
  },
  {
   "cell_type": "code",
   "execution_count": 35,
   "id": "8aa7aa1d-7910-46b0-9410-e8068fcc258a",
   "metadata": {},
   "outputs": [
    {
     "name": "stdin",
     "output_type": "stream",
     "text": [
      "Digite sua Altura (Não use vírgula e sim ponto para separar):  1.49\n"
     ]
    }
   ],
   "source": [
    "altura = float(input(\"Digite sua Altura (Não use vírgula e sim ponto para separar): \"))"
   ]
  },
  {
   "cell_type": "code",
   "execution_count": 37,
   "id": "c55ef645-75b2-4ce6-a293-dfcb4b170ae0",
   "metadata": {},
   "outputs": [],
   "source": [
    "imc = peso / altura ** 2"
   ]
  },
  {
   "cell_type": "code",
   "execution_count": 39,
   "id": "6ce7150e-d3b7-4eb4-bb4c-1528f4f8f0b7",
   "metadata": {},
   "outputs": [
    {
     "data": {
      "text/plain": [
       "24.278185667312282"
      ]
     },
     "execution_count": 39,
     "metadata": {},
     "output_type": "execute_result"
    }
   ],
   "source": [
    "imc"
   ]
  },
  {
   "cell_type": "code",
   "execution_count": null,
   "id": "42425481-5d83-4efe-8523-5924f74e435d",
   "metadata": {},
   "outputs": [],
   "source": []
  },
  {
   "cell_type": "code",
   "execution_count": null,
   "id": "a43d0470-c6a7-4f2d-a32f-2068e995d42d",
   "metadata": {},
   "outputs": [],
   "source": []
  }
 ],
 "metadata": {
  "kernelspec": {
   "display_name": "Python 3 (ipykernel)",
   "language": "python",
   "name": "python3"
  },
  "language_info": {
   "codemirror_mode": {
    "name": "ipython",
    "version": 3
   },
   "file_extension": ".py",
   "mimetype": "text/x-python",
   "name": "python",
   "nbconvert_exporter": "python",
   "pygments_lexer": "ipython3",
   "version": "3.12.7"
  }
 },
 "nbformat": 4,
 "nbformat_minor": 5
}
