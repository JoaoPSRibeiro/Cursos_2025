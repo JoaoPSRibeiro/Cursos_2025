{
 "cells": [
  {
   "cell_type": "code",
   "execution_count": 1,
   "id": "29608a5d-52ce-43d4-8523-596141afbf95",
   "metadata": {},
   "outputs": [
    {
     "name": "stdin",
     "output_type": "stream",
     "text": [
      "Digite seu peso em gramas (multiplique por 1000):  85000\n"
     ]
    }
   ],
   "source": [
    "peso = int(input(\"Digite seu peso em gramas (multiplique por 1000): \"))"
   ]
  },
  {
   "cell_type": "code",
   "execution_count": 3,
   "id": "06116d66-3471-467d-8c5d-7dba5e981144",
   "metadata": {},
   "outputs": [
    {
     "name": "stdin",
     "output_type": "stream",
     "text": [
      "Digite sua altura em Centímetros (sem casa decimal):  176\n"
     ]
    }
   ],
   "source": [
    "altura = int(input(\"Digite sua altura em Centímetros (sem casa decimal): \"))"
   ]
  },
  {
   "cell_type": "code",
   "execution_count": 7,
   "id": "faa49a97-263b-4ca2-b64c-15897fda870d",
   "metadata": {},
   "outputs": [],
   "source": [
    "alt = altura / 100"
   ]
  },
  {
   "cell_type": "code",
   "execution_count": 9,
   "id": "872319fe-451b-4b17-8035-b6c0e0c177b1",
   "metadata": {},
   "outputs": [],
   "source": [
    "imc = (peso/1000) / alt ** 2"
   ]
  },
  {
   "cell_type": "code",
   "execution_count": 11,
   "id": "a0be2bd1-e059-42fe-92d0-7072fd15411c",
   "metadata": {},
   "outputs": [
    {
     "data": {
      "text/plain": [
       "27.44059917355372"
      ]
     },
     "execution_count": 11,
     "metadata": {},
     "output_type": "execute_result"
    }
   ],
   "source": [
    "imc"
   ]
  },
  {
   "cell_type": "code",
   "execution_count": null,
   "id": "b87e5b78-e5a5-4c83-87b0-f1c4b7727b75",
   "metadata": {},
   "outputs": [],
   "source": []
  }
 ],
 "metadata": {
  "kernelspec": {
   "display_name": "Python 3 (ipykernel)",
   "language": "python",
   "name": "python3"
  },
  "language_info": {
   "codemirror_mode": {
    "name": "ipython",
    "version": 3
   },
   "file_extension": ".py",
   "mimetype": "text/x-python",
   "name": "python",
   "nbconvert_exporter": "python",
   "pygments_lexer": "ipython3",
   "version": "3.12.7"
  }
 },
 "nbformat": 4,
 "nbformat_minor": 5
}
